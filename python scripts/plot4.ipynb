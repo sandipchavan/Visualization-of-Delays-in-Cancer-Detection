{
 "cells": [
  {
   "cell_type": "code",
   "execution_count": 2,
   "metadata": {
    "collapsed": true
   },
   "outputs": [],
   "source": [
    "import pandas as pd"
   ]
  },
  {
   "cell_type": "code",
   "execution_count": 5,
   "metadata": {
    "collapsed": true
   },
   "outputs": [],
   "source": [
    "import random"
   ]
  },
  {
   "cell_type": "code",
   "execution_count": 6,
   "metadata": {
    "collapsed": true
   },
   "outputs": [],
   "source": [
    "import datetime"
   ]
  },
  {
   "cell_type": "code",
   "execution_count": 3,
   "metadata": {},
   "outputs": [],
   "source": [
    "\n",
    "df7=pd.read_excel('cancer_data6.xlsx',sheet_name='Surgery&other procedures')"
   ]
  },
  {
   "cell_type": "code",
   "execution_count": 9,
   "metadata": {
    "collapsed": true
   },
   "outputs": [],
   "source": [
    "df8=pd.read_excel('cancer_data6.xlsx',sheet_name='Pathology Details')"
   ]
  },
  {
   "cell_type": "code",
   "execution_count": 10,
   "metadata": {},
   "outputs": [
    {
     "data": {
      "text/html": [
       "<div>\n",
       "<style scoped>\n",
       "    .dataframe tbody tr th:only-of-type {\n",
       "        vertical-align: middle;\n",
       "    }\n",
       "\n",
       "    .dataframe tbody tr th {\n",
       "        vertical-align: top;\n",
       "    }\n",
       "\n",
       "    .dataframe thead th {\n",
       "        text-align: right;\n",
       "    }\n",
       "</style>\n",
       "<table border=\"1\" class=\"dataframe\">\n",
       "  <thead>\n",
       "    <tr style=\"text-align: right;\">\n",
       "      <th></th>\n",
       "      <th>LOCAL_PATIENT_IDENTIFIER</th>\n",
       "      <th>PATHOLOGY INVESTIGATION TYPE</th>\n",
       "      <th>SAMPLE RECEIPT DATE</th>\n",
       "      <th>INVESTIGATION RESULT DATE</th>\n",
       "      <th>CONSULTANT CODE (PATHOLOGIST)</th>\n",
       "      <th>ORGANISATION CODE (OF REPORTING PATHOLOGY)</th>\n",
       "      <th>PRIMARY DIAGNOSIS (ICD)</th>\n",
       "      <th>TUMOUR LATERALITY</th>\n",
       "      <th>INVASIVE LESION SIZE</th>\n",
       "      <th>SYNCHRONOUS TUMOUR INDICATOR</th>\n",
       "      <th>...</th>\n",
       "      <th>EXCISION MARGIN</th>\n",
       "      <th>NODES EXAMINED NUMBER</th>\n",
       "      <th>NODES POSITIVE NUMBER</th>\n",
       "      <th>T CATEGORY (PATHOLOGICAL)</th>\n",
       "      <th>N CATEGORY (PATHOLOGICAL)</th>\n",
       "      <th>M CATEGORY (PATHOLOGICAL)</th>\n",
       "      <th>TNM CATEGORY (PATHOLOGICAL)</th>\n",
       "      <th>SERVICE REPORT IDENTIFIER</th>\n",
       "      <th>SERVICE REPORT STATUS</th>\n",
       "      <th>SPECIMEN NATURE</th>\n",
       "    </tr>\n",
       "  </thead>\n",
       "  <tbody>\n",
       "    <tr>\n",
       "      <th>0</th>\n",
       "      <td>L_CPP100</td>\n",
       "      <td>CY_Cytology</td>\n",
       "      <td>2017-02-23 13:37:09</td>\n",
       "      <td>2017-03-08 17:37:09</td>\n",
       "      <td>GMP-DR_PT2</td>\n",
       "      <td>MCCT</td>\n",
       "      <td>ICD4</td>\n",
       "      <td>L_Left</td>\n",
       "      <td>4.1-6.0</td>\n",
       "      <td>Y_Yes, synchronous tumours present</td>\n",
       "      <td>...</td>\n",
       "      <td>05_Tumour reaches tumour margin</td>\n",
       "      <td>7</td>\n",
       "      <td>3</td>\n",
       "      <td>-</td>\n",
       "      <td>TNM TYPE = 2, CANCER STAGING TYPE = 2</td>\n",
       "      <td>TNM TYPE = 3, CANCER STAGING TYPE = 2</td>\n",
       "      <td>TNM TYPE = 4, CANCER STAGING TYPE = 1</td>\n",
       "      <td>L_SRI100_MCC</td>\n",
       "      <td>4_Unspecified</td>\n",
       "      <td>2_ Re-excision of primary tumour</td>\n",
       "    </tr>\n",
       "    <tr>\n",
       "      <th>1</th>\n",
       "      <td>R_CPP101</td>\n",
       "      <td>BX_Biopsy</td>\n",
       "      <td>2017-02-23 01:06:57</td>\n",
       "      <td>2017-03-09 09:06:57</td>\n",
       "      <td>GMP-DR_PT1</td>\n",
       "      <td>MCCT</td>\n",
       "      <td>ICD7</td>\n",
       "      <td>L_Left</td>\n",
       "      <td>6.1-8.0</td>\n",
       "      <td>Y_Yes, synchronous tumours present</td>\n",
       "      <td>...</td>\n",
       "      <td>01_Excision margins are clear (distance from m...</td>\n",
       "      <td>15</td>\n",
       "      <td>3</td>\n",
       "      <td>-</td>\n",
       "      <td>TNM TYPE = 2, CANCER STAGING TYPE = 2</td>\n",
       "      <td>-</td>\n",
       "      <td>-</td>\n",
       "      <td>R_SRI101_MCC</td>\n",
       "      <td>1_Final (complete)</td>\n",
       "      <td>9_Not known</td>\n",
       "    </tr>\n",
       "    <tr>\n",
       "      <th>2</th>\n",
       "      <td>L_CPP102</td>\n",
       "      <td>BX_Biopsy</td>\n",
       "      <td>2017-03-10 17:13:24</td>\n",
       "      <td>2017-03-25 18:13:24</td>\n",
       "      <td>GMP-DR_PT1</td>\n",
       "      <td>MCCT</td>\n",
       "      <td>ICD5</td>\n",
       "      <td>L_Left</td>\n",
       "      <td>2.1-4.0</td>\n",
       "      <td>Y_Yes, synchronous tumours present</td>\n",
       "      <td>...</td>\n",
       "      <td>03_Excision margins are clear (tumour &gt;1mm but...</td>\n",
       "      <td>6</td>\n",
       "      <td>2</td>\n",
       "      <td>TNM TYPE = 1, CANCER STAGING TYPE = 2</td>\n",
       "      <td>-</td>\n",
       "      <td>-</td>\n",
       "      <td>TNM TYPE = 4, CANCER STAGING TYPE = 1</td>\n",
       "      <td>L_SRI102_MCC</td>\n",
       "      <td>1_Final (complete)</td>\n",
       "      <td>9_Not known</td>\n",
       "    </tr>\n",
       "    <tr>\n",
       "      <th>3</th>\n",
       "      <td>L_CPP103</td>\n",
       "      <td>CY_Cytology</td>\n",
       "      <td>2017-02-22 20:48:52</td>\n",
       "      <td>2017-03-09 22:48:52</td>\n",
       "      <td>GMP-DR_PT2</td>\n",
       "      <td>MCCT</td>\n",
       "      <td>ICD3</td>\n",
       "      <td>R_Right</td>\n",
       "      <td>2.9</td>\n",
       "      <td>Y_Yes, synchronous tumours present</td>\n",
       "      <td>...</td>\n",
       "      <td>01_Excision margins are clear (distance from m...</td>\n",
       "      <td>14</td>\n",
       "      <td>2</td>\n",
       "      <td>-</td>\n",
       "      <td>TNM TYPE = 2, CANCER STAGING TYPE = 2</td>\n",
       "      <td>TNM TYPE = 3, CANCER STAGING TYPE = 2</td>\n",
       "      <td>-</td>\n",
       "      <td>L_SRI103_MCC</td>\n",
       "      <td>3_Test not available</td>\n",
       "      <td>4_Nodes</td>\n",
       "    </tr>\n",
       "    <tr>\n",
       "      <th>4</th>\n",
       "      <td>L_CPP104</td>\n",
       "      <td>BX_Biopsy</td>\n",
       "      <td>2017-02-25 05:11:12</td>\n",
       "      <td>2017-03-12 10:11:12</td>\n",
       "      <td>GMP-DR_PT1</td>\n",
       "      <td>MCCT</td>\n",
       "      <td>ICD1</td>\n",
       "      <td>L_Left</td>\n",
       "      <td>6.1-8.0</td>\n",
       "      <td>N_No, no synchronous tumours present</td>\n",
       "      <td>...</td>\n",
       "      <td>01_Excision margins are clear (distance from m...</td>\n",
       "      <td>9</td>\n",
       "      <td>2</td>\n",
       "      <td>TNM TYPE = 1, CANCER STAGING TYPE = 2</td>\n",
       "      <td>TNM TYPE = 2, CANCER STAGING TYPE = 2</td>\n",
       "      <td>TNM TYPE = 3, CANCER STAGING TYPE = 2</td>\n",
       "      <td>TNM TYPE = 4, CANCER STAGING TYPE = 1</td>\n",
       "      <td>L_SRI104_MCC</td>\n",
       "      <td>4_Unspecified</td>\n",
       "      <td>5_Metastatic site other than nodes</td>\n",
       "    </tr>\n",
       "  </tbody>\n",
       "</table>\n",
       "<p>5 rows × 23 columns</p>\n",
       "</div>"
      ],
      "text/plain": [
       "  LOCAL_PATIENT_IDENTIFIER PATHOLOGY INVESTIGATION TYPE SAMPLE RECEIPT DATE  \\\n",
       "0                 L_CPP100                  CY_Cytology 2017-02-23 13:37:09   \n",
       "1                 R_CPP101                    BX_Biopsy 2017-02-23 01:06:57   \n",
       "2                 L_CPP102                    BX_Biopsy 2017-03-10 17:13:24   \n",
       "3                 L_CPP103                  CY_Cytology 2017-02-22 20:48:52   \n",
       "4                 L_CPP104                    BX_Biopsy 2017-02-25 05:11:12   \n",
       "\n",
       "  INVESTIGATION RESULT DATE CONSULTANT CODE (PATHOLOGIST)  \\\n",
       "0       2017-03-08 17:37:09                    GMP-DR_PT2   \n",
       "1       2017-03-09 09:06:57                    GMP-DR_PT1   \n",
       "2       2017-03-25 18:13:24                    GMP-DR_PT1   \n",
       "3       2017-03-09 22:48:52                    GMP-DR_PT2   \n",
       "4       2017-03-12 10:11:12                    GMP-DR_PT1   \n",
       "\n",
       "  ORGANISATION CODE (OF REPORTING PATHOLOGY) PRIMARY DIAGNOSIS (ICD)  \\\n",
       "0                                       MCCT                    ICD4   \n",
       "1                                       MCCT                    ICD7   \n",
       "2                                       MCCT                    ICD5   \n",
       "3                                       MCCT                    ICD3   \n",
       "4                                       MCCT                    ICD1   \n",
       "\n",
       "  TUMOUR LATERALITY INVASIVE LESION SIZE  \\\n",
       "0            L_Left              4.1-6.0   \n",
       "1            L_Left              6.1-8.0   \n",
       "2            L_Left              2.1-4.0   \n",
       "3           R_Right                  2.9   \n",
       "4            L_Left              6.1-8.0   \n",
       "\n",
       "           SYNCHRONOUS TUMOUR INDICATOR                 ...                  \\\n",
       "0    Y_Yes, synchronous tumours present                 ...                   \n",
       "1    Y_Yes, synchronous tumours present                 ...                   \n",
       "2    Y_Yes, synchronous tumours present                 ...                   \n",
       "3    Y_Yes, synchronous tumours present                 ...                   \n",
       "4  N_No, no synchronous tumours present                 ...                   \n",
       "\n",
       "                                     EXCISION MARGIN NODES EXAMINED NUMBER  \\\n",
       "0                    05_Tumour reaches tumour margin                     7   \n",
       "1  01_Excision margins are clear (distance from m...                    15   \n",
       "2  03_Excision margins are clear (tumour >1mm but...                     6   \n",
       "3  01_Excision margins are clear (distance from m...                    14   \n",
       "4  01_Excision margins are clear (distance from m...                     9   \n",
       "\n",
       "  NODES POSITIVE NUMBER              T CATEGORY (PATHOLOGICAL)  \\\n",
       "0                     3                                      -   \n",
       "1                     3                                      -   \n",
       "2                     2  TNM TYPE = 1, CANCER STAGING TYPE = 2   \n",
       "3                     2                                      -   \n",
       "4                     2  TNM TYPE = 1, CANCER STAGING TYPE = 2   \n",
       "\n",
       "               N CATEGORY (PATHOLOGICAL)  \\\n",
       "0  TNM TYPE = 2, CANCER STAGING TYPE = 2   \n",
       "1  TNM TYPE = 2, CANCER STAGING TYPE = 2   \n",
       "2                                      -   \n",
       "3  TNM TYPE = 2, CANCER STAGING TYPE = 2   \n",
       "4  TNM TYPE = 2, CANCER STAGING TYPE = 2   \n",
       "\n",
       "               M CATEGORY (PATHOLOGICAL)  \\\n",
       "0  TNM TYPE = 3, CANCER STAGING TYPE = 2   \n",
       "1                                      -   \n",
       "2                                      -   \n",
       "3  TNM TYPE = 3, CANCER STAGING TYPE = 2   \n",
       "4  TNM TYPE = 3, CANCER STAGING TYPE = 2   \n",
       "\n",
       "             TNM CATEGORY (PATHOLOGICAL) SERVICE REPORT IDENTIFIER  \\\n",
       "0  TNM TYPE = 4, CANCER STAGING TYPE = 1              L_SRI100_MCC   \n",
       "1                                      -              R_SRI101_MCC   \n",
       "2  TNM TYPE = 4, CANCER STAGING TYPE = 1              L_SRI102_MCC   \n",
       "3                                      -              L_SRI103_MCC   \n",
       "4  TNM TYPE = 4, CANCER STAGING TYPE = 1              L_SRI104_MCC   \n",
       "\n",
       "  SERVICE REPORT STATUS                     SPECIMEN NATURE  \n",
       "0         4_Unspecified    2_ Re-excision of primary tumour  \n",
       "1    1_Final (complete)                         9_Not known  \n",
       "2    1_Final (complete)                         9_Not known  \n",
       "3  3_Test not available                             4_Nodes  \n",
       "4         4_Unspecified  5_Metastatic site other than nodes  \n",
       "\n",
       "[5 rows x 23 columns]"
      ]
     },
     "execution_count": 10,
     "metadata": {},
     "output_type": "execute_result"
    }
   ],
   "source": [
    "df8.head()"
   ]
  },
  {
   "cell_type": "code",
   "execution_count": 13,
   "metadata": {},
   "outputs": [],
   "source": [
    "df7['START DATE (SURGERY HOSPITAL PROVIDER SPELL)']=df8.apply(lambda x:x['INVESTIGATION RESULT DATE']+datetime.timedelta(days=random.randint(21,22)),axis=1)"
   ]
  },
  {
   "cell_type": "code",
   "execution_count": 15,
   "metadata": {},
   "outputs": [],
   "source": [
    "df7.to_excel(\"surgery&otherprocedure_startDate.xlsx\",index=None)"
   ]
  },
  {
   "cell_type": "code",
   "execution_count": 16,
   "metadata": {
    "collapsed": true
   },
   "outputs": [],
   "source": [
    "df9=pd.read_excel(\"cancer_data6.xlsx\",sheet_name=\"chemotheropy & other drugs\")"
   ]
  },
  {
   "cell_type": "code",
   "execution_count": 18,
   "metadata": {
    "collapsed": true
   },
   "outputs": [],
   "source": [
    "lst=[15,30]"
   ]
  },
  {
   "cell_type": "code",
   "execution_count": 19,
   "metadata": {},
   "outputs": [],
   "source": [
    "df9['DAY NUMBER (ANTI-CANCER DRUG CYCLE)']=df9.apply(lambda x:x['START DATE (ANTI-CANCER DRUG FRACTION)']+datetime.timedelta(days=lst[random.randint(0,1)]),axis=1)"
   ]
  },
  {
   "cell_type": "code",
   "execution_count": 20,
   "metadata": {},
   "outputs": [
    {
     "data": {
      "text/html": [
       "<div>\n",
       "<style scoped>\n",
       "    .dataframe tbody tr th:only-of-type {\n",
       "        vertical-align: middle;\n",
       "    }\n",
       "\n",
       "    .dataframe tbody tr th {\n",
       "        vertical-align: top;\n",
       "    }\n",
       "\n",
       "    .dataframe thead th {\n",
       "        text-align: right;\n",
       "    }\n",
       "</style>\n",
       "<table border=\"1\" class=\"dataframe\">\n",
       "  <thead>\n",
       "    <tr style=\"text-align: right;\">\n",
       "      <th></th>\n",
       "      <th>LOCAL_PATIENT_IDENTIFIER</th>\n",
       "      <th>SITE CODE (OF SURGERY)</th>\n",
       "      <th>CONSULTANT_CODE</th>\n",
       "      <th>MAIN_SPECIALITY_CODE</th>\n",
       "      <th>DECISION TO TREAT DATE (ANTI-CANCER DRUG REGIMEN)</th>\n",
       "      <th>DRUG THERAPY TYPE</th>\n",
       "      <th>DRUG TREATMENT INTENT</th>\n",
       "      <th>DRUG REGIMEN ACRONYM</th>\n",
       "      <th>START DATE (ANTI-CANCER DRUG REGIMEN)</th>\n",
       "      <th>RECORDED HEIGHT (CANCER DRUG TREATMENT)</th>\n",
       "      <th>RECORDED WEIGHT (CANCER DRUG TREATMENT)</th>\n",
       "      <th>PERSON BODY SURFACE AREA (PRETREATMENT)</th>\n",
       "      <th>CREATININE CLEARANCE</th>\n",
       "      <th>START DATE (ANTI-CANCER DRUG FRACTION)</th>\n",
       "      <th>ANTI-CANCER DRUG CYCLE IDENTIFIER</th>\n",
       "      <th>DAY NUMBER (ANTI-CANCER DRUG CYCLE)</th>\n",
       "      <th>DURATION OF ANTI-CANCER DRUG CYCLE</th>\n",
       "      <th>DRUG PROGRAMME RESPONSE</th>\n",
       "      <th>PLANNED TREATMENT CHANGE REASON</th>\n",
       "      <th>HEALTHCARE RESOURCE GROUP CODE</th>\n",
       "    </tr>\n",
       "  </thead>\n",
       "  <tbody>\n",
       "    <tr>\n",
       "      <th>0</th>\n",
       "      <td>L_CPP100</td>\n",
       "      <td>L_SPP100 MCC</td>\n",
       "      <td>GMP-DR3</td>\n",
       "      <td>823_HAEMATOLOGY</td>\n",
       "      <td>2017-02-22 12:37:09</td>\n",
       "      <td>C_Chemotherapy</td>\n",
       "      <td>N_Neoadjuvent</td>\n",
       "      <td>AC_Dorubicin and Cyclophosphamide</td>\n",
       "      <td>2017-03-30 17:37:09</td>\n",
       "      <td>5.285020</td>\n",
       "      <td>40</td>\n",
       "      <td>1.496118</td>\n",
       "      <td>56mL/min</td>\n",
       "      <td>2017-03-30 17:37:09</td>\n",
       "      <td>L_CHMPP100</td>\n",
       "      <td>2017-04-14 17:37:09</td>\n",
       "      <td>15 days</td>\n",
       "      <td>1_Complete response</td>\n",
       "      <td>4_Technical or organisational problems</td>\n",
       "      <td>MCCT</td>\n",
       "    </tr>\n",
       "    <tr>\n",
       "      <th>1</th>\n",
       "      <td>R_CPP101</td>\n",
       "      <td>R_SPP101 MCC</td>\n",
       "      <td>GMP-DR4</td>\n",
       "      <td>824_HISTOPATHOLOGY</td>\n",
       "      <td>2017-02-22 00:06:57</td>\n",
       "      <td>I_Immunotherapy</td>\n",
       "      <td>C_Curative</td>\n",
       "      <td>CMF_Cyclophosphamide, Methotrexate &amp; 5-Fluorou...</td>\n",
       "      <td>2017-03-30 09:06:57</td>\n",
       "      <td>5.563935</td>\n",
       "      <td>40</td>\n",
       "      <td>1.552956</td>\n",
       "      <td>130mL/min</td>\n",
       "      <td>2017-03-30 09:06:57</td>\n",
       "      <td>R_CHMPP101</td>\n",
       "      <td>2017-04-29 09:06:57</td>\n",
       "      <td>30 days</td>\n",
       "      <td>6_Unassessable</td>\n",
       "      <td>3_Acute chemotherapy toxicity</td>\n",
       "      <td>MCCT</td>\n",
       "    </tr>\n",
       "    <tr>\n",
       "      <th>2</th>\n",
       "      <td>L_CPP102</td>\n",
       "      <td>L_SPP102 MCC</td>\n",
       "      <td>GMP-DR3</td>\n",
       "      <td>823_HAEMATOLOGY</td>\n",
       "      <td>2017-03-09 16:13:24</td>\n",
       "      <td>I_Immunotherapy</td>\n",
       "      <td>C_Curative</td>\n",
       "      <td>AC_Dorubicin and Cyclophosphamide</td>\n",
       "      <td>2017-04-15 18:13:24</td>\n",
       "      <td>5.531317</td>\n",
       "      <td>49</td>\n",
       "      <td>1.685643</td>\n",
       "      <td>82mL/min</td>\n",
       "      <td>2017-04-15 18:13:24</td>\n",
       "      <td>L_CHMPP102</td>\n",
       "      <td>2017-04-30 18:13:24</td>\n",
       "      <td>15 days</td>\n",
       "      <td>6_Unassessable</td>\n",
       "      <td>3_Acute chemotherapy toxicity</td>\n",
       "      <td>MCCT</td>\n",
       "    </tr>\n",
       "    <tr>\n",
       "      <th>3</th>\n",
       "      <td>L_CPP103</td>\n",
       "      <td>L_SPP103 MCC</td>\n",
       "      <td>GMP-DR1</td>\n",
       "      <td>370_MEDICAL ONCOLOGY</td>\n",
       "      <td>2017-02-21 19:48:52</td>\n",
       "      <td>O_Other</td>\n",
       "      <td>C_Curative</td>\n",
       "      <td>AC_Dorubicin and Cyclophosphamide</td>\n",
       "      <td>2017-03-31 22:48:52</td>\n",
       "      <td>5.643126</td>\n",
       "      <td>62</td>\n",
       "      <td>1.890166</td>\n",
       "      <td>85mL/min</td>\n",
       "      <td>2017-03-31 22:48:52</td>\n",
       "      <td>L_CHMPP103</td>\n",
       "      <td>2017-04-15 22:48:52</td>\n",
       "      <td>30 days</td>\n",
       "      <td>1_Complete response</td>\n",
       "      <td>1_Patient died</td>\n",
       "      <td>MCCT</td>\n",
       "    </tr>\n",
       "    <tr>\n",
       "      <th>4</th>\n",
       "      <td>L_CPP104</td>\n",
       "      <td>L_SPP104 MCC</td>\n",
       "      <td>GMP-DR3</td>\n",
       "      <td>823_HAEMATOLOGY</td>\n",
       "      <td>2017-02-24 04:11:12</td>\n",
       "      <td>H_Hormone / endocrine therapy</td>\n",
       "      <td>N_Neoadjuvent</td>\n",
       "      <td>AC_Dorubicin and Cyclophosphamide</td>\n",
       "      <td>2017-04-02 10:11:12</td>\n",
       "      <td>6.027736</td>\n",
       "      <td>68</td>\n",
       "      <td>2.062100</td>\n",
       "      <td>116mL/min</td>\n",
       "      <td>2017-04-02 10:11:12</td>\n",
       "      <td>L_CHMPP104</td>\n",
       "      <td>2017-05-02 10:11:12</td>\n",
       "      <td>30 days</td>\n",
       "      <td>3_Static disease</td>\n",
       "      <td>4_Technical or organisational problems</td>\n",
       "      <td>MCCT</td>\n",
       "    </tr>\n",
       "  </tbody>\n",
       "</table>\n",
       "</div>"
      ],
      "text/plain": [
       "  LOCAL_PATIENT_IDENTIFIER SITE CODE (OF SURGERY) CONSULTANT_CODE  \\\n",
       "0                 L_CPP100           L_SPP100 MCC         GMP-DR3   \n",
       "1                 R_CPP101           R_SPP101 MCC         GMP-DR4   \n",
       "2                 L_CPP102           L_SPP102 MCC         GMP-DR3   \n",
       "3                 L_CPP103           L_SPP103 MCC         GMP-DR1   \n",
       "4                 L_CPP104           L_SPP104 MCC         GMP-DR3   \n",
       "\n",
       "   MAIN_SPECIALITY_CODE DECISION TO TREAT DATE (ANTI-CANCER DRUG REGIMEN)  \\\n",
       "0       823_HAEMATOLOGY                               2017-02-22 12:37:09   \n",
       "1    824_HISTOPATHOLOGY                               2017-02-22 00:06:57   \n",
       "2       823_HAEMATOLOGY                               2017-03-09 16:13:24   \n",
       "3  370_MEDICAL ONCOLOGY                               2017-02-21 19:48:52   \n",
       "4       823_HAEMATOLOGY                               2017-02-24 04:11:12   \n",
       "\n",
       "               DRUG THERAPY TYPE DRUG TREATMENT INTENT  \\\n",
       "0                 C_Chemotherapy         N_Neoadjuvent   \n",
       "1                I_Immunotherapy            C_Curative   \n",
       "2                I_Immunotherapy            C_Curative   \n",
       "3                        O_Other            C_Curative   \n",
       "4  H_Hormone / endocrine therapy         N_Neoadjuvent   \n",
       "\n",
       "                                DRUG REGIMEN ACRONYM  \\\n",
       "0                  AC_Dorubicin and Cyclophosphamide   \n",
       "1  CMF_Cyclophosphamide, Methotrexate & 5-Fluorou...   \n",
       "2                  AC_Dorubicin and Cyclophosphamide   \n",
       "3                  AC_Dorubicin and Cyclophosphamide   \n",
       "4                  AC_Dorubicin and Cyclophosphamide   \n",
       "\n",
       "  START DATE (ANTI-CANCER DRUG REGIMEN)  \\\n",
       "0                   2017-03-30 17:37:09   \n",
       "1                   2017-03-30 09:06:57   \n",
       "2                   2017-04-15 18:13:24   \n",
       "3                   2017-03-31 22:48:52   \n",
       "4                   2017-04-02 10:11:12   \n",
       "\n",
       "   RECORDED HEIGHT (CANCER DRUG TREATMENT)  \\\n",
       "0                                 5.285020   \n",
       "1                                 5.563935   \n",
       "2                                 5.531317   \n",
       "3                                 5.643126   \n",
       "4                                 6.027736   \n",
       "\n",
       "   RECORDED WEIGHT (CANCER DRUG TREATMENT)  \\\n",
       "0                                       40   \n",
       "1                                       40   \n",
       "2                                       49   \n",
       "3                                       62   \n",
       "4                                       68   \n",
       "\n",
       "   PERSON BODY SURFACE AREA (PRETREATMENT) CREATININE CLEARANCE  \\\n",
       "0                                 1.496118             56mL/min   \n",
       "1                                 1.552956            130mL/min   \n",
       "2                                 1.685643             82mL/min   \n",
       "3                                 1.890166             85mL/min   \n",
       "4                                 2.062100            116mL/min   \n",
       "\n",
       "  START DATE (ANTI-CANCER DRUG FRACTION) ANTI-CANCER DRUG CYCLE IDENTIFIER  \\\n",
       "0                    2017-03-30 17:37:09                        L_CHMPP100   \n",
       "1                    2017-03-30 09:06:57                        R_CHMPP101   \n",
       "2                    2017-04-15 18:13:24                        L_CHMPP102   \n",
       "3                    2017-03-31 22:48:52                        L_CHMPP103   \n",
       "4                    2017-04-02 10:11:12                        L_CHMPP104   \n",
       "\n",
       "  DAY NUMBER (ANTI-CANCER DRUG CYCLE) DURATION OF ANTI-CANCER DRUG CYCLE  \\\n",
       "0                 2017-04-14 17:37:09                           15 days    \n",
       "1                 2017-04-29 09:06:57                           30 days    \n",
       "2                 2017-04-30 18:13:24                           15 days    \n",
       "3                 2017-04-15 22:48:52                           30 days    \n",
       "4                 2017-05-02 10:11:12                           30 days    \n",
       "\n",
       "  DRUG PROGRAMME RESPONSE         PLANNED TREATMENT CHANGE REASON  \\\n",
       "0     1_Complete response  4_Technical or organisational problems   \n",
       "1          6_Unassessable           3_Acute chemotherapy toxicity   \n",
       "2          6_Unassessable           3_Acute chemotherapy toxicity   \n",
       "3     1_Complete response                          1_Patient died   \n",
       "4        3_Static disease  4_Technical or organisational problems   \n",
       "\n",
       "  HEALTHCARE RESOURCE GROUP CODE  \n",
       "0                           MCCT  \n",
       "1                           MCCT  \n",
       "2                           MCCT  \n",
       "3                           MCCT  \n",
       "4                           MCCT  "
      ]
     },
     "execution_count": 20,
     "metadata": {},
     "output_type": "execute_result"
    }
   ],
   "source": [
    "df9.head()"
   ]
  },
  {
   "cell_type": "code",
   "execution_count": 21,
   "metadata": {
    "collapsed": true
   },
   "outputs": [],
   "source": [
    "df9.to_excel('chemo.xlsx')"
   ]
  },
  {
   "cell_type": "code",
   "execution_count": 22,
   "metadata": {
    "collapsed": true
   },
   "outputs": [],
   "source": [
    "df5=pd.read_excel('cancer_data6.xlsx',sheet_name='CANCER CARE PLAN')"
   ]
  },
  {
   "cell_type": "code",
   "execution_count": 23,
   "metadata": {
    "collapsed": true
   },
   "outputs": [],
   "source": [
    "df8=pd.read_excel('cancer_data6.xlsx',sheet_name='Pathology Details')"
   ]
  },
  {
   "cell_type": "code",
   "execution_count": 26,
   "metadata": {},
   "outputs": [],
   "source": [
    "secondLevelDelay=pd.DataFrame()"
   ]
  },
  {
   "cell_type": "code",
   "execution_count": 28,
   "metadata": {},
   "outputs": [],
   "source": [
    "secondLevelDelay['delay1_investigationResultDate&CarePlanAgreedDate']=df8['INVESTIGATION RESULT DATE']-df5['CARE PLAN AGREED DATE']"
   ]
  },
  {
   "cell_type": "code",
   "execution_count": 30,
   "metadata": {},
   "outputs": [],
   "source": [
    "secondLevelDelay['delay2_startDatesugeryspell&InvestigationResultDate']=df7['START DATE (SURGERY HOSPITAL PROVIDER SPELL)']-df8['INVESTIGATION RESULT DATE']"
   ]
  },
  {
   "cell_type": "code",
   "execution_count": 31,
   "metadata": {
    "collapsed": true
   },
   "outputs": [],
   "source": [
    "df9=pd.read_excel(\"cancer_data6.xlsx\",sheet_name=\"chemotheropy & other drugs\")"
   ]
  },
  {
   "cell_type": "code",
   "execution_count": 33,
   "metadata": {},
   "outputs": [],
   "source": [
    "secondLevelDelay['delay3_startDateAntiCancerRegime&investigationResultDate']=df9['START DATE (ANTI-CANCER DRUG REGIMEN)']-df8['INVESTIGATION RESULT DATE']"
   ]
  },
  {
   "cell_type": "code",
   "execution_count": 34,
   "metadata": {
    "collapsed": true
   },
   "outputs": [],
   "source": [
    "df10=pd.read_excel(\"cancer_data6.xlsx\",sheet_name=\"Radiotherapy(Teletherapy)\")"
   ]
  },
  {
   "cell_type": "code",
   "execution_count": 36,
   "metadata": {},
   "outputs": [],
   "source": [
    "secondLevelDelay['delay4_startDateTele&InvestigationResultDate']=df10['START DATE (TELETHERAPY TREATMENT COURSE)']-df8[\"INVESTIGATION RESULT DATE\"]"
   ]
  },
  {
   "cell_type": "code",
   "execution_count": 37,
   "metadata": {
    "collapsed": true
   },
   "outputs": [],
   "source": [
    "df11=pd.read_excel(\"cancer_data6.xlsx\",sheet_name='Radiotherapy(Brachytherapy)')"
   ]
  },
  {
   "cell_type": "code",
   "execution_count": 39,
   "metadata": {},
   "outputs": [],
   "source": [
    "secondLevelDelay['delay5_startDateBrach&InvestigationResultDate']=df11['START DATE (BRACHYTHERAPY TREATMENT COURSE)']-df8['INVESTIGATION RESULT DATE']"
   ]
  },
  {
   "cell_type": "code",
   "execution_count": 40,
   "metadata": {
    "collapsed": true
   },
   "outputs": [],
   "source": [
    "df14=pd.read_excel(\"cancer_data6.xlsx\",sheet_name='Clinical Status Assesment')"
   ]
  },
  {
   "cell_type": "code",
   "execution_count": 43,
   "metadata": {},
   "outputs": [],
   "source": [
    "secondLevelDelay['delay6_clinicalAssesment&investigation']=df14['CLINICAL STATUS ASSESSMENT DATE (CANCER)']-df8[\"INVESTIGATION RESULT DATE\"]"
   ]
  },
  {
   "cell_type": "code",
   "execution_count": 44,
   "metadata": {
    "collapsed": true
   },
   "outputs": [],
   "source": [
    "df15=pd.read_excel(\"cancer_data6.xlsx\",sheet_name='Death Details')"
   ]
  },
  {
   "cell_type": "code",
   "execution_count": 57,
   "metadata": {
    "collapsed": true
   },
   "outputs": [],
   "source": [
    "temp=pd.concat([df15['PERSON DEATH DATE1'],df8['INVESTIGATION RESULT DATE']],axis=1)"
   ]
  },
  {
   "cell_type": "code",
   "execution_count": 58,
   "metadata": {},
   "outputs": [
    {
     "data": {
      "text/html": [
       "<div>\n",
       "<style scoped>\n",
       "    .dataframe tbody tr th:only-of-type {\n",
       "        vertical-align: middle;\n",
       "    }\n",
       "\n",
       "    .dataframe tbody tr th {\n",
       "        vertical-align: top;\n",
       "    }\n",
       "\n",
       "    .dataframe thead th {\n",
       "        text-align: right;\n",
       "    }\n",
       "</style>\n",
       "<table border=\"1\" class=\"dataframe\">\n",
       "  <thead>\n",
       "    <tr style=\"text-align: right;\">\n",
       "      <th></th>\n",
       "      <th>PERSON DEATH DATE1</th>\n",
       "      <th>INVESTIGATION RESULT DATE</th>\n",
       "    </tr>\n",
       "  </thead>\n",
       "  <tbody>\n",
       "    <tr>\n",
       "      <th>0</th>\n",
       "      <td>2017-11-09 00:00:00</td>\n",
       "      <td>2017-03-08 17:37:09</td>\n",
       "    </tr>\n",
       "    <tr>\n",
       "      <th>1</th>\n",
       "      <td>-</td>\n",
       "      <td>2017-03-09 09:06:57</td>\n",
       "    </tr>\n",
       "    <tr>\n",
       "      <th>2</th>\n",
       "      <td>-</td>\n",
       "      <td>2017-03-25 18:13:24</td>\n",
       "    </tr>\n",
       "    <tr>\n",
       "      <th>3</th>\n",
       "      <td>-</td>\n",
       "      <td>2017-03-09 22:48:52</td>\n",
       "    </tr>\n",
       "    <tr>\n",
       "      <th>4</th>\n",
       "      <td>-</td>\n",
       "      <td>2017-03-12 10:11:12</td>\n",
       "    </tr>\n",
       "  </tbody>\n",
       "</table>\n",
       "</div>"
      ],
      "text/plain": [
       "    PERSON DEATH DATE1 INVESTIGATION RESULT DATE\n",
       "0  2017-11-09 00:00:00       2017-03-08 17:37:09\n",
       "1                    -       2017-03-09 09:06:57\n",
       "2                    -       2017-03-25 18:13:24\n",
       "3                    -       2017-03-09 22:48:52\n",
       "4                    -       2017-03-12 10:11:12"
      ]
     },
     "execution_count": 58,
     "metadata": {},
     "output_type": "execute_result"
    }
   ],
   "source": [
    "temp.head()"
   ]
  },
  {
   "cell_type": "code",
   "execution_count": 59,
   "metadata": {
    "collapsed": true
   },
   "outputs": [],
   "source": [
    "def fun2(x):\n",
    "    if str(x[\"PERSON DEATH DATE1\"]).startswith('-'):\n",
    "        return '-'\n",
    "    if str(x[\"PERSON DEATH DATE1\"])!='-':\n",
    "        return x[\"PERSON DEATH DATE1\"]-x[\"INVESTIGATION RESULT DATE\"]\n",
    "        "
   ]
  },
  {
   "cell_type": "code",
   "execution_count": 60,
   "metadata": {},
   "outputs": [],
   "source": [
    "secondLevelDelay['delay7_presonDeathDate&InvestigationDate']=temp.apply(fun2,axis=1)"
   ]
  },
  {
   "cell_type": "code",
   "execution_count": 62,
   "metadata": {},
   "outputs": [],
   "source": [
    "secondLevelDelay.to_excel(\"secondLevelDelay.xlsx\",index=None)"
   ]
  },
  {
   "cell_type": "code",
   "execution_count": null,
   "metadata": {
    "collapsed": true
   },
   "outputs": [],
   "source": []
  }
 ],
 "metadata": {
  "kernelspec": {
   "display_name": "Python 2",
   "language": "python",
   "name": "python2"
  },
  "language_info": {
   "codemirror_mode": {
    "name": "ipython",
    "version": 2
   },
   "file_extension": ".py",
   "mimetype": "text/x-python",
   "name": "python",
   "nbconvert_exporter": "python",
   "pygments_lexer": "ipython2",
   "version": "2.7.13"
  }
 },
 "nbformat": 4,
 "nbformat_minor": 2
}
