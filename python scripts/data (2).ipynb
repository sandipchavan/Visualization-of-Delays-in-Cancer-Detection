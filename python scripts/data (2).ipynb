{
 "cells": [
  {
   "cell_type": "code",
   "execution_count": 1,
   "metadata": {
    "collapsed": true
   },
   "outputs": [],
   "source": [
    "import pandas as pd\n",
    "from pandas import DataFrame as df"
   ]
  },
  {
   "cell_type": "code",
   "execution_count": 2,
   "metadata": {
    "collapsed": true
   },
   "outputs": [],
   "source": [
    "import random"
   ]
  },
  {
   "cell_type": "code",
   "execution_count": 3,
   "metadata": {
    "collapsed": true
   },
   "outputs": [],
   "source": [
    "nhs=range(101110,102900)\n",
    "nhs1=random.sample(nhs,900)\n",
    "nhs1.sort()\n",
    "h1=open(\"nhs.csv\",\"w\")\n",
    "for i in nhs1:\n",
    "    h1.write(str(i)+\"\\n\")\n",
    "h1.close()"
   ]
  },
  {
   "cell_type": "code",
   "execution_count": 4,
   "metadata": {
    "collapsed": true
   },
   "outputs": [],
   "source": [
    "nhs_df=pd.read_csv(\"nhs.csv\",header=None,names=['NHS NUMBER'])\n"
   ]
  },
  {
   "cell_type": "code",
   "execution_count": 5,
   "metadata": {
    "collapsed": true
   },
   "outputs": [],
   "source": []
  },
  {
   "cell_type": "code",
   "execution_count": 6,
   "metadata": {
    "collapsed": true
   },
   "outputs": [],
   "source": []
  },
  {
   "cell_type": "code",
   "execution_count": null,
   "metadata": {},
   "outputs": [],
   "source": []
  },
  {
   "cell_type": "code",
   "execution_count": 8,
   "metadata": {
    "collapsed": true
   },
   "outputs": [],
   "source": [
    "org_code=[\"MCCT\"]*1200\n",
    "h3=open(\"org_code.csv\",\"w\")\n",
    "for i in org_code:\n",
    "    h3.write(i+\"\\n\")\n",
    "h3.close()"
   ]
  },
  {
   "cell_type": "code",
   "execution_count": 9,
   "metadata": {},
   "outputs": [
    {
     "data": {
      "text/html": [
       "<div>\n",
       "<table border=\"1\" class=\"dataframe\">\n",
       "  <thead>\n",
       "    <tr style=\"text-align: right;\">\n",
       "      <th></th>\n",
       "      <th>ORGANISATION_CODE(PROVIDER)</th>\n",
       "    </tr>\n",
       "  </thead>\n",
       "  <tbody>\n",
       "    <tr>\n",
       "      <th>0</th>\n",
       "      <td>MCCT</td>\n",
       "    </tr>\n",
       "    <tr>\n",
       "      <th>1</th>\n",
       "      <td>MCCT</td>\n",
       "    </tr>\n",
       "    <tr>\n",
       "      <th>2</th>\n",
       "      <td>MCCT</td>\n",
       "    </tr>\n",
       "    <tr>\n",
       "      <th>3</th>\n",
       "      <td>MCCT</td>\n",
       "    </tr>\n",
       "    <tr>\n",
       "      <th>4</th>\n",
       "      <td>MCCT</td>\n",
       "    </tr>\n",
       "  </tbody>\n",
       "</table>\n",
       "</div>"
      ],
      "text/plain": [
       "  ORGANISATION_CODE(PROVIDER)\n",
       "0                        MCCT\n",
       "1                        MCCT\n",
       "2                        MCCT\n",
       "3                        MCCT\n",
       "4                        MCCT"
      ]
     },
     "execution_count": 9,
     "metadata": {},
     "output_type": "execute_result"
    }
   ],
   "source": [
    "org_code_df=pd.read_csv(\"org_code.csv\",header=None,names=[\"ORGANISATION_CODE(PROVIDER)\"])\n",
    "org_code_df.head()"
   ]
  },
  {
   "cell_type": "code",
   "execution_count": 10,
   "metadata": {
    "collapsed": true
   },
   "outputs": [],
   "source": [
    "care_spell_identifier=['GOV-A','GOV-B','GOV-MINES','OWN',\"OWN\",'OWN','OWN',\"GOV-RAILWAY\",\"GOV-DEFENCE\",'OWN','OWN']*1000\n",
    "care_sm=random.sample(care_spell_identifier,1200)\n",
    "h4=open(\"care_spell_identifier.csv\",\"w\")\n",
    "for i in care_sm:\n",
    "    h4.write(i+\"\\n\")\n",
    "h4.close()"
   ]
  },
  {
   "cell_type": "code",
   "execution_count": 11,
   "metadata": {},
   "outputs": [
    {
     "data": {
      "text/html": [
       "<div>\n",
       "<table border=\"1\" class=\"dataframe\">\n",
       "  <thead>\n",
       "    <tr style=\"text-align: right;\">\n",
       "      <th></th>\n",
       "      <th>CARE_SPELL_IDENTIFIER</th>\n",
       "    </tr>\n",
       "  </thead>\n",
       "  <tbody>\n",
       "    <tr>\n",
       "      <th>0</th>\n",
       "      <td>GOV-DEFENCE</td>\n",
       "    </tr>\n",
       "    <tr>\n",
       "      <th>1</th>\n",
       "      <td>OWN</td>\n",
       "    </tr>\n",
       "    <tr>\n",
       "      <th>2</th>\n",
       "      <td>GOV-RAILWAY</td>\n",
       "    </tr>\n",
       "    <tr>\n",
       "      <th>3</th>\n",
       "      <td>OWN</td>\n",
       "    </tr>\n",
       "    <tr>\n",
       "      <th>4</th>\n",
       "      <td>OWN</td>\n",
       "    </tr>\n",
       "  </tbody>\n",
       "</table>\n",
       "</div>"
      ],
      "text/plain": [
       "  CARE_SPELL_IDENTIFIER\n",
       "0           GOV-DEFENCE\n",
       "1                   OWN\n",
       "2           GOV-RAILWAY\n",
       "3                   OWN\n",
       "4                   OWN"
      ]
     },
     "execution_count": 11,
     "metadata": {},
     "output_type": "execute_result"
    }
   ],
   "source": [
    "care_spell_identifier_df=pd.read_csv(\"care_spell_identifier.csv\",header=None,names=[\"CARE_SPELL_IDENTIFIER\"])\n",
    "care_spell_identifier_df.head()"
   ]
  },
  {
   "cell_type": "code",
   "execution_count": 12,
   "metadata": {},
   "outputs": [
    {
     "ename": "IOError",
     "evalue": "File StateNames.csv does not exist",
     "output_type": "error",
     "traceback": [
      "\u001b[0;31m---------------------------------------------------------------------------\u001b[0m",
      "\u001b[0;31mIOError\u001b[0m                                   Traceback (most recent call last)",
      "\u001b[0;32m<ipython-input-12-7a3d61d67ff2>\u001b[0m in \u001b[0;36m<module>\u001b[0;34m()\u001b[0m\n\u001b[0;32m----> 1\u001b[0;31m \u001b[0mnames_df\u001b[0m\u001b[0;34m=\u001b[0m\u001b[0mpd\u001b[0m\u001b[0;34m.\u001b[0m\u001b[0mread_csv\u001b[0m\u001b[0;34m(\u001b[0m\u001b[0;34m\"StateNames.csv\"\u001b[0m\u001b[0;34m)\u001b[0m\u001b[0;34m\u001b[0m\u001b[0m\n\u001b[0m",
      "\u001b[0;32m/usr/lib/python2.7/dist-packages/pandas/io/parsers.pyc\u001b[0m in \u001b[0;36mparser_f\u001b[0;34m(filepath_or_buffer, sep, dialect, compression, doublequote, escapechar, quotechar, quoting, skipinitialspace, lineterminator, header, index_col, names, prefix, skiprows, skipfooter, skip_footer, na_values, true_values, false_values, delimiter, converters, dtype, usecols, engine, delim_whitespace, as_recarray, na_filter, compact_ints, use_unsigned, low_memory, buffer_lines, warn_bad_lines, error_bad_lines, keep_default_na, thousands, comment, decimal, parse_dates, keep_date_col, dayfirst, date_parser, memory_map, float_precision, nrows, iterator, chunksize, verbose, encoding, squeeze, mangle_dupe_cols, tupleize_cols, infer_datetime_format, skip_blank_lines)\u001b[0m\n\u001b[1;32m    496\u001b[0m                     skip_blank_lines=skip_blank_lines)\n\u001b[1;32m    497\u001b[0m \u001b[0;34m\u001b[0m\u001b[0m\n\u001b[0;32m--> 498\u001b[0;31m         \u001b[0;32mreturn\u001b[0m \u001b[0m_read\u001b[0m\u001b[0;34m(\u001b[0m\u001b[0mfilepath_or_buffer\u001b[0m\u001b[0;34m,\u001b[0m \u001b[0mkwds\u001b[0m\u001b[0;34m)\u001b[0m\u001b[0;34m\u001b[0m\u001b[0m\n\u001b[0m\u001b[1;32m    499\u001b[0m \u001b[0;34m\u001b[0m\u001b[0m\n\u001b[1;32m    500\u001b[0m     \u001b[0mparser_f\u001b[0m\u001b[0;34m.\u001b[0m\u001b[0m__name__\u001b[0m \u001b[0;34m=\u001b[0m \u001b[0mname\u001b[0m\u001b[0;34m\u001b[0m\u001b[0m\n",
      "\u001b[0;32m/usr/lib/python2.7/dist-packages/pandas/io/parsers.pyc\u001b[0m in \u001b[0;36m_read\u001b[0;34m(filepath_or_buffer, kwds)\u001b[0m\n\u001b[1;32m    273\u001b[0m \u001b[0;34m\u001b[0m\u001b[0m\n\u001b[1;32m    274\u001b[0m     \u001b[0;31m# Create the parser.\u001b[0m\u001b[0;34m\u001b[0m\u001b[0;34m\u001b[0m\u001b[0m\n\u001b[0;32m--> 275\u001b[0;31m     \u001b[0mparser\u001b[0m \u001b[0;34m=\u001b[0m \u001b[0mTextFileReader\u001b[0m\u001b[0;34m(\u001b[0m\u001b[0mfilepath_or_buffer\u001b[0m\u001b[0;34m,\u001b[0m \u001b[0;34m**\u001b[0m\u001b[0mkwds\u001b[0m\u001b[0;34m)\u001b[0m\u001b[0;34m\u001b[0m\u001b[0m\n\u001b[0m\u001b[1;32m    276\u001b[0m \u001b[0;34m\u001b[0m\u001b[0m\n\u001b[1;32m    277\u001b[0m     \u001b[0;32mif\u001b[0m \u001b[0;34m(\u001b[0m\u001b[0mnrows\u001b[0m \u001b[0;32mis\u001b[0m \u001b[0;32mnot\u001b[0m \u001b[0mNone\u001b[0m\u001b[0;34m)\u001b[0m \u001b[0;32mand\u001b[0m \u001b[0;34m(\u001b[0m\u001b[0mchunksize\u001b[0m \u001b[0;32mis\u001b[0m \u001b[0;32mnot\u001b[0m \u001b[0mNone\u001b[0m\u001b[0;34m)\u001b[0m\u001b[0;34m:\u001b[0m\u001b[0;34m\u001b[0m\u001b[0m\n",
      "\u001b[0;32m/usr/lib/python2.7/dist-packages/pandas/io/parsers.pyc\u001b[0m in \u001b[0;36m__init__\u001b[0;34m(self, f, engine, **kwds)\u001b[0m\n\u001b[1;32m    588\u001b[0m             \u001b[0mself\u001b[0m\u001b[0;34m.\u001b[0m\u001b[0moptions\u001b[0m\u001b[0;34m[\u001b[0m\u001b[0;34m'has_index_names'\u001b[0m\u001b[0;34m]\u001b[0m \u001b[0;34m=\u001b[0m \u001b[0mkwds\u001b[0m\u001b[0;34m[\u001b[0m\u001b[0;34m'has_index_names'\u001b[0m\u001b[0;34m]\u001b[0m\u001b[0;34m\u001b[0m\u001b[0m\n\u001b[1;32m    589\u001b[0m \u001b[0;34m\u001b[0m\u001b[0m\n\u001b[0;32m--> 590\u001b[0;31m         \u001b[0mself\u001b[0m\u001b[0;34m.\u001b[0m\u001b[0m_make_engine\u001b[0m\u001b[0;34m(\u001b[0m\u001b[0mself\u001b[0m\u001b[0;34m.\u001b[0m\u001b[0mengine\u001b[0m\u001b[0;34m)\u001b[0m\u001b[0;34m\u001b[0m\u001b[0m\n\u001b[0m\u001b[1;32m    591\u001b[0m \u001b[0;34m\u001b[0m\u001b[0m\n\u001b[1;32m    592\u001b[0m     \u001b[0;32mdef\u001b[0m \u001b[0m_get_options_with_defaults\u001b[0m\u001b[0;34m(\u001b[0m\u001b[0mself\u001b[0m\u001b[0;34m,\u001b[0m \u001b[0mengine\u001b[0m\u001b[0;34m)\u001b[0m\u001b[0;34m:\u001b[0m\u001b[0;34m\u001b[0m\u001b[0m\n",
      "\u001b[0;32m/usr/lib/python2.7/dist-packages/pandas/io/parsers.pyc\u001b[0m in \u001b[0;36m_make_engine\u001b[0;34m(self, engine)\u001b[0m\n\u001b[1;32m    729\u001b[0m     \u001b[0;32mdef\u001b[0m \u001b[0m_make_engine\u001b[0m\u001b[0;34m(\u001b[0m\u001b[0mself\u001b[0m\u001b[0;34m,\u001b[0m \u001b[0mengine\u001b[0m\u001b[0;34m=\u001b[0m\u001b[0;34m'c'\u001b[0m\u001b[0;34m)\u001b[0m\u001b[0;34m:\u001b[0m\u001b[0;34m\u001b[0m\u001b[0m\n\u001b[1;32m    730\u001b[0m         \u001b[0;32mif\u001b[0m \u001b[0mengine\u001b[0m \u001b[0;34m==\u001b[0m \u001b[0;34m'c'\u001b[0m\u001b[0;34m:\u001b[0m\u001b[0;34m\u001b[0m\u001b[0m\n\u001b[0;32m--> 731\u001b[0;31m             \u001b[0mself\u001b[0m\u001b[0;34m.\u001b[0m\u001b[0m_engine\u001b[0m \u001b[0;34m=\u001b[0m \u001b[0mCParserWrapper\u001b[0m\u001b[0;34m(\u001b[0m\u001b[0mself\u001b[0m\u001b[0;34m.\u001b[0m\u001b[0mf\u001b[0m\u001b[0;34m,\u001b[0m \u001b[0;34m**\u001b[0m\u001b[0mself\u001b[0m\u001b[0;34m.\u001b[0m\u001b[0moptions\u001b[0m\u001b[0;34m)\u001b[0m\u001b[0;34m\u001b[0m\u001b[0m\n\u001b[0m\u001b[1;32m    732\u001b[0m         \u001b[0;32melse\u001b[0m\u001b[0;34m:\u001b[0m\u001b[0;34m\u001b[0m\u001b[0m\n\u001b[1;32m    733\u001b[0m             \u001b[0;32mif\u001b[0m \u001b[0mengine\u001b[0m \u001b[0;34m==\u001b[0m \u001b[0;34m'python'\u001b[0m\u001b[0;34m:\u001b[0m\u001b[0;34m\u001b[0m\u001b[0m\n",
      "\u001b[0;32m/usr/lib/python2.7/dist-packages/pandas/io/parsers.pyc\u001b[0m in \u001b[0;36m__init__\u001b[0;34m(self, src, **kwds)\u001b[0m\n\u001b[1;32m   1101\u001b[0m         \u001b[0mkwds\u001b[0m\u001b[0;34m[\u001b[0m\u001b[0;34m'allow_leading_cols'\u001b[0m\u001b[0;34m]\u001b[0m \u001b[0;34m=\u001b[0m \u001b[0mself\u001b[0m\u001b[0;34m.\u001b[0m\u001b[0mindex_col\u001b[0m \u001b[0;32mis\u001b[0m \u001b[0;32mnot\u001b[0m \u001b[0mFalse\u001b[0m\u001b[0;34m\u001b[0m\u001b[0m\n\u001b[1;32m   1102\u001b[0m \u001b[0;34m\u001b[0m\u001b[0m\n\u001b[0;32m-> 1103\u001b[0;31m         \u001b[0mself\u001b[0m\u001b[0;34m.\u001b[0m\u001b[0m_reader\u001b[0m \u001b[0;34m=\u001b[0m \u001b[0m_parser\u001b[0m\u001b[0;34m.\u001b[0m\u001b[0mTextReader\u001b[0m\u001b[0;34m(\u001b[0m\u001b[0msrc\u001b[0m\u001b[0;34m,\u001b[0m \u001b[0;34m**\u001b[0m\u001b[0mkwds\u001b[0m\u001b[0;34m)\u001b[0m\u001b[0;34m\u001b[0m\u001b[0m\n\u001b[0m\u001b[1;32m   1104\u001b[0m \u001b[0;34m\u001b[0m\u001b[0m\n\u001b[1;32m   1105\u001b[0m         \u001b[0;31m# XXX\u001b[0m\u001b[0;34m\u001b[0m\u001b[0;34m\u001b[0m\u001b[0m\n",
      "\u001b[0;32mpandas/parser.pyx\u001b[0m in \u001b[0;36mpandas.parser.TextReader.__cinit__ (pandas/parser.c:3246)\u001b[0;34m()\u001b[0m\n",
      "\u001b[0;32mpandas/parser.pyx\u001b[0m in \u001b[0;36mpandas.parser.TextReader._setup_parser_source (pandas/parser.c:6111)\u001b[0;34m()\u001b[0m\n",
      "\u001b[0;31mIOError\u001b[0m: File StateNames.csv does not exist"
     ]
    }
   ],
   "source": [
    "names_df=pd.read_csv(\"StateNames.csv\")\n"
   ]
  },
  {
   "cell_type": "code",
   "execution_count": null,
   "metadata": {
    "collapsed": true
   },
   "outputs": [],
   "source": [
    "name=names_df.sample(frac=0.03).sample(frac=.01)[['Name',\"Gender\"]]\n"
   ]
  },
  {
   "cell_type": "code",
   "execution_count": null,
   "metadata": {
    "collapsed": true
   },
   "outputs": [],
   "source": [
    "name.to_csv(\"name_gender.csv\",index=None,header=None)\n",
    "name.head()"
   ]
  },
  {
   "cell_type": "code",
   "execution_count": null,
   "metadata": {
    "collapsed": true
   },
   "outputs": [],
   "source": [
    "names=pd.read_csv(\"name_gender.csv\",header=None,names=[\"NAME\",\"GENDER\"])\n",
    "names.head()"
   ]
  },
  {
   "cell_type": "code",
   "execution_count": null,
   "metadata": {
    "collapsed": true
   },
   "outputs": [],
   "source": [
    "age_df=pd.read_csv(\"age.csv\",names=[\"AGE\"])\n",
    "age_df.head()"
   ]
  },
  {
   "cell_type": "code",
   "execution_count": null,
   "metadata": {
    "collapsed": true
   },
   "outputs": [],
   "source": [
    "south_city_df=pd.read_csv(\"south_cities.csv\")\n",
    "SA=south_city_df.sample(frac=0.7)"
   ]
  },
  {
   "cell_type": "code",
   "execution_count": null,
   "metadata": {
    "collapsed": true
   },
   "outputs": [],
   "source": [
    "gmp=['GMP-DR1','GMP-DR2','GMP-DR3','GMP-DR4','GMP-DR7','GMP-DR11','GMP-DR19']*1000\n",
    "gmp_sm=random.sample(gmp,1200)\n",
    "h5=open(\"gmp.csv\",'w')\n",
    "for i in gmp_sm:\n",
    "    h5.write(i+\"\\n\")\n",
    "h5.close()"
   ]
  },
  {
   "cell_type": "code",
   "execution_count": null,
   "metadata": {
    "collapsed": true
   },
   "outputs": [],
   "source": [
    "gmp_df=pd.read_csv(\"gmp.csv\",header=None,names=['GMP'])\n",
    "gmp_df.head()"
   ]
  },
  {
   "cell_type": "code",
   "execution_count": null,
   "metadata": {
    "collapsed": true
   },
   "outputs": [],
   "source": [
    "ethn1=[\"MCL\",\"HCL\"]*1000\n",
    "ethn2=[\"MCL\",\"HCL\",\"BPL\",\"BPL\",\"BPL\"]*1000\n",
    "e_sa=random.sample(ethn1,1000)\n",
    "e_sa2=random.sample(ethn2,1000)\n",
    "def fun1(row):\n",
    "    if row['CARE_SPELL_IDENTIFIER']!=\"OWN\":\n",
    "        return e_sa[random.randint(1,999)]\n",
    "    if row['CARE_SPELL_IDENTIFIER']==\"OWN\":\n",
    "        return e_sa2[random.randint(1,999)]"
   ]
  },
  {
   "cell_type": "code",
   "execution_count": null,
   "metadata": {
    "collapsed": true
   },
   "outputs": [],
   "source": [
    "sheet1_df[\"ETHNIC_CATEGORY\"]=sheet1_df.apply(fun1,axis=1)"
   ]
  },
  {
   "cell_type": "code",
   "execution_count": null,
   "metadata": {
    "collapsed": true
   },
   "outputs": [],
   "source": []
  },
  {
   "cell_type": "code",
   "execution_count": null,
   "metadata": {
    "collapsed": true
   },
   "outputs": [],
   "source": []
  },
  {
   "cell_type": "code",
   "execution_count": 8,
   "metadata": {},
   "outputs": [
    {
     "ename": "NameError",
     "evalue": "name 'nhs_df' is not defined",
     "output_type": "error",
     "traceback": [
      "\u001b[1;31m---------------------------------------------------------------------------\u001b[0m",
      "\u001b[1;31mNameError\u001b[0m                                 Traceback (most recent call last)",
      "\u001b[1;32m<ipython-input-8-ecfe9206c15f>\u001b[0m in \u001b[0;36m<module>\u001b[1;34m()\u001b[0m\n\u001b[1;32m----> 1\u001b[1;33m \u001b[0msheet1_df\u001b[0m\u001b[1;33m=\u001b[0m\u001b[0mpd\u001b[0m\u001b[1;33m.\u001b[0m\u001b[0mconcat\u001b[0m\u001b[1;33m(\u001b[0m\u001b[1;33m[\u001b[0m\u001b[0mnhs_df\u001b[0m\u001b[1;33m,\u001b[0m\u001b[0mlocal_pat_id_df\u001b[0m\u001b[1;33m,\u001b[0m\u001b[0mnames\u001b[0m\u001b[1;33m,\u001b[0m\u001b[0mage_df\u001b[0m\u001b[1;33m,\u001b[0m\u001b[0mSA\u001b[0m\u001b[1;33m,\u001b[0m\u001b[0mcare_spell_identifier_df\u001b[0m\u001b[1;33m,\u001b[0m\u001b[0mgmp_df\u001b[0m\u001b[1;33m]\u001b[0m\u001b[1;33m,\u001b[0m\u001b[0maxis\u001b[0m\u001b[1;33m=\u001b[0m\u001b[1;36m1\u001b[0m\u001b[1;33m)\u001b[0m\u001b[1;33m.\u001b[0m\u001b[0mdropna\u001b[0m\u001b[1;33m(\u001b[0m\u001b[1;33m)\u001b[0m\u001b[1;33m\u001b[0m\u001b[0m\n\u001b[0m",
      "\u001b[1;31mNameError\u001b[0m: name 'nhs_df' is not defined"
     ]
    }
   ],
   "source": [
    "sheet1_df=pd.concat([nhs_df,local_pat_id_df,names,age_df,SA,care_spell_identifier_df,gmp_df],axis=1).dropna()"
   ]
  },
  {
   "cell_type": "code",
   "execution_count": null,
   "metadata": {
    "collapsed": true
   },
   "outputs": [],
   "source": [
    "sheet1_df.to_csv(\"sheet1.csv\",index=None)"
   ]
  },
  {
   "cell_type": "code",
   "execution_count": 24,
   "metadata": {},
   "outputs": [
    {
     "ename": "NameError",
     "evalue": "name 'sheet1_df' is not defined",
     "output_type": "error",
     "traceback": [
      "\u001b[0;31m---------------------------------------------------------------------------\u001b[0m",
      "\u001b[0;31mNameError\u001b[0m                                 Traceback (most recent call last)",
      "\u001b[0;32m<ipython-input-24-761a35a67aa5>\u001b[0m in \u001b[0;36m<module>\u001b[0;34m()\u001b[0m\n\u001b[0;32m----> 1\u001b[0;31m \u001b[0msheet1_df\u001b[0m\u001b[0;34m.\u001b[0m\u001b[0mhead\u001b[0m\u001b[0;34m(\u001b[0m\u001b[0;34m)\u001b[0m\u001b[0;34m\u001b[0m\u001b[0m\n\u001b[0m",
      "\u001b[0;31mNameError\u001b[0m: name 'sheet1_df' is not defined"
     ]
    }
   ],
   "source": [
    "sheet1_df.head()"
   ]
  },
  {
   "cell_type": "code",
   "execution_count": 25,
   "metadata": {},
   "outputs": [
    {
     "data": {
      "text/plain": [
       "u'/home/rallypoint/Downloads'"
      ]
     },
     "execution_count": 25,
     "metadata": {},
     "output_type": "execute_result"
    }
   ],
   "source": [
    "pwd"
   ]
  },
  {
   "cell_type": "code",
   "execution_count": 28,
   "metadata": {
    "collapsed": true
   },
   "outputs": [],
   "source": [
    "sheet1=pd.read_csv(\"/home/rallypoint/Downloads/sheet1.csv\")"
   ]
  },
  {
   "cell_type": "code",
   "execution_count": 35,
   "metadata": {
    "collapsed": true
   },
   "outputs": [],
   "source": [
    "sh=sheet1.drop([\"LOCAL_PATIENT_IDENTIFIER\"],axis=1)"
   ]
  },
  {
   "cell_type": "code",
   "execution_count": null,
   "metadata": {
    "collapsed": true
   },
   "outputs": [],
   "source": []
  },
  {
   "cell_type": "code",
   "execution_count": 50,
   "metadata": {
    "collapsed": true
   },
   "outputs": [],
   "source": [
    "new=pd.concat([sh,local_pat_id_df],axis=1)"
   ]
  },
  {
   "cell_type": "code",
   "execution_count": 51,
   "metadata": {},
   "outputs": [
    {
     "data": {
      "text/html": [
       "<div>\n",
       "<table border=\"1\" class=\"dataframe\">\n",
       "  <thead>\n",
       "    <tr style=\"text-align: right;\">\n",
       "      <th></th>\n",
       "      <th>NHS NUMBER</th>\n",
       "      <th>NAME</th>\n",
       "      <th>GENDER</th>\n",
       "      <th>AGE</th>\n",
       "      <th>pincode</th>\n",
       "      <th>Taluk</th>\n",
       "      <th>statename</th>\n",
       "      <th>CARE_SPELL_IDENTIFIER</th>\n",
       "      <th>GMP</th>\n",
       "      <th>ETHNIC_CATEGORY</th>\n",
       "      <th>LOCAL_PATIENT_IDENTIFIER</th>\n",
       "    </tr>\n",
       "  </thead>\n",
       "  <tbody>\n",
       "    <tr>\n",
       "      <th>0</th>\n",
       "      <td>101111</td>\n",
       "      <td>Addison</td>\n",
       "      <td>M</td>\n",
       "      <td>75</td>\n",
       "      <td>678572</td>\n",
       "      <td>Alathur</td>\n",
       "      <td>KERALA</td>\n",
       "      <td>OWN</td>\n",
       "      <td>GMP-DR11</td>\n",
       "      <td>BPL</td>\n",
       "      <td>L_CPP100</td>\n",
       "    </tr>\n",
       "    <tr>\n",
       "      <th>1</th>\n",
       "      <td>101112</td>\n",
       "      <td>Darrel</td>\n",
       "      <td>M</td>\n",
       "      <td>39</td>\n",
       "      <td>679333</td>\n",
       "      <td>Nilambur</td>\n",
       "      <td>KERALA</td>\n",
       "      <td>GOV-A</td>\n",
       "      <td>GMP-DR19</td>\n",
       "      <td>HCL</td>\n",
       "      <td>R_CPP101</td>\n",
       "    </tr>\n",
       "    <tr>\n",
       "      <th>2</th>\n",
       "      <td>101114</td>\n",
       "      <td>Jerry</td>\n",
       "      <td>M</td>\n",
       "      <td>47</td>\n",
       "      <td>577132</td>\n",
       "      <td>Mudigere</td>\n",
       "      <td>KARNATAKA</td>\n",
       "      <td>GOV-DEFENCE</td>\n",
       "      <td>GMP-DR2</td>\n",
       "      <td>MCL</td>\n",
       "      <td>L_CPP102</td>\n",
       "    </tr>\n",
       "    <tr>\n",
       "      <th>3</th>\n",
       "      <td>101115</td>\n",
       "      <td>Karina</td>\n",
       "      <td>F</td>\n",
       "      <td>78</td>\n",
       "      <td>686693</td>\n",
       "      <td>Kothamangalam</td>\n",
       "      <td>KERALA</td>\n",
       "      <td>GOV-RAILWAY</td>\n",
       "      <td>GMP-DR4</td>\n",
       "      <td>HCL</td>\n",
       "      <td>L_CPP103</td>\n",
       "    </tr>\n",
       "    <tr>\n",
       "      <th>4</th>\n",
       "      <td>101117</td>\n",
       "      <td>Madeline</td>\n",
       "      <td>F</td>\n",
       "      <td>67</td>\n",
       "      <td>679307</td>\n",
       "      <td>Ottappalam</td>\n",
       "      <td>KERALA</td>\n",
       "      <td>GOV-DEFENCE</td>\n",
       "      <td>GMP-DR4</td>\n",
       "      <td>MCL</td>\n",
       "      <td>L_CPP104</td>\n",
       "    </tr>\n",
       "  </tbody>\n",
       "</table>\n",
       "</div>"
      ],
      "text/plain": [
       "   NHS NUMBER      NAME GENDER  AGE  pincode          Taluk  statename  \\\n",
       "0      101111   Addison      M   75   678572        Alathur     KERALA   \n",
       "1      101112    Darrel      M   39   679333       Nilambur     KERALA   \n",
       "2      101114     Jerry      M   47   577132       Mudigere  KARNATAKA   \n",
       "3      101115    Karina      F   78   686693  Kothamangalam     KERALA   \n",
       "4      101117  Madeline      F   67   679307     Ottappalam     KERALA   \n",
       "\n",
       "  CARE_SPELL_IDENTIFIER       GMP ETHNIC_CATEGORY LOCAL_PATIENT_IDENTIFIER  \n",
       "0                   OWN  GMP-DR11             BPL                 L_CPP100  \n",
       "1                 GOV-A  GMP-DR19             HCL                 R_CPP101  \n",
       "2           GOV-DEFENCE   GMP-DR2             MCL                 L_CPP102  \n",
       "3           GOV-RAILWAY   GMP-DR4             HCL                 L_CPP103  \n",
       "4           GOV-DEFENCE   GMP-DR4             MCL                 L_CPP104  "
      ]
     },
     "execution_count": 51,
     "metadata": {},
     "output_type": "execute_result"
    }
   ],
   "source": [
    "new.head()"
   ]
  },
  {
   "cell_type": "code",
   "execution_count": 49,
   "metadata": {},
   "outputs": [
    {
     "data": {
      "text/plain": [
       "['NHS NUMBER',\n",
       " 'LOCAL_PATIENT_IDENTIFIER',\n",
       " 'NAME',\n",
       " 'GENDER',\n",
       " 'AGE',\n",
       " 'pincode',\n",
       " 'Taluk',\n",
       " 'statename',\n",
       " 'CARE_SPELL_IDENTIFIER',\n",
       " 'GMP',\n",
       " 'ETHNIC_CATEGORY']"
      ]
     },
     "execution_count": 49,
     "metadata": {},
     "output_type": "execute_result"
    }
   ],
   "source": [
    "lst=new.columns.tolist()\n",
    "lst.insert(1,\"LOCAL_PATIENT_IDENTIFIER\")\n",
    "lst.pop(11)\n",
    "lst"
   ]
  },
  {
   "cell_type": "code",
   "execution_count": 53,
   "metadata": {
    "collapsed": true
   },
   "outputs": [],
   "source": [
    "sheet=new[lst]"
   ]
  },
  {
   "cell_type": "code",
   "execution_count": 56,
   "metadata": {
    "collapsed": true
   },
   "outputs": [],
   "source": [
    "sheet.to_csv(\"sheet.csv\",index=None)"
   ]
  },
  {
   "cell_type": "code",
   "execution_count": 103,
   "metadata": {
    "scrolled": true
   },
   "outputs": [
    {
     "data": {
      "text/html": [
       "<div>\n",
       "<table border=\"1\" class=\"dataframe\">\n",
       "  <thead>\n",
       "    <tr style=\"text-align: right;\">\n",
       "      <th></th>\n",
       "      <th>NHS NUMBER</th>\n",
       "      <th>LOCAL_PATIENT_IDENTIFIER</th>\n",
       "      <th>NAME</th>\n",
       "      <th>GENDER</th>\n",
       "      <th>AGE</th>\n",
       "      <th>pincode</th>\n",
       "      <th>Taluk</th>\n",
       "      <th>statename</th>\n",
       "      <th>CARE_SPELL_IDENTIFIER</th>\n",
       "      <th>GMP</th>\n",
       "      <th>ETHNIC_CATEGORY</th>\n",
       "    </tr>\n",
       "  </thead>\n",
       "  <tbody>\n",
       "    <tr>\n",
       "      <th>0</th>\n",
       "      <td>101111</td>\n",
       "      <td>L_CPP100</td>\n",
       "      <td>Addison</td>\n",
       "      <td>M</td>\n",
       "      <td>75</td>\n",
       "      <td>678572</td>\n",
       "      <td>Alathur</td>\n",
       "      <td>KERALA</td>\n",
       "      <td>OWN</td>\n",
       "      <td>GMP-DR11</td>\n",
       "      <td>BPL</td>\n",
       "    </tr>\n",
       "    <tr>\n",
       "      <th>1</th>\n",
       "      <td>101112</td>\n",
       "      <td>R_CPP101</td>\n",
       "      <td>Darrel</td>\n",
       "      <td>M</td>\n",
       "      <td>39</td>\n",
       "      <td>679333</td>\n",
       "      <td>Nilambur</td>\n",
       "      <td>KERALA</td>\n",
       "      <td>GOV-A</td>\n",
       "      <td>GMP-DR19</td>\n",
       "      <td>HCL</td>\n",
       "    </tr>\n",
       "    <tr>\n",
       "      <th>2</th>\n",
       "      <td>101114</td>\n",
       "      <td>L_CPP102</td>\n",
       "      <td>Jerry</td>\n",
       "      <td>M</td>\n",
       "      <td>47</td>\n",
       "      <td>577132</td>\n",
       "      <td>Mudigere</td>\n",
       "      <td>KARNATAKA</td>\n",
       "      <td>GOV-DEFENCE</td>\n",
       "      <td>GMP-DR2</td>\n",
       "      <td>MCL</td>\n",
       "    </tr>\n",
       "    <tr>\n",
       "      <th>3</th>\n",
       "      <td>101115</td>\n",
       "      <td>L_CPP103</td>\n",
       "      <td>Karina</td>\n",
       "      <td>F</td>\n",
       "      <td>78</td>\n",
       "      <td>686693</td>\n",
       "      <td>Kothamangalam</td>\n",
       "      <td>KERALA</td>\n",
       "      <td>GOV-RAILWAY</td>\n",
       "      <td>GMP-DR4</td>\n",
       "      <td>HCL</td>\n",
       "    </tr>\n",
       "    <tr>\n",
       "      <th>4</th>\n",
       "      <td>101117</td>\n",
       "      <td>L_CPP104</td>\n",
       "      <td>Madeline</td>\n",
       "      <td>F</td>\n",
       "      <td>67</td>\n",
       "      <td>679307</td>\n",
       "      <td>Ottappalam</td>\n",
       "      <td>KERALA</td>\n",
       "      <td>GOV-DEFENCE</td>\n",
       "      <td>GMP-DR4</td>\n",
       "      <td>MCL</td>\n",
       "    </tr>\n",
       "  </tbody>\n",
       "</table>\n",
       "</div>"
      ],
      "text/plain": [
       "   NHS NUMBER LOCAL_PATIENT_IDENTIFIER      NAME GENDER  AGE  pincode  \\\n",
       "0      101111                 L_CPP100   Addison      M   75   678572   \n",
       "1      101112                 R_CPP101    Darrel      M   39   679333   \n",
       "2      101114                 L_CPP102     Jerry      M   47   577132   \n",
       "3      101115                 L_CPP103    Karina      F   78   686693   \n",
       "4      101117                 L_CPP104  Madeline      F   67   679307   \n",
       "\n",
       "           Taluk  statename CARE_SPELL_IDENTIFIER       GMP ETHNIC_CATEGORY  \n",
       "0        Alathur     KERALA                   OWN  GMP-DR11             BPL  \n",
       "1       Nilambur     KERALA                 GOV-A  GMP-DR19             HCL  \n",
       "2       Mudigere  KARNATAKA           GOV-DEFENCE   GMP-DR2             MCL  \n",
       "3  Kothamangalam     KERALA           GOV-RAILWAY   GMP-DR4             HCL  \n",
       "4     Ottappalam     KERALA           GOV-DEFENCE   GMP-DR4             MCL  "
      ]
     },
     "execution_count": 103,
     "metadata": {},
     "output_type": "execute_result"
    }
   ],
   "source": [
    "sheet.head()"
   ]
  },
  {
   "cell_type": "code",
   "execution_count": 105,
   "metadata": {
    "collapsed": true
   },
   "outputs": [],
   "source": [
    "def fun1(x):\n",
    "    if x[\"LOCAL_PATIENT_IDENTIFIER\"].startswith(\"R\"):\n",
    "        return True\n",
    "    else:\n",
    "        return False"
   ]
  },
  {
   "cell_type": "code",
   "execution_count": 114,
   "metadata": {
    "scrolled": true
   },
   "outputs": [
    {
     "data": {
      "text/plain": [
       "<bound method Series.reindex of 1      GMP-DR19\n",
       "6      GMP-DR19\n",
       "8       GMP-DR4\n",
       "19      GMP-DR2\n",
       "20      GMP-DR4\n",
       "21     GMP-DR11\n",
       "25     GMP-DR19\n",
       "26      GMP-DR1\n",
       "27      GMP-DR7\n",
       "28      GMP-DR1\n",
       "29     GMP-DR11\n",
       "32      GMP-DR1\n",
       "34      GMP-DR4\n",
       "35      GMP-DR4\n",
       "38     GMP-DR19\n",
       "39      GMP-DR1\n",
       "41      GMP-DR4\n",
       "42      GMP-DR1\n",
       "43      GMP-DR3\n",
       "45      GMP-DR3\n",
       "46      GMP-DR3\n",
       "47     GMP-DR11\n",
       "53      GMP-DR1\n",
       "56      GMP-DR2\n",
       "57      GMP-DR3\n",
       "60      GMP-DR7\n",
       "61     GMP-DR11\n",
       "62      GMP-DR2\n",
       "65      GMP-DR1\n",
       "71     GMP-DR11\n",
       "         ...   \n",
       "854         NaN\n",
       "856         NaN\n",
       "857         NaN\n",
       "860         NaN\n",
       "861         NaN\n",
       "862         NaN\n",
       "864         NaN\n",
       "866         NaN\n",
       "867         NaN\n",
       "869         NaN\n",
       "871         NaN\n",
       "873         NaN\n",
       "874         NaN\n",
       "875         NaN\n",
       "876         NaN\n",
       "878         NaN\n",
       "879         NaN\n",
       "880         NaN\n",
       "882         NaN\n",
       "883         NaN\n",
       "884         NaN\n",
       "885         NaN\n",
       "886         NaN\n",
       "887         NaN\n",
       "891         NaN\n",
       "895         NaN\n",
       "896         NaN\n",
       "897         NaN\n",
       "898         NaN\n",
       "899         NaN\n",
       "Name: GMP, dtype: object>"
      ]
     },
     "execution_count": 114,
     "metadata": {},
     "output_type": "execute_result"
    }
   ],
   "source": [
    "refer_GMP=sheet[sheet.apply(fun1,axis=1)][\"GMP\"]\n",
    "refer_GMP."
   ]
  },
  {
   "cell_type": "code",
   "execution_count": 63,
   "metadata": {
    "collapsed": true
   },
   "outputs": [],
   "source": [
    "def fun2(x):\n",
    "    if x.startswith(\"R\"):\n",
    "        return x\n"
   ]
  },
  {
   "cell_type": "code",
   "execution_count": 75,
   "metadata": {},
   "outputs": [
    {
     "data": {
      "text/html": [
       "<div>\n",
       "<table border=\"1\" class=\"dataframe\">\n",
       "  <thead>\n",
       "    <tr style=\"text-align: right;\">\n",
       "      <th></th>\n",
       "      <th>R_CPP101</th>\n",
       "    </tr>\n",
       "  </thead>\n",
       "  <tbody>\n",
       "    <tr>\n",
       "      <th>0</th>\n",
       "      <td>R_CPP106</td>\n",
       "    </tr>\n",
       "    <tr>\n",
       "      <th>1</th>\n",
       "      <td>R_CPP108</td>\n",
       "    </tr>\n",
       "    <tr>\n",
       "      <th>2</th>\n",
       "      <td>R_CPP119</td>\n",
       "    </tr>\n",
       "    <tr>\n",
       "      <th>3</th>\n",
       "      <td>R_CPP120</td>\n",
       "    </tr>\n",
       "    <tr>\n",
       "      <th>4</th>\n",
       "      <td>R_CPP121</td>\n",
       "    </tr>\n",
       "  </tbody>\n",
       "</table>\n",
       "</div>"
      ],
      "text/plain": [
       "   R_CPP101\n",
       "0  R_CPP106\n",
       "1  R_CPP108\n",
       "2  R_CPP119\n",
       "3  R_CPP120\n",
       "4  R_CPP121"
      ]
     },
     "execution_count": 75,
     "metadata": {},
     "output_type": "execute_result"
    }
   ],
   "source": [
    "#h7=open(\"ref_patient.csv\",'w')\n",
    "R=sheet[\"LOCAL_PATIENT_IDENTIFIER\"].apply(fun2).dropna()\n",
    "R.to_csv(\"referal.csv\",index=None)\n",
    "R_df=pd.read_csv('referal.csv')\n",
    "R_df.head()"
   ]
  },
  {
   "cell_type": "code",
   "execution_count": 227,
   "metadata": {
    "collapsed": true
   },
   "outputs": [],
   "source": [
    "#sheet[\"LOCAL_PATIENT_IDENTIFIER\"]"
   ]
  },
  {
   "cell_type": "markdown",
   "metadata": {},
   "source": [
    "###SHEET-2"
   ]
  },
  {
   "cell_type": "code",
   "execution_count": 68,
   "metadata": {
    "collapsed": true
   },
   "outputs": [],
   "source": [
    "source_ref_cncr=[\"01_Emergency\",\"02_Referral from GMP\",\"03_Referral from Consultant\",\"04_Self Referral\",\"05_Private Health Care\"]*1000\n",
    "src_sa=random.sample(source_ref_cncr,1000)\n",
    "h6=open(\"source_ref_cncr.csv\",\"w\")\n",
    "for i in src_sa:\n",
    "    h6.write(i+\"\\n\")\n",
    "h6.close()"
   ]
  },
  {
   "cell_type": "code",
   "execution_count": 81,
   "metadata": {
    "collapsed": true
   },
   "outputs": [],
   "source": [
    "ref_org_code=['NHS_Trust',\"GP_Practice\",\"GP_Practice\",\"Not_Applicable\",\"GP_Practice\"]*1000\n",
    "ref_org_codej_sample=random.sample(ref_org_code,1000)\n",
    "h8=open(\"ref_org_code.csv\",\"w\")\n",
    "for i in ref_org_codej_sample:\n",
    "    h8.write(i+\"\\n\")\n",
    "h8.close()"
   ]
  },
  {
   "cell_type": "code",
   "execution_count": 228,
   "metadata": {
    "collapsed": true
   },
   "outputs": [],
   "source": [
    "ref_org_code_df=pd.read_csv(\"ref_org_code.csv\",header=None,names=['REFERRING_ORGANISATION_CODE'])"
   ]
  },
  {
   "cell_type": "code",
   "execution_count": 229,
   "metadata": {
    "collapsed": true
   },
   "outputs": [],
   "source": [
    "def fun3(x):\n",
    "    if (x['SOURCE_OF_REFERRAL_FOR_CANCER'].startswith(\"04\")) or (x['SOURCE_OF_REFERRAL_FOR_CANCER'].startswith(\"Not\")):\n",
    "        return \"Not_Applicable\"\n",
    "    else:\n",
    "        return ref_org_codej_sample[random.randint(1,100)]"
   ]
  },
  {
   "cell_type": "code",
   "execution_count": 230,
   "metadata": {
    "collapsed": true
   },
   "outputs": [],
   "source": [
    "sheet2['REFERRING_ORGANIZATION_CODE']=sheet2.apply(fun3,axis=1)"
   ]
  },
  {
   "cell_type": "code",
   "execution_count": 99,
   "metadata": {
    "collapsed": true
   },
   "outputs": [],
   "source": [
    "ref_org_code_df=sheet2['SOURCE_OF_REFERRAL_FOR_CANCER']"
   ]
  },
  {
   "cell_type": "code",
   "execution_count": 69,
   "metadata": {
    "collapsed": true
   },
   "outputs": [],
   "source": [
    "source_ref_cncr_df=pd.read_csv(\"source_ref_cncr.csv\",header=None,names=['SOURCE_OF_REFERRAL_FOR_CANCER'])"
   ]
  },
  {
   "cell_type": "code",
   "execution_count": 119,
   "metadata": {
    "collapsed": true
   },
   "outputs": [],
   "source": []
  },
  {
   "cell_type": "code",
   "execution_count": 171,
   "metadata": {
    "collapsed": true
   },
   "outputs": [],
   "source": [
    "def fun4(x):\n",
    "    if (str(x[\"LOCAL_PATIENT_IDENTIFIER\"]).startswith(\"L\")):\n",
    "        return \"Not_Applicable\"\n",
    "    else:\n",
    "        return str(src_sa[random.randint(1,100)])"
   ]
  },
  {
   "cell_type": "code",
   "execution_count": 164,
   "metadata": {},
   "outputs": [
    {
     "data": {
      "text/plain": [
       "dtype('O')"
      ]
     },
     "execution_count": 164,
     "metadata": {},
     "output_type": "execute_result"
    }
   ],
   "source": [
    "sheet2[\"LOCAL_PATIENT_IDENTIFIER\"].dtype"
   ]
  },
  {
   "cell_type": "code",
   "execution_count": 190,
   "metadata": {
    "collapsed": true
   },
   "outputs": [],
   "source": [
    "ref_cancer=sheet2.apply(fun4,axis=1)"
   ]
  },
  {
   "cell_type": "code",
   "execution_count": 226,
   "metadata": {
    "collapsed": true
   },
   "outputs": [],
   "source": [
    "#ef_cancer.rename(index='SOURCE_OF_REFERRAL_FOR_CANCER')"
   ]
  },
  {
   "cell_type": "code",
   "execution_count": 241,
   "metadata": {
    "collapsed": true
   },
   "outputs": [],
   "source": []
  },
  {
   "cell_type": "code",
   "execution_count": 242,
   "metadata": {
    "collapsed": true
   },
   "outputs": [],
   "source": [
    "ref_cod=[\"GP_DR1\",\"GP_DR7\",\"GP_DR5\",\"GP_DR4\",\"GP_DR3\",\"GP_DR2\"]*1000\n",
    "ref_doc_sa=random.sample(ref_cod,999)\n",
    "h9=open(\"ref_doc.csv\",\"w\")\n",
    "for i in ref_doc_sa:\n",
    "    h9.write(i+\"\\n\")\n",
    "h9.close()"
   ]
  },
  {
   "cell_type": "code",
   "execution_count": 245,
   "metadata": {
    "collapsed": true
   },
   "outputs": [],
   "source": [
    "#sheet2.drop([\"SOURCE_OF_REFERRAL_FOR_CANCER\"],axis=1)\n",
    "def fun3(x):\n",
    "    if (str(x['SOURCE_OF_REFERRAL_FOR_CANCER']).startswith(\"04\")) or (str(x['LOCAL_PATIENT_IDENTIFIER']).startswith(\"L\")):\n",
    "        return \"Not_Applicable\"\n",
    "    else:\n",
    "        return str(ref_doc_sa[random.randint(1,100)])"
   ]
  },
  {
   "cell_type": "code",
   "execution_count": 246,
   "metadata": {
    "collapsed": true
   },
   "outputs": [],
   "source": [
    "sheet2['REFERRER_CODE']=sheet2.apply(fun3,axis=1)"
   ]
  },
  {
   "cell_type": "code",
   "execution_count": 251,
   "metadata": {},
   "outputs": [
    {
     "data": {
      "text/html": [
       "<div>\n",
       "<table border=\"1\" class=\"dataframe\">\n",
       "  <thead>\n",
       "    <tr style=\"text-align: right;\">\n",
       "      <th></th>\n",
       "      <th>REFERRER_CODE</th>\n",
       "    </tr>\n",
       "  </thead>\n",
       "  <tbody>\n",
       "    <tr>\n",
       "      <th>0</th>\n",
       "      <td>GP_DR2</td>\n",
       "    </tr>\n",
       "    <tr>\n",
       "      <th>1</th>\n",
       "      <td>GP_DR1</td>\n",
       "    </tr>\n",
       "    <tr>\n",
       "      <th>2</th>\n",
       "      <td>GP_DR1</td>\n",
       "    </tr>\n",
       "    <tr>\n",
       "      <th>3</th>\n",
       "      <td>GP_DR5</td>\n",
       "    </tr>\n",
       "    <tr>\n",
       "      <th>4</th>\n",
       "      <td>GP_DR4</td>\n",
       "    </tr>\n",
       "  </tbody>\n",
       "</table>\n",
       "</div>"
      ],
      "text/plain": [
       "  REFERRER_CODE\n",
       "0        GP_DR2\n",
       "1        GP_DR1\n",
       "2        GP_DR1\n",
       "3        GP_DR5\n",
       "4        GP_DR4"
      ]
     },
     "execution_count": 251,
     "metadata": {},
     "output_type": "execute_result"
    }
   ],
   "source": [
    "ref_doc_df=pd.read_csv(\"ref_doc.csv\",header=None, names=[\"REFERRER_CODE\"])\n",
    "ref_doc_df.head()"
   ]
  },
  {
   "cell_type": "code",
   "execution_count": 8,
   "metadata": {
    "collapsed": true
   },
   "outputs": [],
   "source": [
    "urg=[\"01_Urgent\",\"02_Urgency\"]*1000"
   ]
  },
  {
   "cell_type": "code",
   "execution_count": 15,
   "metadata": {
    "collapsed": true
   },
   "outputs": [],
   "source": [
    "urg_sa=random.sample(urg,1000)\n",
    "h1=open(\"CANCER_REFERRAL_PRIORITY_TYPE.csv\",\"w\")\n",
    "for i in urg_sa:\n",
    "    h1.write(i+\"\\n\")\n",
    "h1.close()"
   ]
  },
  {
   "cell_type": "code",
   "execution_count": 16,
   "metadata": {
    "collapsed": true
   },
   "outputs": [],
   "source": [
    "PRIORITY_TYPES=pd.read_csv(\"CANCER_REFERRAL_PRIORITY_TYPE.csv\",header=None,names=[\"CANCER_REFERRAL_PRIORITY_TYPES\"])"
   ]
  },
  {
   "cell_type": "code",
   "execution_count": 17,
   "metadata": {},
   "outputs": [
    {
     "data": {
      "text/html": [
       "<div>\n",
       "<style scoped>\n",
       "    .dataframe tbody tr th:only-of-type {\n",
       "        vertical-align: middle;\n",
       "    }\n",
       "\n",
       "    .dataframe tbody tr th {\n",
       "        vertical-align: top;\n",
       "    }\n",
       "\n",
       "    .dataframe thead th {\n",
       "        text-align: right;\n",
       "    }\n",
       "</style>\n",
       "<table border=\"1\" class=\"dataframe\">\n",
       "  <thead>\n",
       "    <tr style=\"text-align: right;\">\n",
       "      <th></th>\n",
       "      <th>CANCER_REFERRAL_PRIORITY_TYPES</th>\n",
       "    </tr>\n",
       "  </thead>\n",
       "  <tbody>\n",
       "    <tr>\n",
       "      <th>0</th>\n",
       "      <td>01_Urgent</td>\n",
       "    </tr>\n",
       "    <tr>\n",
       "      <th>1</th>\n",
       "      <td>01_Urgent</td>\n",
       "    </tr>\n",
       "    <tr>\n",
       "      <th>2</th>\n",
       "      <td>02_Urgency</td>\n",
       "    </tr>\n",
       "    <tr>\n",
       "      <th>3</th>\n",
       "      <td>01_Urgent</td>\n",
       "    </tr>\n",
       "    <tr>\n",
       "      <th>4</th>\n",
       "      <td>02_Urgency</td>\n",
       "    </tr>\n",
       "  </tbody>\n",
       "</table>\n",
       "</div>"
      ],
      "text/plain": [
       "  CANCER_REFERRAL_PRIORITY_TYPES\n",
       "0                      01_Urgent\n",
       "1                      01_Urgent\n",
       "2                     02_Urgency\n",
       "3                      01_Urgent\n",
       "4                     02_Urgency"
      ]
     },
     "execution_count": 17,
     "metadata": {},
     "output_type": "execute_result"
    }
   ],
   "source": [
    "PRIORITY_TYPES.head()\n"
   ]
  },
  {
   "cell_type": "code",
   "execution_count": 4,
   "metadata": {
    "collapsed": true
   },
   "outputs": [],
   "source": [
    "sheet_new=pd.read_csv(\"sheet2.csv\")"
   ]
  },
  {
   "cell_type": "code",
   "execution_count": 22,
   "metadata": {},
   "outputs": [
    {
     "data": {
      "text/html": [
       "<div>\n",
       "<style scoped>\n",
       "    .dataframe tbody tr th:only-of-type {\n",
       "        vertical-align: middle;\n",
       "    }\n",
       "\n",
       "    .dataframe tbody tr th {\n",
       "        vertical-align: top;\n",
       "    }\n",
       "\n",
       "    .dataframe thead th {\n",
       "        text-align: right;\n",
       "    }\n",
       "</style>\n",
       "<table border=\"1\" class=\"dataframe\">\n",
       "  <thead>\n",
       "    <tr style=\"text-align: right;\">\n",
       "      <th></th>\n",
       "      <th>LOCAL_PATIENT_IDENTIFIER</th>\n",
       "      <th>SOURCE_OF_REFERRAL_FOR_CANCER</th>\n",
       "      <th>REFERRING_ORGANIZATION_CODE</th>\n",
       "      <th>REFERRER_CODE</th>\n",
       "      <th>CANCER_REFERRAL_PRIORITY_TYPES</th>\n",
       "    </tr>\n",
       "  </thead>\n",
       "  <tbody>\n",
       "    <tr>\n",
       "      <th>0</th>\n",
       "      <td>L_CPP100</td>\n",
       "      <td>Not_Applicable</td>\n",
       "      <td>Not_Applicable</td>\n",
       "      <td>Not_Applicable</td>\n",
       "      <td>01_Urgent</td>\n",
       "    </tr>\n",
       "    <tr>\n",
       "      <th>1</th>\n",
       "      <td>R_CPP101</td>\n",
       "      <td>03_Referral from Consultant</td>\n",
       "      <td>GP_Practice</td>\n",
       "      <td>GP_DR2</td>\n",
       "      <td>01_Urgent</td>\n",
       "    </tr>\n",
       "    <tr>\n",
       "      <th>2</th>\n",
       "      <td>L_CPP102</td>\n",
       "      <td>Not_Applicable</td>\n",
       "      <td>Not_Applicable</td>\n",
       "      <td>Not_Applicable</td>\n",
       "      <td>02_Urgency</td>\n",
       "    </tr>\n",
       "    <tr>\n",
       "      <th>3</th>\n",
       "      <td>L_CPP103</td>\n",
       "      <td>Not_Applicable</td>\n",
       "      <td>Not_Applicable</td>\n",
       "      <td>Not_Applicable</td>\n",
       "      <td>01_Urgent</td>\n",
       "    </tr>\n",
       "    <tr>\n",
       "      <th>4</th>\n",
       "      <td>L_CPP104</td>\n",
       "      <td>Not_Applicable</td>\n",
       "      <td>Not_Applicable</td>\n",
       "      <td>Not_Applicable</td>\n",
       "      <td>02_Urgency</td>\n",
       "    </tr>\n",
       "  </tbody>\n",
       "</table>\n",
       "</div>"
      ],
      "text/plain": [
       "  LOCAL_PATIENT_IDENTIFIER SOURCE_OF_REFERRAL_FOR_CANCER  \\\n",
       "0                 L_CPP100                Not_Applicable   \n",
       "1                 R_CPP101   03_Referral from Consultant   \n",
       "2                 L_CPP102                Not_Applicable   \n",
       "3                 L_CPP103                Not_Applicable   \n",
       "4                 L_CPP104                Not_Applicable   \n",
       "\n",
       "  REFERRING_ORGANIZATION_CODE   REFERRER_CODE CANCER_REFERRAL_PRIORITY_TYPES  \n",
       "0              Not_Applicable  Not_Applicable                      01_Urgent  \n",
       "1                 GP_Practice          GP_DR2                      01_Urgent  \n",
       "2              Not_Applicable  Not_Applicable                     02_Urgency  \n",
       "3              Not_Applicable  Not_Applicable                      01_Urgent  \n",
       "4              Not_Applicable  Not_Applicable                     02_Urgency  "
      ]
     },
     "execution_count": 22,
     "metadata": {},
     "output_type": "execute_result"
    }
   ],
   "source": [
    "f=pd.concat([sheet_new,PRIORITY_TYPES],axis=1)\n",
    "f.head()"
   ]
  },
  {
   "cell_type": "code",
   "execution_count": 19,
   "metadata": {
    "collapsed": true
   },
   "outputs": [],
   "source": [
    "f.to_csv(\"sheet2.csv\",index=None)"
   ]
  },
  {
   "cell_type": "code",
   "execution_count": 20,
   "metadata": {},
   "outputs": [
    {
     "data": {
      "text/html": [
       "<div>\n",
       "<style scoped>\n",
       "    .dataframe tbody tr th:only-of-type {\n",
       "        vertical-align: middle;\n",
       "    }\n",
       "\n",
       "    .dataframe tbody tr th {\n",
       "        vertical-align: top;\n",
       "    }\n",
       "\n",
       "    .dataframe thead th {\n",
       "        text-align: right;\n",
       "    }\n",
       "</style>\n",
       "<table border=\"1\" class=\"dataframe\">\n",
       "  <thead>\n",
       "    <tr style=\"text-align: right;\">\n",
       "      <th></th>\n",
       "      <th>LOCAL_PATIENT_IDENTIFIER</th>\n",
       "      <th>SOURCE_OF_REFERRAL_FOR_CANCER</th>\n",
       "      <th>REFERRING_ORGANIZATION_CODE</th>\n",
       "      <th>REFERRER_CODE</th>\n",
       "    </tr>\n",
       "  </thead>\n",
       "  <tbody>\n",
       "    <tr>\n",
       "      <th>0</th>\n",
       "      <td>L_CPP100</td>\n",
       "      <td>Not_Applicable</td>\n",
       "      <td>Not_Applicable</td>\n",
       "      <td>Not_Applicable</td>\n",
       "    </tr>\n",
       "    <tr>\n",
       "      <th>1</th>\n",
       "      <td>R_CPP101</td>\n",
       "      <td>03_Referral from Consultant</td>\n",
       "      <td>GP_Practice</td>\n",
       "      <td>GP_DR2</td>\n",
       "    </tr>\n",
       "    <tr>\n",
       "      <th>2</th>\n",
       "      <td>L_CPP102</td>\n",
       "      <td>Not_Applicable</td>\n",
       "      <td>Not_Applicable</td>\n",
       "      <td>Not_Applicable</td>\n",
       "    </tr>\n",
       "    <tr>\n",
       "      <th>3</th>\n",
       "      <td>L_CPP103</td>\n",
       "      <td>Not_Applicable</td>\n",
       "      <td>Not_Applicable</td>\n",
       "      <td>Not_Applicable</td>\n",
       "    </tr>\n",
       "    <tr>\n",
       "      <th>4</th>\n",
       "      <td>L_CPP104</td>\n",
       "      <td>Not_Applicable</td>\n",
       "      <td>Not_Applicable</td>\n",
       "      <td>Not_Applicable</td>\n",
       "    </tr>\n",
       "    <tr>\n",
       "      <th>5</th>\n",
       "      <td>L_CPP105</td>\n",
       "      <td>Not_Applicable</td>\n",
       "      <td>Not_Applicable</td>\n",
       "      <td>Not_Applicable</td>\n",
       "    </tr>\n",
       "    <tr>\n",
       "      <th>6</th>\n",
       "      <td>R_CPP106</td>\n",
       "      <td>05_Private Health Care</td>\n",
       "      <td>GP_Practice</td>\n",
       "      <td>GP_DR2</td>\n",
       "    </tr>\n",
       "    <tr>\n",
       "      <th>7</th>\n",
       "      <td>L_CPP107</td>\n",
       "      <td>Not_Applicable</td>\n",
       "      <td>Not_Applicable</td>\n",
       "      <td>Not_Applicable</td>\n",
       "    </tr>\n",
       "    <tr>\n",
       "      <th>8</th>\n",
       "      <td>R_CPP108</td>\n",
       "      <td>03_Referral from Consultant</td>\n",
       "      <td>GP_Practice</td>\n",
       "      <td>GP_DR7</td>\n",
       "    </tr>\n",
       "    <tr>\n",
       "      <th>9</th>\n",
       "      <td>L_CPP109</td>\n",
       "      <td>Not_Applicable</td>\n",
       "      <td>Not_Applicable</td>\n",
       "      <td>Not_Applicable</td>\n",
       "    </tr>\n",
       "    <tr>\n",
       "      <th>10</th>\n",
       "      <td>L_CPP110</td>\n",
       "      <td>Not_Applicable</td>\n",
       "      <td>Not_Applicable</td>\n",
       "      <td>Not_Applicable</td>\n",
       "    </tr>\n",
       "    <tr>\n",
       "      <th>11</th>\n",
       "      <td>L_CPP111</td>\n",
       "      <td>Not_Applicable</td>\n",
       "      <td>Not_Applicable</td>\n",
       "      <td>Not_Applicable</td>\n",
       "    </tr>\n",
       "    <tr>\n",
       "      <th>12</th>\n",
       "      <td>L_CPP112</td>\n",
       "      <td>Not_Applicable</td>\n",
       "      <td>Not_Applicable</td>\n",
       "      <td>Not_Applicable</td>\n",
       "    </tr>\n",
       "    <tr>\n",
       "      <th>13</th>\n",
       "      <td>L_CPP113</td>\n",
       "      <td>Not_Applicable</td>\n",
       "      <td>Not_Applicable</td>\n",
       "      <td>Not_Applicable</td>\n",
       "    </tr>\n",
       "    <tr>\n",
       "      <th>14</th>\n",
       "      <td>L_CPP114</td>\n",
       "      <td>Not_Applicable</td>\n",
       "      <td>Not_Applicable</td>\n",
       "      <td>Not_Applicable</td>\n",
       "    </tr>\n",
       "    <tr>\n",
       "      <th>15</th>\n",
       "      <td>L_CPP115</td>\n",
       "      <td>Not_Applicable</td>\n",
       "      <td>Not_Applicable</td>\n",
       "      <td>Not_Applicable</td>\n",
       "    </tr>\n",
       "    <tr>\n",
       "      <th>16</th>\n",
       "      <td>L_CPP116</td>\n",
       "      <td>Not_Applicable</td>\n",
       "      <td>Not_Applicable</td>\n",
       "      <td>Not_Applicable</td>\n",
       "    </tr>\n",
       "    <tr>\n",
       "      <th>17</th>\n",
       "      <td>L_CPP117</td>\n",
       "      <td>Not_Applicable</td>\n",
       "      <td>Not_Applicable</td>\n",
       "      <td>Not_Applicable</td>\n",
       "    </tr>\n",
       "    <tr>\n",
       "      <th>18</th>\n",
       "      <td>L_CPP118</td>\n",
       "      <td>Not_Applicable</td>\n",
       "      <td>Not_Applicable</td>\n",
       "      <td>Not_Applicable</td>\n",
       "    </tr>\n",
       "    <tr>\n",
       "      <th>19</th>\n",
       "      <td>R_CPP119</td>\n",
       "      <td>05_Private Health Care</td>\n",
       "      <td>NHS_Trust</td>\n",
       "      <td>GP_DR2</td>\n",
       "    </tr>\n",
       "    <tr>\n",
       "      <th>20</th>\n",
       "      <td>R_CPP120</td>\n",
       "      <td>05_Private Health Care</td>\n",
       "      <td>NHS_Trust</td>\n",
       "      <td>GP_DR2</td>\n",
       "    </tr>\n",
       "    <tr>\n",
       "      <th>21</th>\n",
       "      <td>R_CPP121</td>\n",
       "      <td>03_Referral from Consultant</td>\n",
       "      <td>GP_Practice</td>\n",
       "      <td>GP_DR2</td>\n",
       "    </tr>\n",
       "    <tr>\n",
       "      <th>22</th>\n",
       "      <td>L_CPP122</td>\n",
       "      <td>Not_Applicable</td>\n",
       "      <td>Not_Applicable</td>\n",
       "      <td>Not_Applicable</td>\n",
       "    </tr>\n",
       "    <tr>\n",
       "      <th>23</th>\n",
       "      <td>L_CPP123</td>\n",
       "      <td>Not_Applicable</td>\n",
       "      <td>Not_Applicable</td>\n",
       "      <td>Not_Applicable</td>\n",
       "    </tr>\n",
       "    <tr>\n",
       "      <th>24</th>\n",
       "      <td>L_CPP124</td>\n",
       "      <td>Not_Applicable</td>\n",
       "      <td>Not_Applicable</td>\n",
       "      <td>Not_Applicable</td>\n",
       "    </tr>\n",
       "    <tr>\n",
       "      <th>25</th>\n",
       "      <td>R_CPP125</td>\n",
       "      <td>02_Referral from GMP</td>\n",
       "      <td>Not_Applicable</td>\n",
       "      <td>GP_DR1</td>\n",
       "    </tr>\n",
       "    <tr>\n",
       "      <th>26</th>\n",
       "      <td>R_CPP126</td>\n",
       "      <td>04_Self Referral</td>\n",
       "      <td>Not_Applicable</td>\n",
       "      <td>Not_Applicable</td>\n",
       "    </tr>\n",
       "    <tr>\n",
       "      <th>27</th>\n",
       "      <td>R_CPP127</td>\n",
       "      <td>04_Self Referral</td>\n",
       "      <td>Not_Applicable</td>\n",
       "      <td>Not_Applicable</td>\n",
       "    </tr>\n",
       "    <tr>\n",
       "      <th>28</th>\n",
       "      <td>R_CPP128</td>\n",
       "      <td>02_Referral from GMP</td>\n",
       "      <td>Not_Applicable</td>\n",
       "      <td>GP_DR3</td>\n",
       "    </tr>\n",
       "    <tr>\n",
       "      <th>29</th>\n",
       "      <td>R_CPP129</td>\n",
       "      <td>03_Referral from Consultant</td>\n",
       "      <td>Not_Applicable</td>\n",
       "      <td>GP_DR5</td>\n",
       "    </tr>\n",
       "    <tr>\n",
       "      <th>...</th>\n",
       "      <td>...</td>\n",
       "      <td>...</td>\n",
       "      <td>...</td>\n",
       "      <td>...</td>\n",
       "    </tr>\n",
       "    <tr>\n",
       "      <th>970</th>\n",
       "      <td>NaN</td>\n",
       "      <td>01_Emergency</td>\n",
       "      <td>GP_Practice</td>\n",
       "      <td>GP_DR2</td>\n",
       "    </tr>\n",
       "    <tr>\n",
       "      <th>971</th>\n",
       "      <td>NaN</td>\n",
       "      <td>03_Referral from Consultant</td>\n",
       "      <td>NHS_Trust</td>\n",
       "      <td>GP_DR3</td>\n",
       "    </tr>\n",
       "    <tr>\n",
       "      <th>972</th>\n",
       "      <td>NaN</td>\n",
       "      <td>01_Emergency</td>\n",
       "      <td>GP_Practice</td>\n",
       "      <td>GP_DR1</td>\n",
       "    </tr>\n",
       "    <tr>\n",
       "      <th>973</th>\n",
       "      <td>NaN</td>\n",
       "      <td>03_Referral from Consultant</td>\n",
       "      <td>GP_Practice</td>\n",
       "      <td>GP_DR1</td>\n",
       "    </tr>\n",
       "    <tr>\n",
       "      <th>974</th>\n",
       "      <td>NaN</td>\n",
       "      <td>01_Emergency</td>\n",
       "      <td>GP_Practice</td>\n",
       "      <td>GP_DR2</td>\n",
       "    </tr>\n",
       "    <tr>\n",
       "      <th>975</th>\n",
       "      <td>NaN</td>\n",
       "      <td>02_Referral from GMP</td>\n",
       "      <td>GP_Practice</td>\n",
       "      <td>GP_DR3</td>\n",
       "    </tr>\n",
       "    <tr>\n",
       "      <th>976</th>\n",
       "      <td>NaN</td>\n",
       "      <td>04_Self Referral</td>\n",
       "      <td>Not_Applicable</td>\n",
       "      <td>Not_Applicable</td>\n",
       "    </tr>\n",
       "    <tr>\n",
       "      <th>977</th>\n",
       "      <td>NaN</td>\n",
       "      <td>01_Emergency</td>\n",
       "      <td>Not_Applicable</td>\n",
       "      <td>GP_DR1</td>\n",
       "    </tr>\n",
       "    <tr>\n",
       "      <th>978</th>\n",
       "      <td>NaN</td>\n",
       "      <td>02_Referral from GMP</td>\n",
       "      <td>GP_Practice</td>\n",
       "      <td>GP_DR5</td>\n",
       "    </tr>\n",
       "    <tr>\n",
       "      <th>979</th>\n",
       "      <td>NaN</td>\n",
       "      <td>02_Referral from GMP</td>\n",
       "      <td>NHS_Trust</td>\n",
       "      <td>GP_DR4</td>\n",
       "    </tr>\n",
       "    <tr>\n",
       "      <th>980</th>\n",
       "      <td>NaN</td>\n",
       "      <td>02_Referral from GMP</td>\n",
       "      <td>Not_Applicable</td>\n",
       "      <td>GP_DR3</td>\n",
       "    </tr>\n",
       "    <tr>\n",
       "      <th>981</th>\n",
       "      <td>NaN</td>\n",
       "      <td>03_Referral from Consultant</td>\n",
       "      <td>Not_Applicable</td>\n",
       "      <td>GP_DR2</td>\n",
       "    </tr>\n",
       "    <tr>\n",
       "      <th>982</th>\n",
       "      <td>NaN</td>\n",
       "      <td>03_Referral from Consultant</td>\n",
       "      <td>GP_Practice</td>\n",
       "      <td>GP_DR5</td>\n",
       "    </tr>\n",
       "    <tr>\n",
       "      <th>983</th>\n",
       "      <td>NaN</td>\n",
       "      <td>02_Referral from GMP</td>\n",
       "      <td>GP_Practice</td>\n",
       "      <td>GP_DR3</td>\n",
       "    </tr>\n",
       "    <tr>\n",
       "      <th>984</th>\n",
       "      <td>NaN</td>\n",
       "      <td>02_Referral from GMP</td>\n",
       "      <td>GP_Practice</td>\n",
       "      <td>GP_DR7</td>\n",
       "    </tr>\n",
       "    <tr>\n",
       "      <th>985</th>\n",
       "      <td>NaN</td>\n",
       "      <td>05_Private Health Care</td>\n",
       "      <td>GP_Practice</td>\n",
       "      <td>GP_DR7</td>\n",
       "    </tr>\n",
       "    <tr>\n",
       "      <th>986</th>\n",
       "      <td>NaN</td>\n",
       "      <td>05_Private Health Care</td>\n",
       "      <td>NHS_Trust</td>\n",
       "      <td>GP_DR3</td>\n",
       "    </tr>\n",
       "    <tr>\n",
       "      <th>987</th>\n",
       "      <td>NaN</td>\n",
       "      <td>04_Self Referral</td>\n",
       "      <td>Not_Applicable</td>\n",
       "      <td>Not_Applicable</td>\n",
       "    </tr>\n",
       "    <tr>\n",
       "      <th>988</th>\n",
       "      <td>NaN</td>\n",
       "      <td>05_Private Health Care</td>\n",
       "      <td>Not_Applicable</td>\n",
       "      <td>GP_DR3</td>\n",
       "    </tr>\n",
       "    <tr>\n",
       "      <th>989</th>\n",
       "      <td>NaN</td>\n",
       "      <td>03_Referral from Consultant</td>\n",
       "      <td>Not_Applicable</td>\n",
       "      <td>GP_DR1</td>\n",
       "    </tr>\n",
       "    <tr>\n",
       "      <th>990</th>\n",
       "      <td>NaN</td>\n",
       "      <td>03_Referral from Consultant</td>\n",
       "      <td>GP_Practice</td>\n",
       "      <td>GP_DR4</td>\n",
       "    </tr>\n",
       "    <tr>\n",
       "      <th>991</th>\n",
       "      <td>NaN</td>\n",
       "      <td>04_Self Referral</td>\n",
       "      <td>Not_Applicable</td>\n",
       "      <td>Not_Applicable</td>\n",
       "    </tr>\n",
       "    <tr>\n",
       "      <th>992</th>\n",
       "      <td>NaN</td>\n",
       "      <td>05_Private Health Care</td>\n",
       "      <td>GP_Practice</td>\n",
       "      <td>GP_DR7</td>\n",
       "    </tr>\n",
       "    <tr>\n",
       "      <th>993</th>\n",
       "      <td>NaN</td>\n",
       "      <td>04_Self Referral</td>\n",
       "      <td>Not_Applicable</td>\n",
       "      <td>Not_Applicable</td>\n",
       "    </tr>\n",
       "    <tr>\n",
       "      <th>994</th>\n",
       "      <td>NaN</td>\n",
       "      <td>04_Self Referral</td>\n",
       "      <td>Not_Applicable</td>\n",
       "      <td>Not_Applicable</td>\n",
       "    </tr>\n",
       "    <tr>\n",
       "      <th>995</th>\n",
       "      <td>NaN</td>\n",
       "      <td>01_Emergency</td>\n",
       "      <td>GP_Practice</td>\n",
       "      <td>GP_DR2</td>\n",
       "    </tr>\n",
       "    <tr>\n",
       "      <th>996</th>\n",
       "      <td>NaN</td>\n",
       "      <td>01_Emergency</td>\n",
       "      <td>GP_Practice</td>\n",
       "      <td>GP_DR4</td>\n",
       "    </tr>\n",
       "    <tr>\n",
       "      <th>997</th>\n",
       "      <td>NaN</td>\n",
       "      <td>04_Self Referral</td>\n",
       "      <td>Not_Applicable</td>\n",
       "      <td>Not_Applicable</td>\n",
       "    </tr>\n",
       "    <tr>\n",
       "      <th>998</th>\n",
       "      <td>NaN</td>\n",
       "      <td>04_Self Referral</td>\n",
       "      <td>Not_Applicable</td>\n",
       "      <td>Not_Applicable</td>\n",
       "    </tr>\n",
       "    <tr>\n",
       "      <th>999</th>\n",
       "      <td>NaN</td>\n",
       "      <td>05_Private Health Care</td>\n",
       "      <td>NHS_Trust</td>\n",
       "      <td>GP_DR3</td>\n",
       "    </tr>\n",
       "  </tbody>\n",
       "</table>\n",
       "<p>1000 rows × 4 columns</p>\n",
       "</div>"
      ],
      "text/plain": [
       "    LOCAL_PATIENT_IDENTIFIER SOURCE_OF_REFERRAL_FOR_CANCER  \\\n",
       "0                   L_CPP100                Not_Applicable   \n",
       "1                   R_CPP101   03_Referral from Consultant   \n",
       "2                   L_CPP102                Not_Applicable   \n",
       "3                   L_CPP103                Not_Applicable   \n",
       "4                   L_CPP104                Not_Applicable   \n",
       "5                   L_CPP105                Not_Applicable   \n",
       "6                   R_CPP106        05_Private Health Care   \n",
       "7                   L_CPP107                Not_Applicable   \n",
       "8                   R_CPP108   03_Referral from Consultant   \n",
       "9                   L_CPP109                Not_Applicable   \n",
       "10                  L_CPP110                Not_Applicable   \n",
       "11                  L_CPP111                Not_Applicable   \n",
       "12                  L_CPP112                Not_Applicable   \n",
       "13                  L_CPP113                Not_Applicable   \n",
       "14                  L_CPP114                Not_Applicable   \n",
       "15                  L_CPP115                Not_Applicable   \n",
       "16                  L_CPP116                Not_Applicable   \n",
       "17                  L_CPP117                Not_Applicable   \n",
       "18                  L_CPP118                Not_Applicable   \n",
       "19                  R_CPP119        05_Private Health Care   \n",
       "20                  R_CPP120        05_Private Health Care   \n",
       "21                  R_CPP121   03_Referral from Consultant   \n",
       "22                  L_CPP122                Not_Applicable   \n",
       "23                  L_CPP123                Not_Applicable   \n",
       "24                  L_CPP124                Not_Applicable   \n",
       "25                  R_CPP125          02_Referral from GMP   \n",
       "26                  R_CPP126              04_Self Referral   \n",
       "27                  R_CPP127              04_Self Referral   \n",
       "28                  R_CPP128          02_Referral from GMP   \n",
       "29                  R_CPP129   03_Referral from Consultant   \n",
       "..                       ...                           ...   \n",
       "970                      NaN                  01_Emergency   \n",
       "971                      NaN   03_Referral from Consultant   \n",
       "972                      NaN                  01_Emergency   \n",
       "973                      NaN   03_Referral from Consultant   \n",
       "974                      NaN                  01_Emergency   \n",
       "975                      NaN          02_Referral from GMP   \n",
       "976                      NaN              04_Self Referral   \n",
       "977                      NaN                  01_Emergency   \n",
       "978                      NaN          02_Referral from GMP   \n",
       "979                      NaN          02_Referral from GMP   \n",
       "980                      NaN          02_Referral from GMP   \n",
       "981                      NaN   03_Referral from Consultant   \n",
       "982                      NaN   03_Referral from Consultant   \n",
       "983                      NaN          02_Referral from GMP   \n",
       "984                      NaN          02_Referral from GMP   \n",
       "985                      NaN        05_Private Health Care   \n",
       "986                      NaN        05_Private Health Care   \n",
       "987                      NaN              04_Self Referral   \n",
       "988                      NaN        05_Private Health Care   \n",
       "989                      NaN   03_Referral from Consultant   \n",
       "990                      NaN   03_Referral from Consultant   \n",
       "991                      NaN              04_Self Referral   \n",
       "992                      NaN        05_Private Health Care   \n",
       "993                      NaN              04_Self Referral   \n",
       "994                      NaN              04_Self Referral   \n",
       "995                      NaN                  01_Emergency   \n",
       "996                      NaN                  01_Emergency   \n",
       "997                      NaN              04_Self Referral   \n",
       "998                      NaN              04_Self Referral   \n",
       "999                      NaN        05_Private Health Care   \n",
       "\n",
       "    REFERRING_ORGANIZATION_CODE   REFERRER_CODE  \n",
       "0                Not_Applicable  Not_Applicable  \n",
       "1                   GP_Practice          GP_DR2  \n",
       "2                Not_Applicable  Not_Applicable  \n",
       "3                Not_Applicable  Not_Applicable  \n",
       "4                Not_Applicable  Not_Applicable  \n",
       "5                Not_Applicable  Not_Applicable  \n",
       "6                   GP_Practice          GP_DR2  \n",
       "7                Not_Applicable  Not_Applicable  \n",
       "8                   GP_Practice          GP_DR7  \n",
       "9                Not_Applicable  Not_Applicable  \n",
       "10               Not_Applicable  Not_Applicable  \n",
       "11               Not_Applicable  Not_Applicable  \n",
       "12               Not_Applicable  Not_Applicable  \n",
       "13               Not_Applicable  Not_Applicable  \n",
       "14               Not_Applicable  Not_Applicable  \n",
       "15               Not_Applicable  Not_Applicable  \n",
       "16               Not_Applicable  Not_Applicable  \n",
       "17               Not_Applicable  Not_Applicable  \n",
       "18               Not_Applicable  Not_Applicable  \n",
       "19                    NHS_Trust          GP_DR2  \n",
       "20                    NHS_Trust          GP_DR2  \n",
       "21                  GP_Practice          GP_DR2  \n",
       "22               Not_Applicable  Not_Applicable  \n",
       "23               Not_Applicable  Not_Applicable  \n",
       "24               Not_Applicable  Not_Applicable  \n",
       "25               Not_Applicable          GP_DR1  \n",
       "26               Not_Applicable  Not_Applicable  \n",
       "27               Not_Applicable  Not_Applicable  \n",
       "28               Not_Applicable          GP_DR3  \n",
       "29               Not_Applicable          GP_DR5  \n",
       "..                          ...             ...  \n",
       "970                 GP_Practice          GP_DR2  \n",
       "971                   NHS_Trust          GP_DR3  \n",
       "972                 GP_Practice          GP_DR1  \n",
       "973                 GP_Practice          GP_DR1  \n",
       "974                 GP_Practice          GP_DR2  \n",
       "975                 GP_Practice          GP_DR3  \n",
       "976              Not_Applicable  Not_Applicable  \n",
       "977              Not_Applicable          GP_DR1  \n",
       "978                 GP_Practice          GP_DR5  \n",
       "979                   NHS_Trust          GP_DR4  \n",
       "980              Not_Applicable          GP_DR3  \n",
       "981              Not_Applicable          GP_DR2  \n",
       "982                 GP_Practice          GP_DR5  \n",
       "983                 GP_Practice          GP_DR3  \n",
       "984                 GP_Practice          GP_DR7  \n",
       "985                 GP_Practice          GP_DR7  \n",
       "986                   NHS_Trust          GP_DR3  \n",
       "987              Not_Applicable  Not_Applicable  \n",
       "988              Not_Applicable          GP_DR3  \n",
       "989              Not_Applicable          GP_DR1  \n",
       "990                 GP_Practice          GP_DR4  \n",
       "991              Not_Applicable  Not_Applicable  \n",
       "992                 GP_Practice          GP_DR7  \n",
       "993              Not_Applicable  Not_Applicable  \n",
       "994              Not_Applicable  Not_Applicable  \n",
       "995                 GP_Practice          GP_DR2  \n",
       "996                 GP_Practice          GP_DR4  \n",
       "997              Not_Applicable  Not_Applicable  \n",
       "998              Not_Applicable  Not_Applicable  \n",
       "999                   NHS_Trust          GP_DR3  \n",
       "\n",
       "[1000 rows x 4 columns]"
      ]
     },
     "execution_count": 20,
     "metadata": {},
     "output_type": "execute_result"
    }
   ],
   "source": [
    "sh"
   ]
  }
 ],
 "metadata": {
  "kernelspec": {
   "display_name": "Python 2",
   "language": "python",
   "name": "python2"
  },
  "language_info": {
   "codemirror_mode": {
    "name": "ipython",
    "version": 2
   },
   "file_extension": ".py",
   "mimetype": "text/x-python",
   "name": "python",
   "nbconvert_exporter": "python",
   "pygments_lexer": "ipython2",
   "version": "2.7.13"
  }
 },
 "nbformat": 4,
 "nbformat_minor": 2
}
