{
 "cells": [
  {
   "cell_type": "code",
   "execution_count": 1,
   "metadata": {
    "collapsed": true
   },
   "outputs": [],
   "source": [
    "import pandas as pd\n",
    "from pandas import DataFrame as df\n",
    "import random\n",
    "import datetime"
   ]
  },
  {
   "cell_type": "code",
   "execution_count": null,
   "metadata": {
    "collapsed": true
   },
   "outputs": [],
   "source": []
  },
  {
   "cell_type": "code",
   "execution_count": 2,
   "metadata": {
    "collapsed": true
   },
   "outputs": [],
   "source": [
    "df1=pd.read_excel('cancer_data4.xlsx',sheet_name=\"DEMOGRAPHICS\")\n",
    "df2=pd.read_excel('cancer_data4.xlsx',sheet_name='REFERRAL')\n",
    "df3=pd.read_excel('cancer_data4.xlsx',sheet_name='IMAGING')\n",
    "df4=pd.read_excel('cancer_data4.xlsx',sheet_name='DIAGNOSIS')\n",
    "df5=pd.read_excel('cancer_data4.xlsx',sheet_name='CANCER CARE PLAN')\n",
    "df6=pd.read_excel('cancer_data4.xlsx',sheet_name='Staging')\n",
    "df7=pd.read_excel('cancer_data4.xlsx',sheet_name='Surgery&other procedures')\n",
    "df8=pd.read_excel('cancer_data4.xlsx',sheet_name='Pathology Details')\n",
    "df9=pd.read_excel(\"cancer_data4.xlsx\",sheet_name=\"chemotheropy & other drugs\")\n",
    "df10=pd.read_excel(\"cancer_data4.xlsx\",sheet_name=\"Radiotherapy(Teletherapy)\")\n",
    "df11=pd.read_excel(\"cancer_data4.xlsx\",sheet_name='Radiotherapy(Brachytherapy)')"
   ]
  },
  {
   "cell_type": "code",
   "execution_count": 9,
   "metadata": {
    "collapsed": true
   },
   "outputs": [],
   "source": [
    "df11=pd.concat([df1['LOCAL_PATIENT_IDENTIFIER']],axis=1)"
   ]
  },
  {
   "cell_type": "code",
   "execution_count": 10,
   "metadata": {
    "collapsed": true
   },
   "outputs": [],
   "source": [
    "df11['SITE CODE (OF BRACHYTHERAPY)']=df11.apply(lambda x:str(x['LOCAL_PATIENT_IDENTIFIER']).replace(\"C\",\"RADBRHPP\"),axis=1)"
   ]
  },
  {
   "cell_type": "code",
   "execution_count": null,
   "metadata": {
    "collapsed": true
   },
   "outputs": [],
   "source": []
  },
  {
   "cell_type": "code",
   "execution_count": 14,
   "metadata": {
    "collapsed": true
   },
   "outputs": [],
   "source": [
    "df11['DECISION TO TREAT DATE (BRACHYTHERAPY TREATMENT COURSE)']=df5['CARE PLAN AGREED DATE']"
   ]
  },
  {
   "cell_type": "code",
   "execution_count": 16,
   "metadata": {
    "collapsed": true
   },
   "outputs": [],
   "source": [
    "df11['CANCER TREATMENT INTENT']=df10['CANCER TREATMENT INTENT']"
   ]
  },
  {
   "cell_type": "code",
   "execution_count": 158,
   "metadata": {
    "collapsed": true
   },
   "outputs": [],
   "source": [
    "df11['START DATE (BRACHYTHERAPY TREATMENT COURSE)']=df10.apply(lambda x:x['END DATE (TELETHERAPY TREATMENT COURSE)']+datetime.timedelta(days=random.randint(1,2)),axis=1)"
   ]
  },
  {
   "cell_type": "code",
   "execution_count": 159,
   "metadata": {},
   "outputs": [
    {
     "data": {
      "text/html": [
       "<div>\n",
       "<style scoped>\n",
       "    .dataframe tbody tr th:only-of-type {\n",
       "        vertical-align: middle;\n",
       "    }\n",
       "\n",
       "    .dataframe tbody tr th {\n",
       "        vertical-align: top;\n",
       "    }\n",
       "\n",
       "    .dataframe thead th {\n",
       "        text-align: right;\n",
       "    }\n",
       "</style>\n",
       "<table border=\"1\" class=\"dataframe\">\n",
       "  <thead>\n",
       "    <tr style=\"text-align: right;\">\n",
       "      <th></th>\n",
       "      <th>LOCAL_PATIENT_IDENTIFIER</th>\n",
       "      <th>SITE CODE (OF BRACHYTHERAPY)</th>\n",
       "      <th>DECISION TO TREAT DATE (BRACHYTHERAPY TREATMENT COURSE)</th>\n",
       "      <th>CANCER TREATMENT INTENT</th>\n",
       "      <th>START DATE (BRACHYTHERAPY TREATMENT COURSE)</th>\n",
       "      <th>END DATE (BRACHYTHERAPY TREATMENT COURSE)</th>\n",
       "      <th>BRACHYTHERAPY DOSE RATE</th>\n",
       "      <th>DURATION OF BRACHYTHERAPY TREATMENT COURSE</th>\n",
       "    </tr>\n",
       "  </thead>\n",
       "  <tbody>\n",
       "    <tr>\n",
       "      <th>0</th>\n",
       "      <td>L_CPP100</td>\n",
       "      <td>L_RADBRHPPPP100</td>\n",
       "      <td>2017-02-22 12:37:09</td>\n",
       "      <td>D_Diagnostic</td>\n",
       "      <td>2017-03-29</td>\n",
       "      <td>2017-04-12</td>\n",
       "      <td>2_low</td>\n",
       "      <td>30 days</td>\n",
       "    </tr>\n",
       "    <tr>\n",
       "      <th>1</th>\n",
       "      <td>R_CPP101</td>\n",
       "      <td>R_RADBRHPPPP101</td>\n",
       "      <td>2017-02-22 00:06:57</td>\n",
       "      <td>A_Adjuvent</td>\n",
       "      <td>2017-04-13</td>\n",
       "      <td>2017-04-12</td>\n",
       "      <td>2_low</td>\n",
       "      <td>30 days</td>\n",
       "    </tr>\n",
       "    <tr>\n",
       "      <th>2</th>\n",
       "      <td>L_CPP102</td>\n",
       "      <td>L_RADBRHPPPP102</td>\n",
       "      <td>2017-03-09 16:13:24</td>\n",
       "      <td>N_Neoadjuvent</td>\n",
       "      <td>2017-04-14</td>\n",
       "      <td>2017-04-27</td>\n",
       "      <td>2_low</td>\n",
       "      <td>30 days</td>\n",
       "    </tr>\n",
       "    <tr>\n",
       "      <th>3</th>\n",
       "      <td>L_CPP103</td>\n",
       "      <td>L_RADBRHPPPP103</td>\n",
       "      <td>2017-02-21 19:48:52</td>\n",
       "      <td>C_Curative</td>\n",
       "      <td>2017-04-12</td>\n",
       "      <td>2017-04-27</td>\n",
       "      <td>1_High/medium</td>\n",
       "      <td>30 days</td>\n",
       "    </tr>\n",
       "    <tr>\n",
       "      <th>4</th>\n",
       "      <td>L_CPP104</td>\n",
       "      <td>L_RADBRHPPPP104</td>\n",
       "      <td>2017-02-24 04:11:12</td>\n",
       "      <td>S_Staging</td>\n",
       "      <td>2017-04-14</td>\n",
       "      <td>2017-04-12</td>\n",
       "      <td>1_High/medium</td>\n",
       "      <td>30 days</td>\n",
       "    </tr>\n",
       "  </tbody>\n",
       "</table>\n",
       "</div>"
      ],
      "text/plain": [
       "  LOCAL_PATIENT_IDENTIFIER SITE CODE (OF BRACHYTHERAPY)  \\\n",
       "0                 L_CPP100              L_RADBRHPPPP100   \n",
       "1                 R_CPP101              R_RADBRHPPPP101   \n",
       "2                 L_CPP102              L_RADBRHPPPP102   \n",
       "3                 L_CPP103              L_RADBRHPPPP103   \n",
       "4                 L_CPP104              L_RADBRHPPPP104   \n",
       "\n",
       "  DECISION TO TREAT DATE (BRACHYTHERAPY TREATMENT COURSE)  \\\n",
       "0                                2017-02-22 12:37:09        \n",
       "1                                2017-02-22 00:06:57        \n",
       "2                                2017-03-09 16:13:24        \n",
       "3                                2017-02-21 19:48:52        \n",
       "4                                2017-02-24 04:11:12        \n",
       "\n",
       "  CANCER TREATMENT INTENT START DATE (BRACHYTHERAPY TREATMENT COURSE)  \\\n",
       "0            D_Diagnostic                                  2017-03-29   \n",
       "1              A_Adjuvent                                  2017-04-13   \n",
       "2           N_Neoadjuvent                                  2017-04-14   \n",
       "3              C_Curative                                  2017-04-12   \n",
       "4               S_Staging                                  2017-04-14   \n",
       "\n",
       "  END DATE (BRACHYTHERAPY TREATMENT COURSE) BRACHYTHERAPY DOSE RATE  \\\n",
       "0                                2017-04-12                   2_low   \n",
       "1                                2017-04-12                   2_low   \n",
       "2                                2017-04-27                   2_low   \n",
       "3                                2017-04-27           1_High/medium   \n",
       "4                                2017-04-12           1_High/medium   \n",
       "\n",
       "  DURATION OF BRACHYTHERAPY TREATMENT COURSE  \n",
       "0                                    30 days  \n",
       "1                                    30 days  \n",
       "2                                    30 days  \n",
       "3                                    30 days  \n",
       "4                                    30 days  "
      ]
     },
     "execution_count": 159,
     "metadata": {},
     "output_type": "execute_result"
    }
   ],
   "source": [
    "df11.head()"
   ]
  },
  {
   "cell_type": "code",
   "execution_count": 160,
   "metadata": {
    "collapsed": true
   },
   "outputs": [],
   "source": [
    "lst=[14,21,30]"
   ]
  },
  {
   "cell_type": "code",
   "execution_count": 161,
   "metadata": {
    "collapsed": true
   },
   "outputs": [],
   "source": [
    "df11['END DATE (BRACHYTHERAPY TREATMENT COURSE)']=df11.apply(lambda x:x['START DATE (BRACHYTHERAPY TREATMENT COURSE)']+datetime.timedelta(days=lst[random.randint(0,2)]),axis=1)"
   ]
  },
  {
   "cell_type": "code",
   "execution_count": 162,
   "metadata": {},
   "outputs": [
    {
     "data": {
      "text/html": [
       "<div>\n",
       "<style scoped>\n",
       "    .dataframe tbody tr th:only-of-type {\n",
       "        vertical-align: middle;\n",
       "    }\n",
       "\n",
       "    .dataframe tbody tr th {\n",
       "        vertical-align: top;\n",
       "    }\n",
       "\n",
       "    .dataframe thead th {\n",
       "        text-align: right;\n",
       "    }\n",
       "</style>\n",
       "<table border=\"1\" class=\"dataframe\">\n",
       "  <thead>\n",
       "    <tr style=\"text-align: right;\">\n",
       "      <th></th>\n",
       "      <th>LOCAL_PATIENT_IDENTIFIER</th>\n",
       "      <th>SITE CODE (OF BRACHYTHERAPY)</th>\n",
       "      <th>DECISION TO TREAT DATE (BRACHYTHERAPY TREATMENT COURSE)</th>\n",
       "      <th>CANCER TREATMENT INTENT</th>\n",
       "      <th>START DATE (BRACHYTHERAPY TREATMENT COURSE)</th>\n",
       "      <th>END DATE (BRACHYTHERAPY TREATMENT COURSE)</th>\n",
       "      <th>BRACHYTHERAPY DOSE RATE</th>\n",
       "      <th>DURATION OF BRACHYTHERAPY TREATMENT COURSE</th>\n",
       "    </tr>\n",
       "  </thead>\n",
       "  <tbody>\n",
       "    <tr>\n",
       "      <th>0</th>\n",
       "      <td>L_CPP100</td>\n",
       "      <td>L_RADBRHPPPP100</td>\n",
       "      <td>2017-02-22 12:37:09</td>\n",
       "      <td>D_Diagnostic</td>\n",
       "      <td>2017-03-29</td>\n",
       "      <td>2017-04-19</td>\n",
       "      <td>2_low</td>\n",
       "      <td>30 days</td>\n",
       "    </tr>\n",
       "    <tr>\n",
       "      <th>1</th>\n",
       "      <td>R_CPP101</td>\n",
       "      <td>R_RADBRHPPPP101</td>\n",
       "      <td>2017-02-22 00:06:57</td>\n",
       "      <td>A_Adjuvent</td>\n",
       "      <td>2017-04-13</td>\n",
       "      <td>2017-05-13</td>\n",
       "      <td>2_low</td>\n",
       "      <td>30 days</td>\n",
       "    </tr>\n",
       "    <tr>\n",
       "      <th>2</th>\n",
       "      <td>L_CPP102</td>\n",
       "      <td>L_RADBRHPPPP102</td>\n",
       "      <td>2017-03-09 16:13:24</td>\n",
       "      <td>N_Neoadjuvent</td>\n",
       "      <td>2017-04-14</td>\n",
       "      <td>2017-05-14</td>\n",
       "      <td>2_low</td>\n",
       "      <td>30 days</td>\n",
       "    </tr>\n",
       "    <tr>\n",
       "      <th>3</th>\n",
       "      <td>L_CPP103</td>\n",
       "      <td>L_RADBRHPPPP103</td>\n",
       "      <td>2017-02-21 19:48:52</td>\n",
       "      <td>C_Curative</td>\n",
       "      <td>2017-04-12</td>\n",
       "      <td>2017-05-03</td>\n",
       "      <td>1_High/medium</td>\n",
       "      <td>30 days</td>\n",
       "    </tr>\n",
       "    <tr>\n",
       "      <th>4</th>\n",
       "      <td>L_CPP104</td>\n",
       "      <td>L_RADBRHPPPP104</td>\n",
       "      <td>2017-02-24 04:11:12</td>\n",
       "      <td>S_Staging</td>\n",
       "      <td>2017-04-14</td>\n",
       "      <td>2017-05-14</td>\n",
       "      <td>1_High/medium</td>\n",
       "      <td>30 days</td>\n",
       "    </tr>\n",
       "  </tbody>\n",
       "</table>\n",
       "</div>"
      ],
      "text/plain": [
       "  LOCAL_PATIENT_IDENTIFIER SITE CODE (OF BRACHYTHERAPY)  \\\n",
       "0                 L_CPP100              L_RADBRHPPPP100   \n",
       "1                 R_CPP101              R_RADBRHPPPP101   \n",
       "2                 L_CPP102              L_RADBRHPPPP102   \n",
       "3                 L_CPP103              L_RADBRHPPPP103   \n",
       "4                 L_CPP104              L_RADBRHPPPP104   \n",
       "\n",
       "  DECISION TO TREAT DATE (BRACHYTHERAPY TREATMENT COURSE)  \\\n",
       "0                                2017-02-22 12:37:09        \n",
       "1                                2017-02-22 00:06:57        \n",
       "2                                2017-03-09 16:13:24        \n",
       "3                                2017-02-21 19:48:52        \n",
       "4                                2017-02-24 04:11:12        \n",
       "\n",
       "  CANCER TREATMENT INTENT START DATE (BRACHYTHERAPY TREATMENT COURSE)  \\\n",
       "0            D_Diagnostic                                  2017-03-29   \n",
       "1              A_Adjuvent                                  2017-04-13   \n",
       "2           N_Neoadjuvent                                  2017-04-14   \n",
       "3              C_Curative                                  2017-04-12   \n",
       "4               S_Staging                                  2017-04-14   \n",
       "\n",
       "  END DATE (BRACHYTHERAPY TREATMENT COURSE) BRACHYTHERAPY DOSE RATE  \\\n",
       "0                                2017-04-19                   2_low   \n",
       "1                                2017-05-13                   2_low   \n",
       "2                                2017-05-14                   2_low   \n",
       "3                                2017-05-03           1_High/medium   \n",
       "4                                2017-05-14           1_High/medium   \n",
       "\n",
       "  DURATION OF BRACHYTHERAPY TREATMENT COURSE  \n",
       "0                                    30 days  \n",
       "1                                    30 days  \n",
       "2                                    30 days  \n",
       "3                                    30 days  \n",
       "4                                    30 days  "
      ]
     },
     "execution_count": 162,
     "metadata": {},
     "output_type": "execute_result"
    }
   ],
   "source": [
    "df11.head()"
   ]
  },
  {
   "cell_type": "code",
   "execution_count": 7,
   "metadata": {
    "collapsed": true
   },
   "outputs": [],
   "source": [
    "writer = pd.ExcelWriter('cancer_data4.xlsx', engine='xlsxwriter')\n",
    "df1.to_excel(writer,sheet_name=\"DEMOGRAPHICS\",index=None)\n",
    "df2.to_excel(writer,sheet_name='REFERRAL',index=None)\n",
    "df3.to_excel(writer,sheet_name='IMAGING',index=None)\n",
    "df4.to_excel(writer,sheet_name='DIAGNOSIS',index=None)\n",
    "df5.to_excel(writer,sheet_name='CANCER CARE PLAN',index=None)\n",
    "df6.to_excel(writer,sheet_name='Staging',index=None)\n",
    "df7.to_excel(writer,sheet_name='Surgery&other procedures',index=None)\n",
    "df8.to_excel(writer,sheet_name='Pathology Details',index=None)\n",
    "df9.to_excel(writer,sheet_name='chemotheropy & other drugs',index=None)\n",
    "df10.to_excel(writer,sheet_name='Radiotherapy(Teletherapy)',index=None)\n",
    "df11.to_excel(writer,sheet_name='Radiotherapy(Brachytherapy)',index=None)\n",
    "writer.save()"
   ]
  },
  {
   "cell_type": "code",
   "execution_count": 68,
   "metadata": {
    "collapsed": true
   },
   "outputs": [],
   "source": [
    "lst=[15,30]"
   ]
  },
  {
   "cell_type": "code",
   "execution_count": 67,
   "metadata": {},
   "outputs": [
    {
     "data": {
      "text/plain": [
       "0"
      ]
     },
     "execution_count": 67,
     "metadata": {},
     "output_type": "execute_result"
    }
   ],
   "source": []
  },
  {
   "cell_type": "code",
   "execution_count": null,
   "metadata": {
    "collapsed": true
   },
   "outputs": [],
   "source": []
  },
  {
   "cell_type": "code",
   "execution_count": null,
   "metadata": {
    "collapsed": true
   },
   "outputs": [],
   "source": [
    "df11.head(20)"
   ]
  },
  {
   "cell_type": "code",
   "execution_count": 35,
   "metadata": {
    "collapsed": true
   },
   "outputs": [],
   "source": [
    "lst=[\"1_High/medium\",\n",
    "\"2_low\"\n",
    "]"
   ]
  },
  {
   "cell_type": "code",
   "execution_count": 36,
   "metadata": {
    "collapsed": true
   },
   "outputs": [],
   "source": [
    "df11['BRACHYTHERAPY DOSE RATE']=df11.apply(lambda x:lst[random.randint(0,1)],axis=1)"
   ]
  },
  {
   "cell_type": "code",
   "execution_count": 163,
   "metadata": {
    "collapsed": true
   },
   "outputs": [],
   "source": [
    "df11['DURATION OF BRACHYTHERAPY TREATMENT COURSE']=df11['END DATE (BRACHYTHERAPY TREATMENT COURSE)']-df11['START DATE (BRACHYTHERAPY TREATMENT COURSE)']"
   ]
  },
  {
   "cell_type": "code",
   "execution_count": 168,
   "metadata": {
    "collapsed": true
   },
   "outputs": [],
   "source": [
    "df11['DURATION OF BRACHYTHERAPY TREATMENT COURSE']=df11.apply(lambda x:str(x[\"DURATION OF BRACHYTHERAPY TREATMENT COURSE\"]).replace(\"00:00:00\",\"\"),axis=1)"
   ]
  },
  {
   "cell_type": "code",
   "execution_count": 170,
   "metadata": {},
   "outputs": [
    {
     "data": {
      "text/html": [
       "<div>\n",
       "<style scoped>\n",
       "    .dataframe tbody tr th:only-of-type {\n",
       "        vertical-align: middle;\n",
       "    }\n",
       "\n",
       "    .dataframe tbody tr th {\n",
       "        vertical-align: top;\n",
       "    }\n",
       "\n",
       "    .dataframe thead th {\n",
       "        text-align: right;\n",
       "    }\n",
       "</style>\n",
       "<table border=\"1\" class=\"dataframe\">\n",
       "  <thead>\n",
       "    <tr style=\"text-align: right;\">\n",
       "      <th></th>\n",
       "      <th>LOCAL_PATIENT_IDENTIFIER</th>\n",
       "      <th>SITE CODE (OF BRACHYTHERAPY)</th>\n",
       "      <th>DECISION TO TREAT DATE (BRACHYTHERAPY TREATMENT COURSE)</th>\n",
       "      <th>CANCER TREATMENT INTENT</th>\n",
       "      <th>START DATE (BRACHYTHERAPY TREATMENT COURSE)</th>\n",
       "      <th>END DATE (BRACHYTHERAPY TREATMENT COURSE)</th>\n",
       "      <th>BRACHYTHERAPY DOSE RATE</th>\n",
       "      <th>DURATION OF BRACHYTHERAPY TREATMENT COURSE</th>\n",
       "    </tr>\n",
       "  </thead>\n",
       "  <tbody>\n",
       "    <tr>\n",
       "      <th>0</th>\n",
       "      <td>L_CPP100</td>\n",
       "      <td>L_RADBRHPPPP100</td>\n",
       "      <td>2017-02-22 12:37:09</td>\n",
       "      <td>D_Diagnostic</td>\n",
       "      <td>2017-03-29</td>\n",
       "      <td>2017-04-19</td>\n",
       "      <td>2_low</td>\n",
       "      <td>21 days</td>\n",
       "    </tr>\n",
       "    <tr>\n",
       "      <th>1</th>\n",
       "      <td>R_CPP101</td>\n",
       "      <td>R_RADBRHPPPP101</td>\n",
       "      <td>2017-02-22 00:06:57</td>\n",
       "      <td>A_Adjuvent</td>\n",
       "      <td>2017-04-13</td>\n",
       "      <td>2017-05-13</td>\n",
       "      <td>2_low</td>\n",
       "      <td>30 days</td>\n",
       "    </tr>\n",
       "    <tr>\n",
       "      <th>2</th>\n",
       "      <td>L_CPP102</td>\n",
       "      <td>L_RADBRHPPPP102</td>\n",
       "      <td>2017-03-09 16:13:24</td>\n",
       "      <td>N_Neoadjuvent</td>\n",
       "      <td>2017-04-14</td>\n",
       "      <td>2017-05-14</td>\n",
       "      <td>2_low</td>\n",
       "      <td>30 days</td>\n",
       "    </tr>\n",
       "    <tr>\n",
       "      <th>3</th>\n",
       "      <td>L_CPP103</td>\n",
       "      <td>L_RADBRHPPPP103</td>\n",
       "      <td>2017-02-21 19:48:52</td>\n",
       "      <td>C_Curative</td>\n",
       "      <td>2017-04-12</td>\n",
       "      <td>2017-05-03</td>\n",
       "      <td>1_High/medium</td>\n",
       "      <td>21 days</td>\n",
       "    </tr>\n",
       "    <tr>\n",
       "      <th>4</th>\n",
       "      <td>L_CPP104</td>\n",
       "      <td>L_RADBRHPPPP104</td>\n",
       "      <td>2017-02-24 04:11:12</td>\n",
       "      <td>S_Staging</td>\n",
       "      <td>2017-04-14</td>\n",
       "      <td>2017-05-14</td>\n",
       "      <td>1_High/medium</td>\n",
       "      <td>30 days</td>\n",
       "    </tr>\n",
       "  </tbody>\n",
       "</table>\n",
       "</div>"
      ],
      "text/plain": [
       "  LOCAL_PATIENT_IDENTIFIER SITE CODE (OF BRACHYTHERAPY)  \\\n",
       "0                 L_CPP100              L_RADBRHPPPP100   \n",
       "1                 R_CPP101              R_RADBRHPPPP101   \n",
       "2                 L_CPP102              L_RADBRHPPPP102   \n",
       "3                 L_CPP103              L_RADBRHPPPP103   \n",
       "4                 L_CPP104              L_RADBRHPPPP104   \n",
       "\n",
       "  DECISION TO TREAT DATE (BRACHYTHERAPY TREATMENT COURSE)  \\\n",
       "0                                2017-02-22 12:37:09        \n",
       "1                                2017-02-22 00:06:57        \n",
       "2                                2017-03-09 16:13:24        \n",
       "3                                2017-02-21 19:48:52        \n",
       "4                                2017-02-24 04:11:12        \n",
       "\n",
       "  CANCER TREATMENT INTENT START DATE (BRACHYTHERAPY TREATMENT COURSE)  \\\n",
       "0            D_Diagnostic                                  2017-03-29   \n",
       "1              A_Adjuvent                                  2017-04-13   \n",
       "2           N_Neoadjuvent                                  2017-04-14   \n",
       "3              C_Curative                                  2017-04-12   \n",
       "4               S_Staging                                  2017-04-14   \n",
       "\n",
       "  END DATE (BRACHYTHERAPY TREATMENT COURSE) BRACHYTHERAPY DOSE RATE  \\\n",
       "0                                2017-04-19                   2_low   \n",
       "1                                2017-05-13                   2_low   \n",
       "2                                2017-05-14                   2_low   \n",
       "3                                2017-05-03           1_High/medium   \n",
       "4                                2017-05-14           1_High/medium   \n",
       "\n",
       "  DURATION OF BRACHYTHERAPY TREATMENT COURSE  \n",
       "0                                   21 days   \n",
       "1                                   30 days   \n",
       "2                                   30 days   \n",
       "3                                   21 days   \n",
       "4                                   30 days   "
      ]
     },
     "execution_count": 170,
     "metadata": {},
     "output_type": "execute_result"
    }
   ],
   "source": [
    "df11.head()"
   ]
  },
  {
   "cell_type": "code",
   "execution_count": 4,
   "metadata": {
    "collapsed": true
   },
   "outputs": [],
   "source": [
    "lst=[\"B1_Caesium 137\",\n",
    "\"B2_Iridium 192\",\n",
    "\"B3_Strontium 90\",\n",
    "\"B4_Iodine 125\",\n",
    "\"B5_Colbalt 60\",\n",
    "\"B6_Gold grains Au 198\",\n",
    "\"B7_Brachytherapy other\",\n",
    "]"
   ]
  },
  {
   "cell_type": "code",
   "execution_count": 5,
   "metadata": {
    "collapsed": true
   },
   "outputs": [],
   "source": [
    "df11['BRACHYTHERAPY ISOTOPE TYPE']=df11.apply(lambda x:lst[random.randint(0,6)],axis=1)"
   ]
  },
  {
   "cell_type": "code",
   "execution_count": 6,
   "metadata": {},
   "outputs": [
    {
     "data": {
      "text/html": [
       "<div>\n",
       "<style scoped>\n",
       "    .dataframe tbody tr th:only-of-type {\n",
       "        vertical-align: middle;\n",
       "    }\n",
       "\n",
       "    .dataframe tbody tr th {\n",
       "        vertical-align: top;\n",
       "    }\n",
       "\n",
       "    .dataframe thead th {\n",
       "        text-align: right;\n",
       "    }\n",
       "</style>\n",
       "<table border=\"1\" class=\"dataframe\">\n",
       "  <thead>\n",
       "    <tr style=\"text-align: right;\">\n",
       "      <th></th>\n",
       "      <th>LOCAL_PATIENT_IDENTIFIER</th>\n",
       "      <th>SITE CODE (OF BRACHYTHERAPY)</th>\n",
       "      <th>DECISION TO TREAT DATE (BRACHYTHERAPY TREATMENT COURSE)</th>\n",
       "      <th>CANCER TREATMENT INTENT</th>\n",
       "      <th>START DATE (BRACHYTHERAPY TREATMENT COURSE)</th>\n",
       "      <th>END DATE (BRACHYTHERAPY TREATMENT COURSE)</th>\n",
       "      <th>BRACHYTHERAPY DOSE RATE</th>\n",
       "      <th>DURATION OF BRACHYTHERAPY TREATMENT COURSE</th>\n",
       "      <th>BRACHYTHERAPY ISOTOPE TYPE</th>\n",
       "    </tr>\n",
       "  </thead>\n",
       "  <tbody>\n",
       "    <tr>\n",
       "      <th>0</th>\n",
       "      <td>L_CPP100</td>\n",
       "      <td>L_RADBRHPPPP100</td>\n",
       "      <td>2017-02-22 12:37:09</td>\n",
       "      <td>D_Diagnostic</td>\n",
       "      <td>2017-03-29</td>\n",
       "      <td>2017-04-19</td>\n",
       "      <td>2_low</td>\n",
       "      <td>21 days 00:00:00</td>\n",
       "      <td>B4_Iodine 125</td>\n",
       "    </tr>\n",
       "    <tr>\n",
       "      <th>1</th>\n",
       "      <td>R_CPP101</td>\n",
       "      <td>R_RADBRHPPPP101</td>\n",
       "      <td>2017-02-22 00:06:57</td>\n",
       "      <td>A_Adjuvent</td>\n",
       "      <td>2017-04-13</td>\n",
       "      <td>2017-05-13</td>\n",
       "      <td>2_low</td>\n",
       "      <td>30 days 00:00:00</td>\n",
       "      <td>B4_Iodine 125</td>\n",
       "    </tr>\n",
       "    <tr>\n",
       "      <th>2</th>\n",
       "      <td>L_CPP102</td>\n",
       "      <td>L_RADBRHPPPP102</td>\n",
       "      <td>2017-03-09 16:13:24</td>\n",
       "      <td>N_Neoadjuvent</td>\n",
       "      <td>2017-04-14</td>\n",
       "      <td>2017-05-14</td>\n",
       "      <td>2_low</td>\n",
       "      <td>30 days 00:00:00</td>\n",
       "      <td>B4_Iodine 125</td>\n",
       "    </tr>\n",
       "    <tr>\n",
       "      <th>3</th>\n",
       "      <td>L_CPP103</td>\n",
       "      <td>L_RADBRHPPPP103</td>\n",
       "      <td>2017-02-21 19:48:52</td>\n",
       "      <td>C_Curative</td>\n",
       "      <td>2017-04-12</td>\n",
       "      <td>2017-05-03</td>\n",
       "      <td>1_High/medium</td>\n",
       "      <td>21 days 00:00:00</td>\n",
       "      <td>B7_Brachytherapy other</td>\n",
       "    </tr>\n",
       "    <tr>\n",
       "      <th>4</th>\n",
       "      <td>L_CPP104</td>\n",
       "      <td>L_RADBRHPPPP104</td>\n",
       "      <td>2017-02-24 04:11:12</td>\n",
       "      <td>S_Staging</td>\n",
       "      <td>2017-04-14</td>\n",
       "      <td>2017-05-14</td>\n",
       "      <td>1_High/medium</td>\n",
       "      <td>30 days 00:00:00</td>\n",
       "      <td>B7_Brachytherapy other</td>\n",
       "    </tr>\n",
       "  </tbody>\n",
       "</table>\n",
       "</div>"
      ],
      "text/plain": [
       "  LOCAL_PATIENT_IDENTIFIER SITE CODE (OF BRACHYTHERAPY)  \\\n",
       "0                 L_CPP100              L_RADBRHPPPP100   \n",
       "1                 R_CPP101              R_RADBRHPPPP101   \n",
       "2                 L_CPP102              L_RADBRHPPPP102   \n",
       "3                 L_CPP103              L_RADBRHPPPP103   \n",
       "4                 L_CPP104              L_RADBRHPPPP104   \n",
       "\n",
       "  DECISION TO TREAT DATE (BRACHYTHERAPY TREATMENT COURSE)  \\\n",
       "0                                2017-02-22 12:37:09        \n",
       "1                                2017-02-22 00:06:57        \n",
       "2                                2017-03-09 16:13:24        \n",
       "3                                2017-02-21 19:48:52        \n",
       "4                                2017-02-24 04:11:12        \n",
       "\n",
       "  CANCER TREATMENT INTENT START DATE (BRACHYTHERAPY TREATMENT COURSE)  \\\n",
       "0            D_Diagnostic                                  2017-03-29   \n",
       "1              A_Adjuvent                                  2017-04-13   \n",
       "2           N_Neoadjuvent                                  2017-04-14   \n",
       "3              C_Curative                                  2017-04-12   \n",
       "4               S_Staging                                  2017-04-14   \n",
       "\n",
       "  END DATE (BRACHYTHERAPY TREATMENT COURSE) BRACHYTHERAPY DOSE RATE  \\\n",
       "0                                2017-04-19                   2_low   \n",
       "1                                2017-05-13                   2_low   \n",
       "2                                2017-05-14                   2_low   \n",
       "3                                2017-05-03           1_High/medium   \n",
       "4                                2017-05-14           1_High/medium   \n",
       "\n",
       "  DURATION OF BRACHYTHERAPY TREATMENT COURSE BRACHYTHERAPY ISOTOPE TYPE  \n",
       "0                           21 days 00:00:00              B4_Iodine 125  \n",
       "1                           30 days 00:00:00              B4_Iodine 125  \n",
       "2                           30 days 00:00:00              B4_Iodine 125  \n",
       "3                           21 days 00:00:00     B7_Brachytherapy other  \n",
       "4                           30 days 00:00:00     B7_Brachytherapy other  "
      ]
     },
     "execution_count": 6,
     "metadata": {},
     "output_type": "execute_result"
    }
   ],
   "source": [
    "df11.head()"
   ]
  },
  {
   "cell_type": "code",
   "execution_count": 8,
   "metadata": {
    "collapsed": true
   },
   "outputs": [],
   "source": [
    "lst=[\"a_Yes\",\n",
    "\"b-No\"]"
   ]
  },
  {
   "cell_type": "code",
   "execution_count": 9,
   "metadata": {
    "collapsed": true
   },
   "outputs": [],
   "source": [
    "df11['RADIOTHERAPY ANAESTHETIC']=df11.apply(lambda x:lst[random.randint(0,1)],axis=1)"
   ]
  },
  {
   "cell_type": "code",
   "execution_count": 10,
   "metadata": {},
   "outputs": [
    {
     "data": {
      "text/html": [
       "<div>\n",
       "<style scoped>\n",
       "    .dataframe tbody tr th:only-of-type {\n",
       "        vertical-align: middle;\n",
       "    }\n",
       "\n",
       "    .dataframe tbody tr th {\n",
       "        vertical-align: top;\n",
       "    }\n",
       "\n",
       "    .dataframe thead th {\n",
       "        text-align: right;\n",
       "    }\n",
       "</style>\n",
       "<table border=\"1\" class=\"dataframe\">\n",
       "  <thead>\n",
       "    <tr style=\"text-align: right;\">\n",
       "      <th></th>\n",
       "      <th>LOCAL_PATIENT_IDENTIFIER</th>\n",
       "      <th>SITE CODE (OF BRACHYTHERAPY)</th>\n",
       "      <th>DECISION TO TREAT DATE (BRACHYTHERAPY TREATMENT COURSE)</th>\n",
       "      <th>CANCER TREATMENT INTENT</th>\n",
       "      <th>START DATE (BRACHYTHERAPY TREATMENT COURSE)</th>\n",
       "      <th>END DATE (BRACHYTHERAPY TREATMENT COURSE)</th>\n",
       "      <th>BRACHYTHERAPY DOSE RATE</th>\n",
       "      <th>DURATION OF BRACHYTHERAPY TREATMENT COURSE</th>\n",
       "      <th>BRACHYTHERAPY ISOTOPE TYPE</th>\n",
       "      <th>RADIOTHERAPY ANAESTHETIC</th>\n",
       "    </tr>\n",
       "  </thead>\n",
       "  <tbody>\n",
       "    <tr>\n",
       "      <th>0</th>\n",
       "      <td>L_CPP100</td>\n",
       "      <td>L_RADBRHPPPP100</td>\n",
       "      <td>2017-02-22 12:37:09</td>\n",
       "      <td>D_Diagnostic</td>\n",
       "      <td>2017-03-29</td>\n",
       "      <td>2017-04-19</td>\n",
       "      <td>2_low</td>\n",
       "      <td>21 days 00:00:00</td>\n",
       "      <td>B4_Iodine 125</td>\n",
       "      <td>a_Yes</td>\n",
       "    </tr>\n",
       "    <tr>\n",
       "      <th>1</th>\n",
       "      <td>R_CPP101</td>\n",
       "      <td>R_RADBRHPPPP101</td>\n",
       "      <td>2017-02-22 00:06:57</td>\n",
       "      <td>A_Adjuvent</td>\n",
       "      <td>2017-04-13</td>\n",
       "      <td>2017-05-13</td>\n",
       "      <td>2_low</td>\n",
       "      <td>30 days 00:00:00</td>\n",
       "      <td>B4_Iodine 125</td>\n",
       "      <td>a_Yes</td>\n",
       "    </tr>\n",
       "    <tr>\n",
       "      <th>2</th>\n",
       "      <td>L_CPP102</td>\n",
       "      <td>L_RADBRHPPPP102</td>\n",
       "      <td>2017-03-09 16:13:24</td>\n",
       "      <td>N_Neoadjuvent</td>\n",
       "      <td>2017-04-14</td>\n",
       "      <td>2017-05-14</td>\n",
       "      <td>2_low</td>\n",
       "      <td>30 days 00:00:00</td>\n",
       "      <td>B4_Iodine 125</td>\n",
       "      <td>b-No</td>\n",
       "    </tr>\n",
       "    <tr>\n",
       "      <th>3</th>\n",
       "      <td>L_CPP103</td>\n",
       "      <td>L_RADBRHPPPP103</td>\n",
       "      <td>2017-02-21 19:48:52</td>\n",
       "      <td>C_Curative</td>\n",
       "      <td>2017-04-12</td>\n",
       "      <td>2017-05-03</td>\n",
       "      <td>1_High/medium</td>\n",
       "      <td>21 days 00:00:00</td>\n",
       "      <td>B7_Brachytherapy other</td>\n",
       "      <td>b-No</td>\n",
       "    </tr>\n",
       "    <tr>\n",
       "      <th>4</th>\n",
       "      <td>L_CPP104</td>\n",
       "      <td>L_RADBRHPPPP104</td>\n",
       "      <td>2017-02-24 04:11:12</td>\n",
       "      <td>S_Staging</td>\n",
       "      <td>2017-04-14</td>\n",
       "      <td>2017-05-14</td>\n",
       "      <td>1_High/medium</td>\n",
       "      <td>30 days 00:00:00</td>\n",
       "      <td>B7_Brachytherapy other</td>\n",
       "      <td>a_Yes</td>\n",
       "    </tr>\n",
       "  </tbody>\n",
       "</table>\n",
       "</div>"
      ],
      "text/plain": [
       "  LOCAL_PATIENT_IDENTIFIER SITE CODE (OF BRACHYTHERAPY)  \\\n",
       "0                 L_CPP100              L_RADBRHPPPP100   \n",
       "1                 R_CPP101              R_RADBRHPPPP101   \n",
       "2                 L_CPP102              L_RADBRHPPPP102   \n",
       "3                 L_CPP103              L_RADBRHPPPP103   \n",
       "4                 L_CPP104              L_RADBRHPPPP104   \n",
       "\n",
       "  DECISION TO TREAT DATE (BRACHYTHERAPY TREATMENT COURSE)  \\\n",
       "0                                2017-02-22 12:37:09        \n",
       "1                                2017-02-22 00:06:57        \n",
       "2                                2017-03-09 16:13:24        \n",
       "3                                2017-02-21 19:48:52        \n",
       "4                                2017-02-24 04:11:12        \n",
       "\n",
       "  CANCER TREATMENT INTENT START DATE (BRACHYTHERAPY TREATMENT COURSE)  \\\n",
       "0            D_Diagnostic                                  2017-03-29   \n",
       "1              A_Adjuvent                                  2017-04-13   \n",
       "2           N_Neoadjuvent                                  2017-04-14   \n",
       "3              C_Curative                                  2017-04-12   \n",
       "4               S_Staging                                  2017-04-14   \n",
       "\n",
       "  END DATE (BRACHYTHERAPY TREATMENT COURSE) BRACHYTHERAPY DOSE RATE  \\\n",
       "0                                2017-04-19                   2_low   \n",
       "1                                2017-05-13                   2_low   \n",
       "2                                2017-05-14                   2_low   \n",
       "3                                2017-05-03           1_High/medium   \n",
       "4                                2017-05-14           1_High/medium   \n",
       "\n",
       "  DURATION OF BRACHYTHERAPY TREATMENT COURSE BRACHYTHERAPY ISOTOPE TYPE  \\\n",
       "0                           21 days 00:00:00              B4_Iodine 125   \n",
       "1                           30 days 00:00:00              B4_Iodine 125   \n",
       "2                           30 days 00:00:00              B4_Iodine 125   \n",
       "3                           21 days 00:00:00     B7_Brachytherapy other   \n",
       "4                           30 days 00:00:00     B7_Brachytherapy other   \n",
       "\n",
       "  RADIOTHERAPY ANAESTHETIC  \n",
       "0                    a_Yes  \n",
       "1                    a_Yes  \n",
       "2                     b-No  \n",
       "3                     b-No  \n",
       "4                    a_Yes  "
      ]
     },
     "execution_count": 10,
     "metadata": {},
     "output_type": "execute_result"
    }
   ],
   "source": [
    "df11.head()"
   ]
  },
  {
   "cell_type": "code",
   "execution_count": 11,
   "metadata": {
    "collapsed": true
   },
   "outputs": [],
   "source": [
    "lst=[\"a_In-patient\",\n",
    "\"b_Out-patient\"\n",
    "]"
   ]
  },
  {
   "cell_type": "code",
   "execution_count": 13,
   "metadata": {
    "collapsed": true
   },
   "outputs": [],
   "source": [
    "df11['UNSEALED SOURCE PATIENT TYPE']=df11.apply(lambda x:lst[random.randint(0,1)],axis=1)"
   ]
  },
  {
   "cell_type": "code",
   "execution_count": 64,
   "metadata": {
    "collapsed": true
   },
   "outputs": [],
   "source": [
    "writer = pd.ExcelWriter('cancer_data4.xlsx', engine='xlsxwriter')\n",
    "df1.to_excel(writer,sheet_name=\"DEMOGRAPHICS\",index=None)\n",
    "df2.to_excel(writer,sheet_name='REFERRAL',index=None)\n",
    "df3.to_excel(writer,sheet_name='IMAGING',index=None)\n",
    "df4.to_excel(writer,sheet_name='DIAGNOSIS',index=None)\n",
    "df5.to_excel(writer,sheet_name='CANCER CARE PLAN',index=None)\n",
    "df6.to_excel(writer,sheet_name='Staging',index=None)\n",
    "df7.to_excel(writer,sheet_name='Surgery&other procedures',index=None)\n",
    "df8.to_excel(writer,sheet_name='Pathology Details',index=None)\n",
    "df9.to_excel(writer,sheet_name='chemotheropy & other drugs',index=None)\n",
    "df10.to_excel(writer,sheet_name='Radiotherapy(Teletherapy)',index=None)\n",
    "df11.to_excel(writer,sheet_name='Radiotherapy(Brachytherapy)',index=None)\n",
    "df12.to_excel(writer,sheet_name='Palliative Care',index=None)\n",
    "df13.to_excel(writer,sheet_name='Clinical Trials',index=None)\n",
    "df14.to_excel(writer,sheet_name='Clinical Status Assesment',index=None)\n",
    "writer.save()"
   ]
  },
  {
   "cell_type": "code",
   "execution_count": 15,
   "metadata": {
    "collapsed": true
   },
   "outputs": [],
   "source": [
    "lst=[\"1_Manual afterloading\",\n",
    "\"2_Mechanical afterloading\",\n",
    "\"3_Live source\"\n",
    "]"
   ]
  },
  {
   "cell_type": "code",
   "execution_count": 16,
   "metadata": {
    "collapsed": true
   },
   "outputs": [],
   "source": [
    "df11['BRACHYTHERAPY DELIVERY TYPE']=df11.apply(lambda x:lst[random.randint(0,2)],axis=1)"
   ]
  },
  {
   "cell_type": "code",
   "execution_count": 18,
   "metadata": {
    "collapsed": true
   },
   "outputs": [],
   "source": [
    "df11['HEALTHCARE RESOURCE GROUP CODE']=df11.apply(lambda x:\"MCCT\",axis=1)"
   ]
  },
  {
   "cell_type": "code",
   "execution_count": 20,
   "metadata": {
    "collapsed": true
   },
   "outputs": [],
   "source": [
    "lst=[\"0_Treatment completed as prescribed\",\n",
    "\"1_Course not completed - Patient died\",\n",
    "\"2_Course not completed - Progressive disease during Radiotherapy\",\n",
    "\"3_Course not completed - Acute Radiotherapy toxicity\",\n",
    "\"4_Course not completed - Technical or organisational problems\",\n",
    "\"5_Treatment stopped or interrupted - Patient choice\"\n",
    "]"
   ]
  },
  {
   "cell_type": "code",
   "execution_count": 21,
   "metadata": {
    "collapsed": true
   },
   "outputs": [],
   "source": [
    "df11['TREATMENT COURSE STATUS']=df11.apply(lambda x:lst[random.randint(0,5)],axis=1)"
   ]
  },
  {
   "cell_type": "code",
   "execution_count": 25,
   "metadata": {
    "collapsed": true
   },
   "outputs": [],
   "source": [
    "df12=pd.DataFrame()"
   ]
  },
  {
   "cell_type": "code",
   "execution_count": 26,
   "metadata": {
    "collapsed": true
   },
   "outputs": [],
   "source": [
    "df12['DECISION TO TREAT DATE (SPECIALIST PALLIATIVE TREATMENT COURSE)']=df11['DECISION TO TREAT DATE (BRACHYTHERAPY TREATMENT COURSE)']"
   ]
  },
  {
   "cell_type": "code",
   "execution_count": 28,
   "metadata": {
    "collapsed": true
   },
   "outputs": [],
   "source": [
    "df12=pd.concat([df1[\"LOCAL_PATIENT_IDENTIFIER\"],df12],axis=1)"
   ]
  },
  {
   "cell_type": "code",
   "execution_count": 29,
   "metadata": {},
   "outputs": [
    {
     "data": {
      "text/html": [
       "<div>\n",
       "<style scoped>\n",
       "    .dataframe tbody tr th:only-of-type {\n",
       "        vertical-align: middle;\n",
       "    }\n",
       "\n",
       "    .dataframe tbody tr th {\n",
       "        vertical-align: top;\n",
       "    }\n",
       "\n",
       "    .dataframe thead th {\n",
       "        text-align: right;\n",
       "    }\n",
       "</style>\n",
       "<table border=\"1\" class=\"dataframe\">\n",
       "  <thead>\n",
       "    <tr style=\"text-align: right;\">\n",
       "      <th></th>\n",
       "      <th>LOCAL_PATIENT_IDENTIFIER</th>\n",
       "      <th>DECISION TO TREAT DATE (SPECIALIST PALLIATIVE TREATMENT COURSE)</th>\n",
       "    </tr>\n",
       "  </thead>\n",
       "  <tbody>\n",
       "    <tr>\n",
       "      <th>0</th>\n",
       "      <td>L_CPP100</td>\n",
       "      <td>2017-02-22 12:37:09</td>\n",
       "    </tr>\n",
       "    <tr>\n",
       "      <th>1</th>\n",
       "      <td>R_CPP101</td>\n",
       "      <td>2017-02-22 00:06:57</td>\n",
       "    </tr>\n",
       "    <tr>\n",
       "      <th>2</th>\n",
       "      <td>L_CPP102</td>\n",
       "      <td>2017-03-09 16:13:24</td>\n",
       "    </tr>\n",
       "    <tr>\n",
       "      <th>3</th>\n",
       "      <td>L_CPP103</td>\n",
       "      <td>2017-02-21 19:48:52</td>\n",
       "    </tr>\n",
       "    <tr>\n",
       "      <th>4</th>\n",
       "      <td>L_CPP104</td>\n",
       "      <td>2017-02-24 04:11:12</td>\n",
       "    </tr>\n",
       "  </tbody>\n",
       "</table>\n",
       "</div>"
      ],
      "text/plain": [
       "  LOCAL_PATIENT_IDENTIFIER  \\\n",
       "0                 L_CPP100   \n",
       "1                 R_CPP101   \n",
       "2                 L_CPP102   \n",
       "3                 L_CPP103   \n",
       "4                 L_CPP104   \n",
       "\n",
       "  DECISION TO TREAT DATE (SPECIALIST PALLIATIVE TREATMENT COURSE)  \n",
       "0                                2017-02-22 12:37:09               \n",
       "1                                2017-02-22 00:06:57               \n",
       "2                                2017-03-09 16:13:24               \n",
       "3                                2017-02-21 19:48:52               \n",
       "4                                2017-02-24 04:11:12               "
      ]
     },
     "execution_count": 29,
     "metadata": {},
     "output_type": "execute_result"
    }
   ],
   "source": [
    "df12.head()"
   ]
  },
  {
   "cell_type": "code",
   "execution_count": 30,
   "metadata": {
    "collapsed": true
   },
   "outputs": [],
   "source": [
    "df13=pd.concat([df1['LOCAL_PATIENT_IDENTIFIER']],axis=1)"
   ]
  },
  {
   "cell_type": "code",
   "execution_count": 34,
   "metadata": {
    "collapsed": true
   },
   "outputs": [],
   "source": [
    "lst=[\"EE- Patient eligible, consented to and entered trial\",\n",
    "\"ED-Patient eligible, declined trial\",\n",
    "\"EE- Patient eligible, consented to and entered trial\",\n",
    "\"ED-Patient eligible, declined trial\",\n",
    "\"ED-Patient eligible, declined trial\"\n",
    "]"
   ]
  },
  {
   "cell_type": "code",
   "execution_count": 35,
   "metadata": {
    "collapsed": true
   },
   "outputs": [],
   "source": [
    "df13['PATIENT TRIAL STATUS (CANCER)']=df11.apply(lambda x:lst[random.randint(0,4)],axis=1)"
   ]
  },
  {
   "cell_type": "code",
   "execution_count": 37,
   "metadata": {
    "collapsed": true
   },
   "outputs": [],
   "source": [
    "lst=[\"1_Surgery\",\n",
    "\"2_Chemotherapy\",\n",
    "\"3_Hormone therapy\",\n",
    "\"4_Immunotherapy\",\n",
    "\"5_Radiotherapy\",\n",
    "\"6_Combination treatment\"\n",
    "]"
   ]
  },
  {
   "cell_type": "code",
   "execution_count": 38,
   "metadata": {
    "collapsed": true
   },
   "outputs": [],
   "source": [
    "df13['CANCER CLINICAL TRIAL TREATMENT TYPE']=df11.apply(lambda x:lst[random.randint(0,5)],axis=1)"
   ]
  },
  {
   "cell_type": "code",
   "execution_count": 39,
   "metadata": {},
   "outputs": [
    {
     "data": {
      "text/html": [
       "<div>\n",
       "<style scoped>\n",
       "    .dataframe tbody tr th:only-of-type {\n",
       "        vertical-align: middle;\n",
       "    }\n",
       "\n",
       "    .dataframe tbody tr th {\n",
       "        vertical-align: top;\n",
       "    }\n",
       "\n",
       "    .dataframe thead th {\n",
       "        text-align: right;\n",
       "    }\n",
       "</style>\n",
       "<table border=\"1\" class=\"dataframe\">\n",
       "  <thead>\n",
       "    <tr style=\"text-align: right;\">\n",
       "      <th></th>\n",
       "      <th>LOCAL_PATIENT_IDENTIFIER</th>\n",
       "      <th>PATIENT TRIAL STATUS (CANCER)</th>\n",
       "      <th>CANCER CLINICAL TRIAL TREATMENT TYPE</th>\n",
       "    </tr>\n",
       "  </thead>\n",
       "  <tbody>\n",
       "    <tr>\n",
       "      <th>0</th>\n",
       "      <td>L_CPP100</td>\n",
       "      <td>ED-Patient eligible, declined trial</td>\n",
       "      <td>1_Surgery</td>\n",
       "    </tr>\n",
       "    <tr>\n",
       "      <th>1</th>\n",
       "      <td>R_CPP101</td>\n",
       "      <td>EE- Patient eligible, consented to and entered...</td>\n",
       "      <td>3_Hormone therapy</td>\n",
       "    </tr>\n",
       "    <tr>\n",
       "      <th>2</th>\n",
       "      <td>L_CPP102</td>\n",
       "      <td>ED-Patient eligible, declined trial</td>\n",
       "      <td>3_Hormone therapy</td>\n",
       "    </tr>\n",
       "    <tr>\n",
       "      <th>3</th>\n",
       "      <td>L_CPP103</td>\n",
       "      <td>ED-Patient eligible, declined trial</td>\n",
       "      <td>5_Radiotherapy</td>\n",
       "    </tr>\n",
       "    <tr>\n",
       "      <th>4</th>\n",
       "      <td>L_CPP104</td>\n",
       "      <td>EE- Patient eligible, consented to and entered...</td>\n",
       "      <td>6_Combination treatment</td>\n",
       "    </tr>\n",
       "  </tbody>\n",
       "</table>\n",
       "</div>"
      ],
      "text/plain": [
       "  LOCAL_PATIENT_IDENTIFIER                      PATIENT TRIAL STATUS (CANCER)  \\\n",
       "0                 L_CPP100                ED-Patient eligible, declined trial   \n",
       "1                 R_CPP101  EE- Patient eligible, consented to and entered...   \n",
       "2                 L_CPP102                ED-Patient eligible, declined trial   \n",
       "3                 L_CPP103                ED-Patient eligible, declined trial   \n",
       "4                 L_CPP104  EE- Patient eligible, consented to and entered...   \n",
       "\n",
       "  CANCER CLINICAL TRIAL TREATMENT TYPE  \n",
       "0                            1_Surgery  \n",
       "1                    3_Hormone therapy  \n",
       "2                    3_Hormone therapy  \n",
       "3                       5_Radiotherapy  \n",
       "4              6_Combination treatment  "
      ]
     },
     "execution_count": 39,
     "metadata": {},
     "output_type": "execute_result"
    }
   ],
   "source": [
    "df13.head()"
   ]
  },
  {
   "cell_type": "code",
   "execution_count": 41,
   "metadata": {
    "collapsed": true
   },
   "outputs": [],
   "source": [
    "df14=pd.DataFrame()"
   ]
  },
  {
   "cell_type": "code",
   "execution_count": 43,
   "metadata": {
    "collapsed": true
   },
   "outputs": [],
   "source": [
    "df14['LOCAL_PATIENT_IDENTIFIER']=df1['LOCAL_PATIENT_IDENTIFIER']"
   ]
  },
  {
   "cell_type": "code",
   "execution_count": null,
   "metadata": {
    "collapsed": true
   },
   "outputs": [],
   "source": []
  },
  {
   "cell_type": "code",
   "execution_count": 46,
   "metadata": {
    "collapsed": true
   },
   "outputs": [],
   "source": [
    "df14['CLINICAL STATUS ASSESSMENT DATE (CANCER)']=df11.apply(lambda x: x['END DATE (BRACHYTHERAPY TREATMENT COURSE)']+datetime.timedelta(days=random.randint(19,20)),axis = 1)"
   ]
  },
  {
   "cell_type": "code",
   "execution_count": 48,
   "metadata": {},
   "outputs": [
    {
     "data": {
      "text/html": [
       "<div>\n",
       "<style scoped>\n",
       "    .dataframe tbody tr th:only-of-type {\n",
       "        vertical-align: middle;\n",
       "    }\n",
       "\n",
       "    .dataframe tbody tr th {\n",
       "        vertical-align: top;\n",
       "    }\n",
       "\n",
       "    .dataframe thead th {\n",
       "        text-align: right;\n",
       "    }\n",
       "</style>\n",
       "<table border=\"1\" class=\"dataframe\">\n",
       "  <thead>\n",
       "    <tr style=\"text-align: right;\">\n",
       "      <th></th>\n",
       "      <th>LOCAL_PATIENT_IDENTIFIER</th>\n",
       "      <th>CLINICAL STATUS ASSESSMENT DATE (CANCER)</th>\n",
       "    </tr>\n",
       "  </thead>\n",
       "  <tbody>\n",
       "    <tr>\n",
       "      <th>0</th>\n",
       "      <td>L_CPP100</td>\n",
       "      <td>2017-05-09</td>\n",
       "    </tr>\n",
       "    <tr>\n",
       "      <th>1</th>\n",
       "      <td>R_CPP101</td>\n",
       "      <td>2017-06-02</td>\n",
       "    </tr>\n",
       "    <tr>\n",
       "      <th>2</th>\n",
       "      <td>L_CPP102</td>\n",
       "      <td>2017-06-02</td>\n",
       "    </tr>\n",
       "    <tr>\n",
       "      <th>3</th>\n",
       "      <td>L_CPP103</td>\n",
       "      <td>2017-05-22</td>\n",
       "    </tr>\n",
       "    <tr>\n",
       "      <th>4</th>\n",
       "      <td>L_CPP104</td>\n",
       "      <td>2017-06-03</td>\n",
       "    </tr>\n",
       "  </tbody>\n",
       "</table>\n",
       "</div>"
      ],
      "text/plain": [
       "  LOCAL_PATIENT_IDENTIFIER CLINICAL STATUS ASSESSMENT DATE (CANCER)\n",
       "0                 L_CPP100                               2017-05-09\n",
       "1                 R_CPP101                               2017-06-02\n",
       "2                 L_CPP102                               2017-06-02\n",
       "3                 L_CPP103                               2017-05-22\n",
       "4                 L_CPP104                               2017-06-03"
      ]
     },
     "execution_count": 48,
     "metadata": {},
     "output_type": "execute_result"
    }
   ],
   "source": [
    "df14.head()"
   ]
  },
  {
   "cell_type": "code",
   "execution_count": 49,
   "metadata": {},
   "outputs": [
    {
     "data": {
      "text/html": [
       "<div>\n",
       "<style scoped>\n",
       "    .dataframe tbody tr th:only-of-type {\n",
       "        vertical-align: middle;\n",
       "    }\n",
       "\n",
       "    .dataframe tbody tr th {\n",
       "        vertical-align: top;\n",
       "    }\n",
       "\n",
       "    .dataframe thead th {\n",
       "        text-align: right;\n",
       "    }\n",
       "</style>\n",
       "<table border=\"1\" class=\"dataframe\">\n",
       "  <thead>\n",
       "    <tr style=\"text-align: right;\">\n",
       "      <th></th>\n",
       "      <th>LOCAL_PATIENT_IDENTIFIER</th>\n",
       "      <th>SITE CODE (OF BRACHYTHERAPY)</th>\n",
       "      <th>DECISION TO TREAT DATE (BRACHYTHERAPY TREATMENT COURSE)</th>\n",
       "      <th>CANCER TREATMENT INTENT</th>\n",
       "      <th>START DATE (BRACHYTHERAPY TREATMENT COURSE)</th>\n",
       "      <th>END DATE (BRACHYTHERAPY TREATMENT COURSE)</th>\n",
       "      <th>BRACHYTHERAPY DOSE RATE</th>\n",
       "      <th>DURATION OF BRACHYTHERAPY TREATMENT COURSE</th>\n",
       "      <th>BRACHYTHERAPY ISOTOPE TYPE</th>\n",
       "      <th>RADIOTHERAPY ANAESTHETIC</th>\n",
       "      <th>UNSEALED SOURCE PATIENT TYPE</th>\n",
       "      <th>BRACHYTHERAPY DELIVERY TYPE</th>\n",
       "      <th>HEALTHCARE RESOURCE GROUP CODE</th>\n",
       "      <th>TREATMENT COURSE STATUS</th>\n",
       "    </tr>\n",
       "  </thead>\n",
       "  <tbody>\n",
       "    <tr>\n",
       "      <th>0</th>\n",
       "      <td>L_CPP100</td>\n",
       "      <td>L_RADBRHPPPP100</td>\n",
       "      <td>2017-02-22 12:37:09</td>\n",
       "      <td>D_Diagnostic</td>\n",
       "      <td>2017-03-29</td>\n",
       "      <td>2017-04-19</td>\n",
       "      <td>2_low</td>\n",
       "      <td>21 days 00:00:00</td>\n",
       "      <td>B4_Iodine 125</td>\n",
       "      <td>a_Yes</td>\n",
       "      <td>a_In-patient</td>\n",
       "      <td>2_Mechanical afterloading</td>\n",
       "      <td>MCCT</td>\n",
       "      <td>0_Treatment completed as prescribed</td>\n",
       "    </tr>\n",
       "    <tr>\n",
       "      <th>1</th>\n",
       "      <td>R_CPP101</td>\n",
       "      <td>R_RADBRHPPPP101</td>\n",
       "      <td>2017-02-22 00:06:57</td>\n",
       "      <td>A_Adjuvent</td>\n",
       "      <td>2017-04-13</td>\n",
       "      <td>2017-05-13</td>\n",
       "      <td>2_low</td>\n",
       "      <td>30 days 00:00:00</td>\n",
       "      <td>B4_Iodine 125</td>\n",
       "      <td>a_Yes</td>\n",
       "      <td>a_In-patient</td>\n",
       "      <td>2_Mechanical afterloading</td>\n",
       "      <td>MCCT</td>\n",
       "      <td>0_Treatment completed as prescribed</td>\n",
       "    </tr>\n",
       "    <tr>\n",
       "      <th>2</th>\n",
       "      <td>L_CPP102</td>\n",
       "      <td>L_RADBRHPPPP102</td>\n",
       "      <td>2017-03-09 16:13:24</td>\n",
       "      <td>N_Neoadjuvent</td>\n",
       "      <td>2017-04-14</td>\n",
       "      <td>2017-05-14</td>\n",
       "      <td>2_low</td>\n",
       "      <td>30 days 00:00:00</td>\n",
       "      <td>B4_Iodine 125</td>\n",
       "      <td>b-No</td>\n",
       "      <td>b_Out-patient</td>\n",
       "      <td>2_Mechanical afterloading</td>\n",
       "      <td>MCCT</td>\n",
       "      <td>4_Course not completed - Technical or organisa...</td>\n",
       "    </tr>\n",
       "    <tr>\n",
       "      <th>3</th>\n",
       "      <td>L_CPP103</td>\n",
       "      <td>L_RADBRHPPPP103</td>\n",
       "      <td>2017-02-21 19:48:52</td>\n",
       "      <td>C_Curative</td>\n",
       "      <td>2017-04-12</td>\n",
       "      <td>2017-05-03</td>\n",
       "      <td>1_High/medium</td>\n",
       "      <td>21 days 00:00:00</td>\n",
       "      <td>B7_Brachytherapy other</td>\n",
       "      <td>b-No</td>\n",
       "      <td>b_Out-patient</td>\n",
       "      <td>3_Live source</td>\n",
       "      <td>MCCT</td>\n",
       "      <td>2_Course not completed - Progressive disease d...</td>\n",
       "    </tr>\n",
       "    <tr>\n",
       "      <th>4</th>\n",
       "      <td>L_CPP104</td>\n",
       "      <td>L_RADBRHPPPP104</td>\n",
       "      <td>2017-02-24 04:11:12</td>\n",
       "      <td>S_Staging</td>\n",
       "      <td>2017-04-14</td>\n",
       "      <td>2017-05-14</td>\n",
       "      <td>1_High/medium</td>\n",
       "      <td>30 days 00:00:00</td>\n",
       "      <td>B7_Brachytherapy other</td>\n",
       "      <td>a_Yes</td>\n",
       "      <td>b_Out-patient</td>\n",
       "      <td>3_Live source</td>\n",
       "      <td>MCCT</td>\n",
       "      <td>5_Treatment stopped or interrupted - Patient c...</td>\n",
       "    </tr>\n",
       "  </tbody>\n",
       "</table>\n",
       "</div>"
      ],
      "text/plain": [
       "  LOCAL_PATIENT_IDENTIFIER SITE CODE (OF BRACHYTHERAPY)  \\\n",
       "0                 L_CPP100              L_RADBRHPPPP100   \n",
       "1                 R_CPP101              R_RADBRHPPPP101   \n",
       "2                 L_CPP102              L_RADBRHPPPP102   \n",
       "3                 L_CPP103              L_RADBRHPPPP103   \n",
       "4                 L_CPP104              L_RADBRHPPPP104   \n",
       "\n",
       "  DECISION TO TREAT DATE (BRACHYTHERAPY TREATMENT COURSE)  \\\n",
       "0                                2017-02-22 12:37:09        \n",
       "1                                2017-02-22 00:06:57        \n",
       "2                                2017-03-09 16:13:24        \n",
       "3                                2017-02-21 19:48:52        \n",
       "4                                2017-02-24 04:11:12        \n",
       "\n",
       "  CANCER TREATMENT INTENT START DATE (BRACHYTHERAPY TREATMENT COURSE)  \\\n",
       "0            D_Diagnostic                                  2017-03-29   \n",
       "1              A_Adjuvent                                  2017-04-13   \n",
       "2           N_Neoadjuvent                                  2017-04-14   \n",
       "3              C_Curative                                  2017-04-12   \n",
       "4               S_Staging                                  2017-04-14   \n",
       "\n",
       "  END DATE (BRACHYTHERAPY TREATMENT COURSE) BRACHYTHERAPY DOSE RATE  \\\n",
       "0                                2017-04-19                   2_low   \n",
       "1                                2017-05-13                   2_low   \n",
       "2                                2017-05-14                   2_low   \n",
       "3                                2017-05-03           1_High/medium   \n",
       "4                                2017-05-14           1_High/medium   \n",
       "\n",
       "  DURATION OF BRACHYTHERAPY TREATMENT COURSE BRACHYTHERAPY ISOTOPE TYPE  \\\n",
       "0                           21 days 00:00:00              B4_Iodine 125   \n",
       "1                           30 days 00:00:00              B4_Iodine 125   \n",
       "2                           30 days 00:00:00              B4_Iodine 125   \n",
       "3                           21 days 00:00:00     B7_Brachytherapy other   \n",
       "4                           30 days 00:00:00     B7_Brachytherapy other   \n",
       "\n",
       "  RADIOTHERAPY ANAESTHETIC UNSEALED SOURCE PATIENT TYPE  \\\n",
       "0                    a_Yes                 a_In-patient   \n",
       "1                    a_Yes                 a_In-patient   \n",
       "2                     b-No                b_Out-patient   \n",
       "3                     b-No                b_Out-patient   \n",
       "4                    a_Yes                b_Out-patient   \n",
       "\n",
       "  BRACHYTHERAPY DELIVERY TYPE HEALTHCARE RESOURCE GROUP CODE  \\\n",
       "0   2_Mechanical afterloading                           MCCT   \n",
       "1   2_Mechanical afterloading                           MCCT   \n",
       "2   2_Mechanical afterloading                           MCCT   \n",
       "3               3_Live source                           MCCT   \n",
       "4               3_Live source                           MCCT   \n",
       "\n",
       "                             TREATMENT COURSE STATUS  \n",
       "0                0_Treatment completed as prescribed  \n",
       "1                0_Treatment completed as prescribed  \n",
       "2  4_Course not completed - Technical or organisa...  \n",
       "3  2_Course not completed - Progressive disease d...  \n",
       "4  5_Treatment stopped or interrupted - Patient c...  "
      ]
     },
     "execution_count": 49,
     "metadata": {},
     "output_type": "execute_result"
    }
   ],
   "source": [
    "df11.head()"
   ]
  },
  {
   "cell_type": "code",
   "execution_count": 50,
   "metadata": {
    "collapsed": true
   },
   "outputs": [],
   "source": [
    "lst=[\"4_Not assessed\",\n",
    "\"3_Recurrent primary tumour\",\n",
    "\"2_No evidence of primary tumour\",\n",
    "\"1_Residual primary tumour\",\n",
    "\"5_Uncertain\"\n",
    "]"
   ]
  },
  {
   "cell_type": "code",
   "execution_count": 51,
   "metadata": {
    "collapsed": true
   },
   "outputs": [],
   "source": [
    "df14['PRIMARY TUMOUR STATUS']=df14.apply(lambda x:lst[random.randint(0,4)],axis=1)"
   ]
  },
  {
   "cell_type": "code",
   "execution_count": null,
   "metadata": {
    "collapsed": true
   },
   "outputs": [],
   "source": []
  },
  {
   "cell_type": "code",
   "execution_count": 52,
   "metadata": {},
   "outputs": [
    {
     "data": {
      "text/html": [
       "<div>\n",
       "<style scoped>\n",
       "    .dataframe tbody tr th:only-of-type {\n",
       "        vertical-align: middle;\n",
       "    }\n",
       "\n",
       "    .dataframe tbody tr th {\n",
       "        vertical-align: top;\n",
       "    }\n",
       "\n",
       "    .dataframe thead th {\n",
       "        text-align: right;\n",
       "    }\n",
       "</style>\n",
       "<table border=\"1\" class=\"dataframe\">\n",
       "  <thead>\n",
       "    <tr style=\"text-align: right;\">\n",
       "      <th></th>\n",
       "      <th>LOCAL_PATIENT_IDENTIFIER</th>\n",
       "      <th>CLINICAL STATUS ASSESSMENT DATE (CANCER)</th>\n",
       "      <th>PRIMARY TUMOUR STATUS</th>\n",
       "    </tr>\n",
       "  </thead>\n",
       "  <tbody>\n",
       "    <tr>\n",
       "      <th>0</th>\n",
       "      <td>L_CPP100</td>\n",
       "      <td>2017-05-09</td>\n",
       "      <td>5_Uncertain</td>\n",
       "    </tr>\n",
       "    <tr>\n",
       "      <th>1</th>\n",
       "      <td>R_CPP101</td>\n",
       "      <td>2017-06-02</td>\n",
       "      <td>1_Residual primary tumour</td>\n",
       "    </tr>\n",
       "    <tr>\n",
       "      <th>2</th>\n",
       "      <td>L_CPP102</td>\n",
       "      <td>2017-06-02</td>\n",
       "      <td>5_Uncertain</td>\n",
       "    </tr>\n",
       "    <tr>\n",
       "      <th>3</th>\n",
       "      <td>L_CPP103</td>\n",
       "      <td>2017-05-22</td>\n",
       "      <td>3_Recurrent primary tumour</td>\n",
       "    </tr>\n",
       "    <tr>\n",
       "      <th>4</th>\n",
       "      <td>L_CPP104</td>\n",
       "      <td>2017-06-03</td>\n",
       "      <td>5_Uncertain</td>\n",
       "    </tr>\n",
       "  </tbody>\n",
       "</table>\n",
       "</div>"
      ],
      "text/plain": [
       "  LOCAL_PATIENT_IDENTIFIER CLINICAL STATUS ASSESSMENT DATE (CANCER)  \\\n",
       "0                 L_CPP100                               2017-05-09   \n",
       "1                 R_CPP101                               2017-06-02   \n",
       "2                 L_CPP102                               2017-06-02   \n",
       "3                 L_CPP103                               2017-05-22   \n",
       "4                 L_CPP104                               2017-06-03   \n",
       "\n",
       "        PRIMARY TUMOUR STATUS  \n",
       "0                 5_Uncertain  \n",
       "1   1_Residual primary tumour  \n",
       "2                 5_Uncertain  \n",
       "3  3_Recurrent primary tumour  \n",
       "4                 5_Uncertain  "
      ]
     },
     "execution_count": 52,
     "metadata": {},
     "output_type": "execute_result"
    }
   ],
   "source": [
    "df14.head()"
   ]
  },
  {
   "cell_type": "code",
   "execution_count": 53,
   "metadata": {
    "collapsed": true
   },
   "outputs": [],
   "source": [
    "lst=[\"3_New regional nodal metastases\",\n",
    "\"4_Not assessed\",\n",
    "\"1_Residual regional nodal metastases\",\n",
    "\"2_No evidence of regional nodal metastases\",\n",
    "\"5_Uncertain\"\n",
    "]"
   ]
  },
  {
   "cell_type": "code",
   "execution_count": 54,
   "metadata": {
    "collapsed": true
   },
   "outputs": [],
   "source": [
    "df14['NODAL STATUS']=df14.apply(lambda x:lst[random.randint(0,4)],axis=1)"
   ]
  },
  {
   "cell_type": "code",
   "execution_count": 55,
   "metadata": {},
   "outputs": [
    {
     "data": {
      "text/html": [
       "<div>\n",
       "<style scoped>\n",
       "    .dataframe tbody tr th:only-of-type {\n",
       "        vertical-align: middle;\n",
       "    }\n",
       "\n",
       "    .dataframe tbody tr th {\n",
       "        vertical-align: top;\n",
       "    }\n",
       "\n",
       "    .dataframe thead th {\n",
       "        text-align: right;\n",
       "    }\n",
       "</style>\n",
       "<table border=\"1\" class=\"dataframe\">\n",
       "  <thead>\n",
       "    <tr style=\"text-align: right;\">\n",
       "      <th></th>\n",
       "      <th>LOCAL_PATIENT_IDENTIFIER</th>\n",
       "      <th>CLINICAL STATUS ASSESSMENT DATE (CANCER)</th>\n",
       "      <th>PRIMARY TUMOUR STATUS</th>\n",
       "      <th>NODAL STATUS</th>\n",
       "    </tr>\n",
       "  </thead>\n",
       "  <tbody>\n",
       "    <tr>\n",
       "      <th>0</th>\n",
       "      <td>L_CPP100</td>\n",
       "      <td>2017-05-09</td>\n",
       "      <td>5_Uncertain</td>\n",
       "      <td>5_Uncertain</td>\n",
       "    </tr>\n",
       "    <tr>\n",
       "      <th>1</th>\n",
       "      <td>R_CPP101</td>\n",
       "      <td>2017-06-02</td>\n",
       "      <td>1_Residual primary tumour</td>\n",
       "      <td>4_Not assessed</td>\n",
       "    </tr>\n",
       "    <tr>\n",
       "      <th>2</th>\n",
       "      <td>L_CPP102</td>\n",
       "      <td>2017-06-02</td>\n",
       "      <td>5_Uncertain</td>\n",
       "      <td>3_New regional nodal metastases</td>\n",
       "    </tr>\n",
       "    <tr>\n",
       "      <th>3</th>\n",
       "      <td>L_CPP103</td>\n",
       "      <td>2017-05-22</td>\n",
       "      <td>3_Recurrent primary tumour</td>\n",
       "      <td>1_Residual regional nodal metastases</td>\n",
       "    </tr>\n",
       "    <tr>\n",
       "      <th>4</th>\n",
       "      <td>L_CPP104</td>\n",
       "      <td>2017-06-03</td>\n",
       "      <td>5_Uncertain</td>\n",
       "      <td>1_Residual regional nodal metastases</td>\n",
       "    </tr>\n",
       "  </tbody>\n",
       "</table>\n",
       "</div>"
      ],
      "text/plain": [
       "  LOCAL_PATIENT_IDENTIFIER CLINICAL STATUS ASSESSMENT DATE (CANCER)  \\\n",
       "0                 L_CPP100                               2017-05-09   \n",
       "1                 R_CPP101                               2017-06-02   \n",
       "2                 L_CPP102                               2017-06-02   \n",
       "3                 L_CPP103                               2017-05-22   \n",
       "4                 L_CPP104                               2017-06-03   \n",
       "\n",
       "        PRIMARY TUMOUR STATUS                          NODAL STATUS  \n",
       "0                 5_Uncertain                           5_Uncertain  \n",
       "1   1_Residual primary tumour                        4_Not assessed  \n",
       "2                 5_Uncertain       3_New regional nodal metastases  \n",
       "3  3_Recurrent primary tumour  1_Residual regional nodal metastases  \n",
       "4                 5_Uncertain  1_Residual regional nodal metastases  "
      ]
     },
     "execution_count": 55,
     "metadata": {},
     "output_type": "execute_result"
    }
   ],
   "source": [
    "df14.head()"
   ]
  },
  {
   "cell_type": "code",
   "execution_count": 56,
   "metadata": {
    "collapsed": true
   },
   "outputs": [],
   "source": [
    "lst=[\"2_No evidence of metastases\",\n",
    "\"4_Not assessed\",\n",
    "\"1_Residual distant metastases\",\n",
    "\"3_New distant metastases\",\n",
    "\"5_Uncertain\"\n",
    "]"
   ]
  },
  {
   "cell_type": "code",
   "execution_count": 57,
   "metadata": {
    "collapsed": true
   },
   "outputs": [],
   "source": [
    "df14['METASTATIC STATUS']=df14.apply(lambda x:lst[random.randint(0,4)],axis=1)"
   ]
  },
  {
   "cell_type": "code",
   "execution_count": 58,
   "metadata": {},
   "outputs": [
    {
     "data": {
      "text/html": [
       "<div>\n",
       "<style scoped>\n",
       "    .dataframe tbody tr th:only-of-type {\n",
       "        vertical-align: middle;\n",
       "    }\n",
       "\n",
       "    .dataframe tbody tr th {\n",
       "        vertical-align: top;\n",
       "    }\n",
       "\n",
       "    .dataframe thead th {\n",
       "        text-align: right;\n",
       "    }\n",
       "</style>\n",
       "<table border=\"1\" class=\"dataframe\">\n",
       "  <thead>\n",
       "    <tr style=\"text-align: right;\">\n",
       "      <th></th>\n",
       "      <th>LOCAL_PATIENT_IDENTIFIER</th>\n",
       "      <th>CLINICAL STATUS ASSESSMENT DATE (CANCER)</th>\n",
       "      <th>PRIMARY TUMOUR STATUS</th>\n",
       "      <th>NODAL STATUS</th>\n",
       "      <th>METASTATIC STATUS</th>\n",
       "    </tr>\n",
       "  </thead>\n",
       "  <tbody>\n",
       "    <tr>\n",
       "      <th>0</th>\n",
       "      <td>L_CPP100</td>\n",
       "      <td>2017-05-09</td>\n",
       "      <td>5_Uncertain</td>\n",
       "      <td>5_Uncertain</td>\n",
       "      <td>3_New distant metastases</td>\n",
       "    </tr>\n",
       "    <tr>\n",
       "      <th>1</th>\n",
       "      <td>R_CPP101</td>\n",
       "      <td>2017-06-02</td>\n",
       "      <td>1_Residual primary tumour</td>\n",
       "      <td>4_Not assessed</td>\n",
       "      <td>4_Not assessed</td>\n",
       "    </tr>\n",
       "    <tr>\n",
       "      <th>2</th>\n",
       "      <td>L_CPP102</td>\n",
       "      <td>2017-06-02</td>\n",
       "      <td>5_Uncertain</td>\n",
       "      <td>3_New regional nodal metastases</td>\n",
       "      <td>3_New distant metastases</td>\n",
       "    </tr>\n",
       "    <tr>\n",
       "      <th>3</th>\n",
       "      <td>L_CPP103</td>\n",
       "      <td>2017-05-22</td>\n",
       "      <td>3_Recurrent primary tumour</td>\n",
       "      <td>1_Residual regional nodal metastases</td>\n",
       "      <td>2_No evidence of metastases</td>\n",
       "    </tr>\n",
       "    <tr>\n",
       "      <th>4</th>\n",
       "      <td>L_CPP104</td>\n",
       "      <td>2017-06-03</td>\n",
       "      <td>5_Uncertain</td>\n",
       "      <td>1_Residual regional nodal metastases</td>\n",
       "      <td>1_Residual distant metastases</td>\n",
       "    </tr>\n",
       "  </tbody>\n",
       "</table>\n",
       "</div>"
      ],
      "text/plain": [
       "  LOCAL_PATIENT_IDENTIFIER CLINICAL STATUS ASSESSMENT DATE (CANCER)  \\\n",
       "0                 L_CPP100                               2017-05-09   \n",
       "1                 R_CPP101                               2017-06-02   \n",
       "2                 L_CPP102                               2017-06-02   \n",
       "3                 L_CPP103                               2017-05-22   \n",
       "4                 L_CPP104                               2017-06-03   \n",
       "\n",
       "        PRIMARY TUMOUR STATUS                          NODAL STATUS  \\\n",
       "0                 5_Uncertain                           5_Uncertain   \n",
       "1   1_Residual primary tumour                        4_Not assessed   \n",
       "2                 5_Uncertain       3_New regional nodal metastases   \n",
       "3  3_Recurrent primary tumour  1_Residual regional nodal metastases   \n",
       "4                 5_Uncertain  1_Residual regional nodal metastases   \n",
       "\n",
       "               METASTATIC STATUS  \n",
       "0       3_New distant metastases  \n",
       "1                 4_Not assessed  \n",
       "2       3_New distant metastases  \n",
       "3    2_No evidence of metastases  \n",
       "4  1_Residual distant metastases  "
      ]
     },
     "execution_count": 58,
     "metadata": {},
     "output_type": "execute_result"
    }
   ],
   "source": [
    "df14.head()"
   ]
  },
  {
   "cell_type": "code",
   "execution_count": 59,
   "metadata": {
    "collapsed": true
   },
   "outputs": [],
   "source": [
    "lst=[\"5_Complete response\",\n",
    "\"1_No marker\",\n",
    "\"3_Static disease\",\n",
    "\"4_Partial response\",\n",
    "\"2_Progressive status\",\n",
    "\"6_Not assessed\"\n",
    "]"
   ]
  },
  {
   "cell_type": "code",
   "execution_count": 60,
   "metadata": {
    "collapsed": true
   },
   "outputs": [],
   "source": [
    "df14['MARKER RESPONSE STATUS']=df14.apply(lambda x:lst[random.randint(0,5)],axis=1)"
   ]
  },
  {
   "cell_type": "code",
   "execution_count": 61,
   "metadata": {},
   "outputs": [
    {
     "data": {
      "text/html": [
       "<div>\n",
       "<style scoped>\n",
       "    .dataframe tbody tr th:only-of-type {\n",
       "        vertical-align: middle;\n",
       "    }\n",
       "\n",
       "    .dataframe tbody tr th {\n",
       "        vertical-align: top;\n",
       "    }\n",
       "\n",
       "    .dataframe thead th {\n",
       "        text-align: right;\n",
       "    }\n",
       "</style>\n",
       "<table border=\"1\" class=\"dataframe\">\n",
       "  <thead>\n",
       "    <tr style=\"text-align: right;\">\n",
       "      <th></th>\n",
       "      <th>LOCAL_PATIENT_IDENTIFIER</th>\n",
       "      <th>CLINICAL STATUS ASSESSMENT DATE (CANCER)</th>\n",
       "      <th>PRIMARY TUMOUR STATUS</th>\n",
       "      <th>NODAL STATUS</th>\n",
       "      <th>METASTATIC STATUS</th>\n",
       "      <th>MARKER RESPONSE STATUS</th>\n",
       "    </tr>\n",
       "  </thead>\n",
       "  <tbody>\n",
       "    <tr>\n",
       "      <th>0</th>\n",
       "      <td>L_CPP100</td>\n",
       "      <td>2017-05-09</td>\n",
       "      <td>5_Uncertain</td>\n",
       "      <td>5_Uncertain</td>\n",
       "      <td>3_New distant metastases</td>\n",
       "      <td>1_No marker</td>\n",
       "    </tr>\n",
       "    <tr>\n",
       "      <th>1</th>\n",
       "      <td>R_CPP101</td>\n",
       "      <td>2017-06-02</td>\n",
       "      <td>1_Residual primary tumour</td>\n",
       "      <td>4_Not assessed</td>\n",
       "      <td>4_Not assessed</td>\n",
       "      <td>3_Static disease</td>\n",
       "    </tr>\n",
       "    <tr>\n",
       "      <th>2</th>\n",
       "      <td>L_CPP102</td>\n",
       "      <td>2017-06-02</td>\n",
       "      <td>5_Uncertain</td>\n",
       "      <td>3_New regional nodal metastases</td>\n",
       "      <td>3_New distant metastases</td>\n",
       "      <td>1_No marker</td>\n",
       "    </tr>\n",
       "    <tr>\n",
       "      <th>3</th>\n",
       "      <td>L_CPP103</td>\n",
       "      <td>2017-05-22</td>\n",
       "      <td>3_Recurrent primary tumour</td>\n",
       "      <td>1_Residual regional nodal metastases</td>\n",
       "      <td>2_No evidence of metastases</td>\n",
       "      <td>3_Static disease</td>\n",
       "    </tr>\n",
       "    <tr>\n",
       "      <th>4</th>\n",
       "      <td>L_CPP104</td>\n",
       "      <td>2017-06-03</td>\n",
       "      <td>5_Uncertain</td>\n",
       "      <td>1_Residual regional nodal metastases</td>\n",
       "      <td>1_Residual distant metastases</td>\n",
       "      <td>4_Partial response</td>\n",
       "    </tr>\n",
       "  </tbody>\n",
       "</table>\n",
       "</div>"
      ],
      "text/plain": [
       "  LOCAL_PATIENT_IDENTIFIER CLINICAL STATUS ASSESSMENT DATE (CANCER)  \\\n",
       "0                 L_CPP100                               2017-05-09   \n",
       "1                 R_CPP101                               2017-06-02   \n",
       "2                 L_CPP102                               2017-06-02   \n",
       "3                 L_CPP103                               2017-05-22   \n",
       "4                 L_CPP104                               2017-06-03   \n",
       "\n",
       "        PRIMARY TUMOUR STATUS                          NODAL STATUS  \\\n",
       "0                 5_Uncertain                           5_Uncertain   \n",
       "1   1_Residual primary tumour                        4_Not assessed   \n",
       "2                 5_Uncertain       3_New regional nodal metastases   \n",
       "3  3_Recurrent primary tumour  1_Residual regional nodal metastases   \n",
       "4                 5_Uncertain  1_Residual regional nodal metastases   \n",
       "\n",
       "               METASTATIC STATUS MARKER RESPONSE STATUS  \n",
       "0       3_New distant metastases            1_No marker  \n",
       "1                 4_Not assessed       3_Static disease  \n",
       "2       3_New distant metastases            1_No marker  \n",
       "3    2_No evidence of metastases       3_Static disease  \n",
       "4  1_Residual distant metastases     4_Partial response  "
      ]
     },
     "execution_count": 61,
     "metadata": {},
     "output_type": "execute_result"
    }
   ],
   "source": [
    "df14.head()"
   ]
  },
  {
   "cell_type": "code",
   "execution_count": 62,
   "metadata": {
    "collapsed": true
   },
   "outputs": [],
   "source": [
    "lst=[\"0_Able to carry out all normal activity without restriction\",\n",
    "\"1_Restricted in physically strenuous activity, but able to walk and do light work\",\n",
    "\"2_Able to walk and capable of all self care, but unable to carry out any work. Up and about more than 50% of waking hours\",\n",
    "\"3_Capable of only limited self care, confined to bed or chair more than 50% of waking hours\",\n",
    "\"4_Completely disabled. Cannot carry on any self care. Totally confined to bed or chair\"\n",
    "]"
   ]
  },
  {
   "cell_type": "code",
   "execution_count": 63,
   "metadata": {
    "collapsed": true
   },
   "outputs": [],
   "source": [
    "df14['PERFORMANCE STATUS (ADULT)']=df14.apply(lambda x:lst[random.randint(0,4)],axis=1)"
   ]
  }
 ],
 "metadata": {
  "kernelspec": {
   "display_name": "Python 2",
   "language": "python",
   "name": "python2"
  },
  "language_info": {
   "codemirror_mode": {
    "name": "ipython",
    "version": 2
   },
   "file_extension": ".py",
   "mimetype": "text/x-python",
   "name": "python",
   "nbconvert_exporter": "python",
   "pygments_lexer": "ipython2",
   "version": "2.7.13"
  }
 },
 "nbformat": 4,
 "nbformat_minor": 2
}
