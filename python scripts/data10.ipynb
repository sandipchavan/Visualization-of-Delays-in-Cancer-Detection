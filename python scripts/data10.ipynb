{
 "cells": [
  {
   "cell_type": "code",
   "execution_count": 3,
   "metadata": {
    "collapsed": true
   },
   "outputs": [],
   "source": [
    "import pandas as pd\n",
    "from pandas import DataFrame as df\n",
    "import random\n",
    "import datetime"
   ]
  },
  {
   "cell_type": "code",
   "execution_count": 2,
   "metadata": {
    "collapsed": true
   },
   "outputs": [],
   "source": [
    "df1=pd.read_excel('cancer_data5.xlsx',sheet_name=\"DEMOGRAPHICS\")\n",
    "df2=pd.read_excel('cancer_data5.xlsx',sheet_name='REFERRAL')\n",
    "df3=pd.read_excel('cancer_data5.xlsx',sheet_name='IMAGING')\n",
    "df4=pd.read_excel('cancer_data5.xlsx',sheet_name='DIAGNOSIS')\n",
    "df5=pd.read_excel('cancer_data5.xlsx',sheet_name='CANCER CARE PLAN')\n",
    "df6=pd.read_excel('cancer_data5.xlsx',sheet_name='Staging')\n",
    "df7=pd.read_excel('cancer_data5.xlsx',sheet_name='Surgery&other procedures')\n",
    "df8=pd.read_excel('cancer_data5.xlsx',sheet_name='Pathology Details')\n",
    "df9=pd.read_excel(\"cancer_data5.xlsx\",sheet_name=\"chemotheropy & other drugs\")\n",
    "df10=pd.read_excel(\"cancer_data5.xlsx\",sheet_name=\"Radiotherapy(Teletherapy)\")\n",
    "df11=pd.read_excel(\"cancer_data5.xlsx\",sheet_name='Radiotherapy(Brachytherapy)')\n",
    "df12=pd.read_excel(\"cancer_data5.xlsx\",sheet_name='Palliative Care')\n",
    "df13=pd.read_excel(\"cancer_data5.xlsx\",sheet_name='Clinical Trials')\n",
    "df14=pd.read_excel(\"cancer_data5.xlsx\",sheet_name='Clinical Status Assesment')\n",
    "df15=pd.read_excel(\"cancer_data5.xlsx\",sheet_name='Death Details')"
   ]
  },
  {
   "cell_type": "code",
   "execution_count": 4,
   "metadata": {},
   "outputs": [],
   "source": [
    "df15=pd.read_excel(\"cancer_data6.xlsx\",sheet_name='Death Details')"
   ]
  },
  {
   "cell_type": "code",
   "execution_count": 60,
   "metadata": {},
   "outputs": [
    {
     "data": {
      "text/html": [
       "<div>\n",
       "<style scoped>\n",
       "    .dataframe tbody tr th:only-of-type {\n",
       "        vertical-align: middle;\n",
       "    }\n",
       "\n",
       "    .dataframe tbody tr th {\n",
       "        vertical-align: top;\n",
       "    }\n",
       "\n",
       "    .dataframe thead th {\n",
       "        text-align: right;\n",
       "    }\n",
       "</style>\n",
       "<table border=\"1\" class=\"dataframe\">\n",
       "  <thead>\n",
       "    <tr style=\"text-align: right;\">\n",
       "      <th></th>\n",
       "      <th>LOCAL_PATIENT_IDENTIFIER</th>\n",
       "      <th>PERSON DEATH DATE</th>\n",
       "    </tr>\n",
       "  </thead>\n",
       "  <tbody>\n",
       "    <tr>\n",
       "      <th>0</th>\n",
       "      <td>L_CPP100</td>\n",
       "      <td>2017-11-09</td>\n",
       "    </tr>\n",
       "    <tr>\n",
       "      <th>1</th>\n",
       "      <td>R_CPP101</td>\n",
       "      <td>2017-12-09</td>\n",
       "    </tr>\n",
       "    <tr>\n",
       "      <th>2</th>\n",
       "      <td>L_CPP102</td>\n",
       "      <td>2017-12-03</td>\n",
       "    </tr>\n",
       "    <tr>\n",
       "      <th>3</th>\n",
       "      <td>L_CPP103</td>\n",
       "      <td>2017-12-08</td>\n",
       "    </tr>\n",
       "    <tr>\n",
       "      <th>4</th>\n",
       "      <td>L_CPP104</td>\n",
       "      <td>2017-12-04</td>\n",
       "    </tr>\n",
       "  </tbody>\n",
       "</table>\n",
       "</div>"
      ],
      "text/plain": [
       "  LOCAL_PATIENT_IDENTIFIER PERSON DEATH DATE\n",
       "0                 L_CPP100        2017-11-09\n",
       "1                 R_CPP101        2017-12-09\n",
       "2                 L_CPP102        2017-12-03\n",
       "3                 L_CPP103        2017-12-08\n",
       "4                 L_CPP104        2017-12-04"
      ]
     },
     "execution_count": 60,
     "metadata": {},
     "output_type": "execute_result"
    }
   ],
   "source": [
    "df15.head()"
   ]
  },
  {
   "cell_type": "code",
   "execution_count": 12,
   "metadata": {
    "collapsed": true
   },
   "outputs": [],
   "source": [
    "lst1=random.sample(range(0,600),390)"
   ]
  },
  {
   "cell_type": "code",
   "execution_count": 21,
   "metadata": {
    "collapsed": true
   },
   "outputs": [],
   "source": [
    "lst2=['-','-','-','-','-','-',df15['PERSON DEATH DATE']]"
   ]
  },
  {
   "cell_type": "code",
   "execution_count": 6,
   "metadata": {
    "collapsed": true
   },
   "outputs": [],
   "source": [
    "df15.reset_index(inplace=True)"
   ]
  },
  {
   "cell_type": "code",
   "execution_count": 7,
   "metadata": {},
   "outputs": [],
   "source": [
    "df15['PERSON DEATH DATE1']=df15.apply(lambda x:x['PERSON DEATH DATE'] if ((x['index']%5==0) |   (x['index']%11==0)) else  \"-\",axis=1)"
   ]
  },
  {
   "cell_type": "code",
   "execution_count": 18,
   "metadata": {},
   "outputs": [],
   "source": [
    "df15.to_excel('example_death_details.xlsx',index=None)"
   ]
  },
  {
   "cell_type": "code",
   "execution_count": 87,
   "metadata": {},
   "outputs": [
    {
     "data": {
      "text/plain": [
       "index                       390\n",
       "LOCAL_PATIENT_IDENTIFIER    390\n",
       "PERSON DEATH DATE           390\n",
       "PERSON DEATH DATE1          390\n",
       "dtype: int64"
      ]
     },
     "execution_count": 87,
     "metadata": {},
     "output_type": "execute_result"
    }
   ],
   "source": [
    "df15[df15['PERSON DEATH DATE1']==\"-\"].count()"
   ]
  },
  {
   "cell_type": "code",
   "execution_count": 11,
   "metadata": {},
   "outputs": [
    {
     "data": {
      "text/plain": [
       "index                                170\n",
       "LOCAL_PATIENT_IDENTIFIER             170\n",
       "PERSON DEATH DATE                    170\n",
       "PERSON DEATH DATE1                   170\n",
       "DEATH LOCATION TYPE                  170\n",
       "DEATH CAUSE IDENTIFICATION METHOD    170\n",
       "DEATH CAUSE CODE (IMMEDIATE)         170\n",
       "DEATH CAUSE CODE (CONDITION)         170\n",
       "DEATH CAUSE CODE (UNDERLYING)        170\n",
       "DEATH CAUSE CODE (SIGNIFICANT)       170\n",
       "DEATH CODE DISCREPANCY ORIGINATOR    170\n",
       "dtype: int64"
      ]
     },
     "execution_count": 11,
     "metadata": {},
     "output_type": "execute_result"
    }
   ],
   "source": [
    "df15[df15['PERSON DEATH DATE1']!=\"-\"].count()"
   ]
  },
  {
   "cell_type": "code",
   "execution_count": 12,
   "metadata": {
    "collapsed": true
   },
   "outputs": [],
   "source": [
    "df15.drop(columns=['index'],inplace=True)"
   ]
  },
  {
   "cell_type": "code",
   "execution_count": 131,
   "metadata": {
    "collapsed": true
   },
   "outputs": [],
   "source": [
    "writer = pd.ExcelWriter('cancer_data6.xlsx', engine='xlsxwriter')\n",
    "df1.to_excel(writer,sheet_name=\"DEMOGRAPHICS\",index=None)\n",
    "df2.to_excel(writer,sheet_name='REFERRAL',index=None)\n",
    "df3.to_excel(writer,sheet_name='IMAGING',index=None)\n",
    "df4.to_excel(writer,sheet_name='DIAGNOSIS',index=None)\n",
    "df5.to_excel(writer,sheet_name='CANCER CARE PLAN',index=None)\n",
    "df6.to_excel(writer,sheet_name='Staging',index=None)\n",
    "df7.to_excel(writer,sheet_name='Surgery&other procedures',index=None)\n",
    "df8.to_excel(writer,sheet_name='Pathology Details',index=None)\n",
    "df9.to_excel(writer,sheet_name='chemotheropy & other drugs',index=None)\n",
    "df10.to_excel(writer,sheet_name='Radiotherapy(Teletherapy)',index=None)\n",
    "df11.to_excel(writer,sheet_name='Radiotherapy(Brachytherapy)',index=None)\n",
    "df12.to_excel(writer,sheet_name='Palliative Care',index=None)\n",
    "df13.to_excel(writer,sheet_name='Clinical Trials',index=None)\n",
    "df14.to_excel(writer,sheet_name='Clinical Status Assesment',index=None)\n",
    "df15.to_excel(writer,sheet_name='Death Details',index=None)\n",
    "writer.save()"
   ]
  },
  {
   "cell_type": "code",
   "execution_count": 13,
   "metadata": {
    "collapsed": true
   },
   "outputs": [],
   "source": [
    "lst1=[\"4_Patient's own home\",\n",
    "\"2_NHS hospice / specialist palliative care unit\",\n",
    "\"3_Voluntary hospice / specialist palliative care unit\",\n",
    "\"5_Care home\",\n",
    "\"1_Hospital\",\n",
    "      \"1_Hospital\"\n",
    "]"
   ]
  },
  {
   "cell_type": "code",
   "execution_count": null,
   "metadata": {
    "collapsed": true
   },
   "outputs": [],
   "source": []
  },
  {
   "cell_type": "code",
   "execution_count": 14,
   "metadata": {
    "collapsed": true
   },
   "outputs": [],
   "source": [
    "df15['DEATH LOCATION TYPE']=df15.apply(lambda x:\"-\" if (x['PERSON DEATH DATE1']==\"-\") else lst1[random.randint(0,5)],axis=1)"
   ]
  },
  {
   "cell_type": "code",
   "execution_count": 15,
   "metadata": {
    "collapsed": true
   },
   "outputs": [],
   "source": [
    "lst=['2_NHS Central Register Follow-up',\n",
    "'3_Hospital records',\n",
    "'4_Verbal communication',\n",
    "'5_Post mortem',\n",
    "'1_Death certificate'\n",
    "]"
   ]
  },
  {
   "cell_type": "code",
   "execution_count": null,
   "metadata": {
    "collapsed": true
   },
   "outputs": [],
   "source": []
  },
  {
   "cell_type": "code",
   "execution_count": 16,
   "metadata": {
    "collapsed": true
   },
   "outputs": [],
   "source": [
    "df15['DEATH CAUSE IDENTIFICATION METHOD']=df15.apply(lambda x:'-' if (x['DEATH LOCATION TYPE']=='-') else lst[random.randint(0,4)],axis=1)"
   ]
  },
  {
   "cell_type": "code",
   "execution_count": 17,
   "metadata": {},
   "outputs": [
    {
     "data": {
      "text/html": [
       "<div>\n",
       "<style scoped>\n",
       "    .dataframe tbody tr th:only-of-type {\n",
       "        vertical-align: middle;\n",
       "    }\n",
       "\n",
       "    .dataframe tbody tr th {\n",
       "        vertical-align: top;\n",
       "    }\n",
       "\n",
       "    .dataframe thead th {\n",
       "        text-align: right;\n",
       "    }\n",
       "</style>\n",
       "<table border=\"1\" class=\"dataframe\">\n",
       "  <thead>\n",
       "    <tr style=\"text-align: right;\">\n",
       "      <th></th>\n",
       "      <th>LOCAL_PATIENT_IDENTIFIER</th>\n",
       "      <th>PERSON DEATH DATE</th>\n",
       "      <th>PERSON DEATH DATE1</th>\n",
       "      <th>DEATH LOCATION TYPE</th>\n",
       "      <th>DEATH CAUSE IDENTIFICATION METHOD</th>\n",
       "      <th>DEATH CAUSE CODE (IMMEDIATE)</th>\n",
       "      <th>DEATH CAUSE CODE (CONDITION)</th>\n",
       "      <th>DEATH CAUSE CODE (UNDERLYING)</th>\n",
       "      <th>DEATH CAUSE CODE (SIGNIFICANT)</th>\n",
       "      <th>DEATH CODE DISCREPANCY ORIGINATOR</th>\n",
       "    </tr>\n",
       "  </thead>\n",
       "  <tbody>\n",
       "    <tr>\n",
       "      <th>0</th>\n",
       "      <td>L_CPP100</td>\n",
       "      <td>2017-11-09</td>\n",
       "      <td>2017-11-09 00:00:00</td>\n",
       "      <td>2_NHS hospice / specialist palliative care unit</td>\n",
       "      <td>1_Death certificate</td>\n",
       "      <td>ICD-4</td>\n",
       "      <td>ICD-4</td>\n",
       "      <td>ICD-4</td>\n",
       "      <td>ICD-4</td>\n",
       "      <td>11- There is a discrepancy between the hospita...</td>\n",
       "    </tr>\n",
       "    <tr>\n",
       "      <th>1</th>\n",
       "      <td>R_CPP101</td>\n",
       "      <td>2017-12-09</td>\n",
       "      <td>-</td>\n",
       "      <td>-</td>\n",
       "      <td>-</td>\n",
       "      <td>ICD-2</td>\n",
       "      <td>ICD-2</td>\n",
       "      <td>ICD-2</td>\n",
       "      <td>ICD-2</td>\n",
       "      <td>11- There is a discrepancy between the hospita...</td>\n",
       "    </tr>\n",
       "    <tr>\n",
       "      <th>2</th>\n",
       "      <td>L_CPP102</td>\n",
       "      <td>2017-12-03</td>\n",
       "      <td>-</td>\n",
       "      <td>-</td>\n",
       "      <td>-</td>\n",
       "      <td>ICD-7</td>\n",
       "      <td>ICD-7</td>\n",
       "      <td>ICD-7</td>\n",
       "      <td>ICD-7</td>\n",
       "      <td>11- There is a discrepancy between the hospita...</td>\n",
       "    </tr>\n",
       "    <tr>\n",
       "      <th>3</th>\n",
       "      <td>L_CPP103</td>\n",
       "      <td>2017-12-08</td>\n",
       "      <td>-</td>\n",
       "      <td>-</td>\n",
       "      <td>-</td>\n",
       "      <td>ICD-3</td>\n",
       "      <td>ICD-3</td>\n",
       "      <td>ICD-3</td>\n",
       "      <td>ICD-3</td>\n",
       "      <td>11- There is a discrepancy between the hospita...</td>\n",
       "    </tr>\n",
       "    <tr>\n",
       "      <th>4</th>\n",
       "      <td>L_CPP104</td>\n",
       "      <td>2017-12-04</td>\n",
       "      <td>-</td>\n",
       "      <td>-</td>\n",
       "      <td>-</td>\n",
       "      <td>ICD-2</td>\n",
       "      <td>ICD-2</td>\n",
       "      <td>ICD-2</td>\n",
       "      <td>ICD-2</td>\n",
       "      <td>10- There is a discrepancy between the hospita...</td>\n",
       "    </tr>\n",
       "  </tbody>\n",
       "</table>\n",
       "</div>"
      ],
      "text/plain": [
       "  LOCAL_PATIENT_IDENTIFIER PERSON DEATH DATE   PERSON DEATH DATE1  \\\n",
       "0                 L_CPP100        2017-11-09  2017-11-09 00:00:00   \n",
       "1                 R_CPP101        2017-12-09                    -   \n",
       "2                 L_CPP102        2017-12-03                    -   \n",
       "3                 L_CPP103        2017-12-08                    -   \n",
       "4                 L_CPP104        2017-12-04                    -   \n",
       "\n",
       "                               DEATH LOCATION TYPE  \\\n",
       "0  2_NHS hospice / specialist palliative care unit   \n",
       "1                                                -   \n",
       "2                                                -   \n",
       "3                                                -   \n",
       "4                                                -   \n",
       "\n",
       "  DEATH CAUSE IDENTIFICATION METHOD DEATH CAUSE CODE (IMMEDIATE)  \\\n",
       "0               1_Death certificate                        ICD-4   \n",
       "1                                 -                        ICD-2   \n",
       "2                                 -                        ICD-7   \n",
       "3                                 -                        ICD-3   \n",
       "4                                 -                        ICD-2   \n",
       "\n",
       "  DEATH CAUSE CODE (CONDITION) DEATH CAUSE CODE (UNDERLYING)  \\\n",
       "0                        ICD-4                         ICD-4   \n",
       "1                        ICD-2                         ICD-2   \n",
       "2                        ICD-7                         ICD-7   \n",
       "3                        ICD-3                         ICD-3   \n",
       "4                        ICD-2                         ICD-2   \n",
       "\n",
       "  DEATH CAUSE CODE (SIGNIFICANT)  \\\n",
       "0                          ICD-4   \n",
       "1                          ICD-2   \n",
       "2                          ICD-7   \n",
       "3                          ICD-3   \n",
       "4                          ICD-2   \n",
       "\n",
       "                   DEATH CODE DISCREPANCY ORIGINATOR  \n",
       "0  11- There is a discrepancy between the hospita...  \n",
       "1  11- There is a discrepancy between the hospita...  \n",
       "2  11- There is a discrepancy between the hospita...  \n",
       "3  11- There is a discrepancy between the hospita...  \n",
       "4  10- There is a discrepancy between the hospita...  "
      ]
     },
     "execution_count": 17,
     "metadata": {},
     "output_type": "execute_result"
    }
   ],
   "source": [
    "df15.head()"
   ]
  },
  {
   "cell_type": "code",
   "execution_count": 120,
   "metadata": {
    "collapsed": true
   },
   "outputs": [],
   "source": [
    "def fun1(x):\n",
    "    if str(x['DEATH CAUSE CANCER']).startswith(\"1_\"):\n",
    "        return \"ICD-1\"\n",
    "    if str(x['DEATH CAUSE CANCER']).startswith(\"2_\")):\n",
    "        return \"ICD-2\"\n",
    "    if str(x['DEATH CAUSE CANCER']).startswith(\"3_\")):\n",
    "        return \"ICD-3\"\n",
    "    if str(x['DEATH CAUSE CANCER']).startswith(\"4_\")):\n",
    "        return \"ICD-4\"\n",
    "    if str(x['DEATH CAUSE CANCER']).startswith(\"5_\")):\n",
    "        return \"ICD-5\"\n",
    "    if str(x['DEATH CAUSE CANCER']).startswith(\"6_\")):\n",
    "        return \"ICD-6\"\n",
    "    if str(x['DEATH CAUSE CANCER']).startswith(\"7_\")):\n",
    "        return \"ICD-7\"\n",
    "    "
   ]
  },
  {
   "cell_type": "code",
   "execution_count": null,
   "metadata": {
    "collapsed": true
   },
   "outputs": [],
   "source": []
  },
  {
   "cell_type": "code",
   "execution_count": 123,
   "metadata": {
    "collapsed": true
   },
   "outputs": [],
   "source": [
    "df15['DEATH CAUSE CODE (IMMEDIATE)']=df15.apply(lambda x:\"ICD-\"+str(random.randint(1,7)),axis=1)"
   ]
  },
  {
   "cell_type": "code",
   "execution_count": 125,
   "metadata": {
    "collapsed": true
   },
   "outputs": [],
   "source": [
    "df15['DEATH CAUSE CODE (CONDITION)']=df15['DEATH CAUSE CODE (IMMEDIATE)']"
   ]
  },
  {
   "cell_type": "code",
   "execution_count": 126,
   "metadata": {
    "collapsed": true
   },
   "outputs": [],
   "source": [
    "df15['DEATH CAUSE CODE (UNDERLYING)']=df15['DEATH CAUSE CODE (IMMEDIATE)']"
   ]
  },
  {
   "cell_type": "code",
   "execution_count": 127,
   "metadata": {
    "collapsed": true
   },
   "outputs": [],
   "source": [
    "df15['DEATH CAUSE CODE (SIGNIFICANT)']=df15['DEATH CAUSE CODE (IMMEDIATE)']"
   ]
  },
  {
   "cell_type": "code",
   "execution_count": 128,
   "metadata": {
    "collapsed": true
   },
   "outputs": [],
   "source": [
    "lst=[\"10- There is a discrepancy between the hospital evidence and the death certificate (information provided by the Trust)\",\n",
    "\"11- There is a discrepancy between the hospital evidence and the death certificate (information provided by the Cancer Registry)\"\n",
    "]"
   ]
  },
  {
   "cell_type": "code",
   "execution_count": 129,
   "metadata": {
    "collapsed": true
   },
   "outputs": [],
   "source": [
    "df15['DEATH CODE DISCREPANCY ORIGINATOR']=df15.apply(lambda x:lst[random.randint(0,1)],axis=1)"
   ]
  },
  {
   "cell_type": "code",
   "execution_count": 130,
   "metadata": {},
   "outputs": [
    {
     "data": {
      "text/html": [
       "<div>\n",
       "<style scoped>\n",
       "    .dataframe tbody tr th:only-of-type {\n",
       "        vertical-align: middle;\n",
       "    }\n",
       "\n",
       "    .dataframe tbody tr th {\n",
       "        vertical-align: top;\n",
       "    }\n",
       "\n",
       "    .dataframe thead th {\n",
       "        text-align: right;\n",
       "    }\n",
       "</style>\n",
       "<table border=\"1\" class=\"dataframe\">\n",
       "  <thead>\n",
       "    <tr style=\"text-align: right;\">\n",
       "      <th></th>\n",
       "      <th>LOCAL_PATIENT_IDENTIFIER</th>\n",
       "      <th>PERSON DEATH DATE</th>\n",
       "      <th>PERSON DEATH DATE1</th>\n",
       "      <th>DEATH LOCATION TYPE</th>\n",
       "      <th>DEATH CAUSE IDENTIFICATION METHOD</th>\n",
       "      <th>DEATH CAUSE CODE (IMMEDIATE)</th>\n",
       "      <th>DEATH CAUSE CODE (CONDITION)</th>\n",
       "      <th>DEATH CAUSE CODE (UNDERLYING)</th>\n",
       "      <th>DEATH CAUSE CODE (SIGNIFICANT)</th>\n",
       "      <th>DEATH CODE DISCREPANCY ORIGINATOR</th>\n",
       "    </tr>\n",
       "  </thead>\n",
       "  <tbody>\n",
       "    <tr>\n",
       "      <th>0</th>\n",
       "      <td>L_CPP100</td>\n",
       "      <td>2017-11-09</td>\n",
       "      <td>2017-11-09 00:00:00</td>\n",
       "      <td>3_Voluntary hospice / specialist palliative ca...</td>\n",
       "      <td>3_Hospital records</td>\n",
       "      <td>ICD-4</td>\n",
       "      <td>ICD-4</td>\n",
       "      <td>ICD-4</td>\n",
       "      <td>ICD-4</td>\n",
       "      <td>11- There is a discrepancy between the hospita...</td>\n",
       "    </tr>\n",
       "    <tr>\n",
       "      <th>1</th>\n",
       "      <td>R_CPP101</td>\n",
       "      <td>2017-12-09</td>\n",
       "      <td>-</td>\n",
       "      <td>-</td>\n",
       "      <td>-</td>\n",
       "      <td>ICD-2</td>\n",
       "      <td>ICD-2</td>\n",
       "      <td>ICD-2</td>\n",
       "      <td>ICD-2</td>\n",
       "      <td>11- There is a discrepancy between the hospita...</td>\n",
       "    </tr>\n",
       "    <tr>\n",
       "      <th>2</th>\n",
       "      <td>L_CPP102</td>\n",
       "      <td>2017-12-03</td>\n",
       "      <td>-</td>\n",
       "      <td>-</td>\n",
       "      <td>-</td>\n",
       "      <td>ICD-7</td>\n",
       "      <td>ICD-7</td>\n",
       "      <td>ICD-7</td>\n",
       "      <td>ICD-7</td>\n",
       "      <td>11- There is a discrepancy between the hospita...</td>\n",
       "    </tr>\n",
       "    <tr>\n",
       "      <th>3</th>\n",
       "      <td>L_CPP103</td>\n",
       "      <td>2017-12-08</td>\n",
       "      <td>-</td>\n",
       "      <td>-</td>\n",
       "      <td>-</td>\n",
       "      <td>ICD-3</td>\n",
       "      <td>ICD-3</td>\n",
       "      <td>ICD-3</td>\n",
       "      <td>ICD-3</td>\n",
       "      <td>11- There is a discrepancy between the hospita...</td>\n",
       "    </tr>\n",
       "    <tr>\n",
       "      <th>4</th>\n",
       "      <td>L_CPP104</td>\n",
       "      <td>2017-12-04</td>\n",
       "      <td>-</td>\n",
       "      <td>-</td>\n",
       "      <td>-</td>\n",
       "      <td>ICD-2</td>\n",
       "      <td>ICD-2</td>\n",
       "      <td>ICD-2</td>\n",
       "      <td>ICD-2</td>\n",
       "      <td>10- There is a discrepancy between the hospita...</td>\n",
       "    </tr>\n",
       "  </tbody>\n",
       "</table>\n",
       "</div>"
      ],
      "text/plain": [
       "  LOCAL_PATIENT_IDENTIFIER PERSON DEATH DATE   PERSON DEATH DATE1  \\\n",
       "0                 L_CPP100        2017-11-09  2017-11-09 00:00:00   \n",
       "1                 R_CPP101        2017-12-09                    -   \n",
       "2                 L_CPP102        2017-12-03                    -   \n",
       "3                 L_CPP103        2017-12-08                    -   \n",
       "4                 L_CPP104        2017-12-04                    -   \n",
       "\n",
       "                                 DEATH LOCATION TYPE  \\\n",
       "0  3_Voluntary hospice / specialist palliative ca...   \n",
       "1                                                  -   \n",
       "2                                                  -   \n",
       "3                                                  -   \n",
       "4                                                  -   \n",
       "\n",
       "  DEATH CAUSE IDENTIFICATION METHOD DEATH CAUSE CODE (IMMEDIATE)  \\\n",
       "0                3_Hospital records                        ICD-4   \n",
       "1                                 -                        ICD-2   \n",
       "2                                 -                        ICD-7   \n",
       "3                                 -                        ICD-3   \n",
       "4                                 -                        ICD-2   \n",
       "\n",
       "  DEATH CAUSE CODE (CONDITION) DEATH CAUSE CODE (UNDERLYING)  \\\n",
       "0                        ICD-4                         ICD-4   \n",
       "1                        ICD-2                         ICD-2   \n",
       "2                        ICD-7                         ICD-7   \n",
       "3                        ICD-3                         ICD-3   \n",
       "4                        ICD-2                         ICD-2   \n",
       "\n",
       "  DEATH CAUSE CODE (SIGNIFICANT)  \\\n",
       "0                          ICD-4   \n",
       "1                          ICD-2   \n",
       "2                          ICD-7   \n",
       "3                          ICD-3   \n",
       "4                          ICD-2   \n",
       "\n",
       "                   DEATH CODE DISCREPANCY ORIGINATOR  \n",
       "0  11- There is a discrepancy between the hospita...  \n",
       "1  11- There is a discrepancy between the hospita...  \n",
       "2  11- There is a discrepancy between the hospita...  \n",
       "3  11- There is a discrepancy between the hospita...  \n",
       "4  10- There is a discrepancy between the hospita...  "
      ]
     },
     "execution_count": 130,
     "metadata": {},
     "output_type": "execute_result"
    }
   ],
   "source": [
    "df15.head()"
   ]
  }
 ],
 "metadata": {
  "kernelspec": {
   "display_name": "Python 2",
   "language": "python",
   "name": "python2"
  },
  "language_info": {
   "codemirror_mode": {
    "name": "ipython",
    "version": 2
   },
   "file_extension": ".py",
   "mimetype": "text/x-python",
   "name": "python",
   "nbconvert_exporter": "python",
   "pygments_lexer": "ipython2",
   "version": "2.7.13"
  }
 },
 "nbformat": 4,
 "nbformat_minor": 2
}
