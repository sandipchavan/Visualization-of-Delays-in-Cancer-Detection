{
 "cells": [
  {
   "cell_type": "code",
   "execution_count": 3,
   "metadata": {
    "collapsed": true
   },
   "outputs": [],
   "source": [
    "import pandas as pd\n",
    "from pandas import DataFrame as df\n",
    "import random\n",
    "import datetime"
   ]
  },
  {
   "cell_type": "code",
   "execution_count": 4,
   "metadata": {},
   "outputs": [],
   "source": [
    "df1=pd.read_excel('cancer_data3.xlsx',sheet_name=\"DEMOGRAPHICS\")\n",
    "df2=pd.read_excel('cancer_data3.xlsx',sheet_name='REFERRAL')\n",
    "df3=pd.read_excel('cancer_data3.xlsx',sheet_name='IMAGING')\n",
    "df4=pd.read_excel('cancer_data3.xlsx',sheet_name='DIAGNOSIS')\n",
    "df5=pd.read_excel('cancer_data3.xlsx',sheet_name='CANCER CARE PLAN')\n",
    "df6=pd.read_excel('cancer_data3.xlsx',sheet_name='Staging')\n",
    "df7=pd.read_excel('cancer_data3.xlsx',sheet_name='Surgery&other procedures')\n",
    "df8=pd.read_excel('cancer_data3.xlsx',sheet_name='Pathology Details')"
   ]
  },
  {
   "cell_type": "code",
   "execution_count": 17,
   "metadata": {},
   "outputs": [],
   "source": [
    "df8['INVESTIGATION RESULT DATE']=df8['SAMPLE RECEIPT DATE'].apply(lambda x:x+datetime.timedelta(days=random.randint(13,15),hours=random.randint(1,11)))"
   ]
  },
  {
   "cell_type": "code",
   "execution_count": 19,
   "metadata": {
    "collapsed": true
   },
   "outputs": [],
   "source": [
    "lst=[\"GMP-DR_PT1\",\n",
    "\"GMP-DR_PT2\"\n",
    "]"
   ]
  },
  {
   "cell_type": "code",
   "execution_count": 20,
   "metadata": {},
   "outputs": [],
   "source": [
    "df8['CONSULTANT CODE (PATHOLOGIST)']=df8.apply(lambda x:lst[random.randint(0,1)],axis=1)"
   ]
  },
  {
   "cell_type": "code",
   "execution_count": 22,
   "metadata": {},
   "outputs": [],
   "source": [
    "df8['ORGANISATION CODE (OF REPORTING PATHOLOGY)']=df8.apply(lambda x:\"MCCT\",axis=1)"
   ]
  },
  {
   "cell_type": "code",
   "execution_count": 24,
   "metadata": {
    "collapsed": true
   },
   "outputs": [],
   "source": [
    "lst=[1,2,4,6,9,8,10]"
   ]
  },
  {
   "cell_type": "code",
   "execution_count": 31,
   "metadata": {},
   "outputs": [],
   "source": [
    "#df8.drop(columns=['PRIMARY DIAGNOSIS (ICD)'],axis=1,inplace=True)"
   ]
  },
  {
   "cell_type": "code",
   "execution_count": 34,
   "metadata": {},
   "outputs": [],
   "source": [
    "df8[['PRIMARY DIAGNOSIS (ICD)','TUMOUR LATERALITY']]=df4[['PRIMARY DIAGNOSIS (ICD)','TUMOUR LATERALITY']]"
   ]
  },
  {
   "cell_type": "code",
   "execution_count": 36,
   "metadata": {},
   "outputs": [
    {
     "data": {
      "text/html": [
       "<div>\n",
       "<style scoped>\n",
       "    .dataframe tbody tr th:only-of-type {\n",
       "        vertical-align: middle;\n",
       "    }\n",
       "\n",
       "    .dataframe tbody tr th {\n",
       "        vertical-align: top;\n",
       "    }\n",
       "\n",
       "    .dataframe thead th {\n",
       "        text-align: right;\n",
       "    }\n",
       "</style>\n",
       "<table border=\"1\" class=\"dataframe\">\n",
       "  <thead>\n",
       "    <tr style=\"text-align: right;\">\n",
       "      <th></th>\n",
       "      <th>LOCAL_PATIENT_IDENTIFIER</th>\n",
       "      <th>SITE_CODE_IMAGING</th>\n",
       "      <th>CLINICAL_INTERVENTION_DATES(CANCER_IMAGING)</th>\n",
       "      <th>CANCER IMAGING MODALITY</th>\n",
       "      <th>ANATOMICAL EXAMINATION SITE</th>\n",
       "      <th>INVASIVE LESION SIZE (RADIOLOGICAL DETERMINATION)</th>\n",
       "    </tr>\n",
       "  </thead>\n",
       "  <tbody>\n",
       "    <tr>\n",
       "      <th>0</th>\n",
       "      <td>L_CPP100</td>\n",
       "      <td>L_CPP100_MCC</td>\n",
       "      <td>2017-01-13 05:37:09</td>\n",
       "      <td>1_Standard radiography</td>\n",
       "      <td>LC</td>\n",
       "      <td>4.1-6.0</td>\n",
       "    </tr>\n",
       "    <tr>\n",
       "      <th>1</th>\n",
       "      <td>R_CPP101</td>\n",
       "      <td>R_CPP101_MCC</td>\n",
       "      <td>2017-01-14 00:06:57</td>\n",
       "      <td>3A_MRI scan with contrast</td>\n",
       "      <td>HNC</td>\n",
       "      <td>6.1-8.0</td>\n",
       "    </tr>\n",
       "    <tr>\n",
       "      <th>2</th>\n",
       "      <td>L_CPP102</td>\n",
       "      <td>L_CPP102_MCC</td>\n",
       "      <td>2017-01-19 14:13:24</td>\n",
       "      <td>1_Standard radiography</td>\n",
       "      <td>LC</td>\n",
       "      <td>2.1-4.0</td>\n",
       "    </tr>\n",
       "    <tr>\n",
       "      <th>3</th>\n",
       "      <td>L_CPP103</td>\n",
       "      <td>L_CPP103_MCC</td>\n",
       "      <td>2017-01-13 08:48:52</td>\n",
       "      <td>5C_Doppler ultrasound</td>\n",
       "      <td>SSC</td>\n",
       "      <td>2.9</td>\n",
       "    </tr>\n",
       "    <tr>\n",
       "      <th>4</th>\n",
       "      <td>L_CPP104</td>\n",
       "      <td>L_CPP104_MCC</td>\n",
       "      <td>2017-01-14 16:11:12</td>\n",
       "      <td>5C_Doppler ultrasound</td>\n",
       "      <td>SSC</td>\n",
       "      <td>6.1-8.0</td>\n",
       "    </tr>\n",
       "  </tbody>\n",
       "</table>\n",
       "</div>"
      ],
      "text/plain": [
       "  LOCAL_PATIENT_IDENTIFIER SITE_CODE_IMAGING  \\\n",
       "0                 L_CPP100      L_CPP100_MCC   \n",
       "1                 R_CPP101      R_CPP101_MCC   \n",
       "2                 L_CPP102      L_CPP102_MCC   \n",
       "3                 L_CPP103      L_CPP103_MCC   \n",
       "4                 L_CPP104      L_CPP104_MCC   \n",
       "\n",
       "  CLINICAL_INTERVENTION_DATES(CANCER_IMAGING)    CANCER IMAGING MODALITY  \\\n",
       "0                         2017-01-13 05:37:09     1_Standard radiography   \n",
       "1                         2017-01-14 00:06:57  3A_MRI scan with contrast   \n",
       "2                         2017-01-19 14:13:24     1_Standard radiography   \n",
       "3                         2017-01-13 08:48:52      5C_Doppler ultrasound   \n",
       "4                         2017-01-14 16:11:12      5C_Doppler ultrasound   \n",
       "\n",
       "  ANATOMICAL EXAMINATION SITE  \\\n",
       "0                          LC   \n",
       "1                         HNC   \n",
       "2                          LC   \n",
       "3                         SSC   \n",
       "4                         SSC   \n",
       "\n",
       "  INVASIVE LESION SIZE (RADIOLOGICAL DETERMINATION)  \n",
       "0                                           4.1-6.0  \n",
       "1                                           6.1-8.0  \n",
       "2                                           2.1-4.0  \n",
       "3                                               2.9  \n",
       "4                                           6.1-8.0  "
      ]
     },
     "execution_count": 36,
     "metadata": {},
     "output_type": "execute_result"
    }
   ],
   "source": [
    "df3.head()"
   ]
  },
  {
   "cell_type": "code",
   "execution_count": 37,
   "metadata": {},
   "outputs": [],
   "source": [
    "df8['INVASIVE LESION SIZE']=df3[\"INVASIVE LESION SIZE (RADIOLOGICAL DETERMINATION)\"]"
   ]
  },
  {
   "cell_type": "code",
   "execution_count": 38,
   "metadata": {},
   "outputs": [
    {
     "data": {
      "text/html": [
       "<div>\n",
       "<style scoped>\n",
       "    .dataframe tbody tr th:only-of-type {\n",
       "        vertical-align: middle;\n",
       "    }\n",
       "\n",
       "    .dataframe tbody tr th {\n",
       "        vertical-align: top;\n",
       "    }\n",
       "\n",
       "    .dataframe thead th {\n",
       "        text-align: right;\n",
       "    }\n",
       "</style>\n",
       "<table border=\"1\" class=\"dataframe\">\n",
       "  <thead>\n",
       "    <tr style=\"text-align: right;\">\n",
       "      <th></th>\n",
       "      <th>LOCAL_PATIENT_IDENTIFIER</th>\n",
       "      <th>PATHOLOGY INVESTIGATION TYPE</th>\n",
       "      <th>SAMPLE RECEIPT DATE</th>\n",
       "      <th>INVESTIGATION RESULT DATE</th>\n",
       "      <th>CONSULTANT CODE (PATHOLOGIST)</th>\n",
       "      <th>ORGANISATION CODE (OF REPORTING PATHOLOGY)</th>\n",
       "      <th>PRIMARY DIAGNOSIS (ICD)</th>\n",
       "      <th>TUMOUR LATERALITY</th>\n",
       "      <th>INVASIVE LESION SIZE</th>\n",
       "    </tr>\n",
       "  </thead>\n",
       "  <tbody>\n",
       "    <tr>\n",
       "      <th>0</th>\n",
       "      <td>L_CPP100</td>\n",
       "      <td>CY_Cytology</td>\n",
       "      <td>2017-02-23 13:37:09</td>\n",
       "      <td>2017-03-08 17:37:09</td>\n",
       "      <td>GMP-DR_PT2</td>\n",
       "      <td>MCCT</td>\n",
       "      <td>ICD4</td>\n",
       "      <td>L_Left</td>\n",
       "      <td>4.1-6.0</td>\n",
       "    </tr>\n",
       "    <tr>\n",
       "      <th>1</th>\n",
       "      <td>R_CPP101</td>\n",
       "      <td>BX_Biopsy</td>\n",
       "      <td>2017-02-23 01:06:57</td>\n",
       "      <td>2017-03-09 09:06:57</td>\n",
       "      <td>GMP-DR_PT1</td>\n",
       "      <td>MCCT</td>\n",
       "      <td>ICD7</td>\n",
       "      <td>L_Left</td>\n",
       "      <td>6.1-8.0</td>\n",
       "    </tr>\n",
       "    <tr>\n",
       "      <th>2</th>\n",
       "      <td>L_CPP102</td>\n",
       "      <td>BX_Biopsy</td>\n",
       "      <td>2017-03-10 17:13:24</td>\n",
       "      <td>2017-03-25 18:13:24</td>\n",
       "      <td>GMP-DR_PT1</td>\n",
       "      <td>MCCT</td>\n",
       "      <td>ICD5</td>\n",
       "      <td>L_Left</td>\n",
       "      <td>2.1-4.0</td>\n",
       "    </tr>\n",
       "    <tr>\n",
       "      <th>3</th>\n",
       "      <td>L_CPP103</td>\n",
       "      <td>CY_Cytology</td>\n",
       "      <td>2017-02-22 20:48:52</td>\n",
       "      <td>2017-03-09 22:48:52</td>\n",
       "      <td>GMP-DR_PT2</td>\n",
       "      <td>MCCT</td>\n",
       "      <td>ICD3</td>\n",
       "      <td>R_Right</td>\n",
       "      <td>2.9</td>\n",
       "    </tr>\n",
       "    <tr>\n",
       "      <th>4</th>\n",
       "      <td>L_CPP104</td>\n",
       "      <td>BX_Biopsy</td>\n",
       "      <td>2017-02-25 05:11:12</td>\n",
       "      <td>2017-03-12 10:11:12</td>\n",
       "      <td>GMP-DR_PT1</td>\n",
       "      <td>MCCT</td>\n",
       "      <td>ICD1</td>\n",
       "      <td>L_Left</td>\n",
       "      <td>6.1-8.0</td>\n",
       "    </tr>\n",
       "  </tbody>\n",
       "</table>\n",
       "</div>"
      ],
      "text/plain": [
       "  LOCAL_PATIENT_IDENTIFIER PATHOLOGY INVESTIGATION TYPE SAMPLE RECEIPT DATE  \\\n",
       "0                 L_CPP100                  CY_Cytology 2017-02-23 13:37:09   \n",
       "1                 R_CPP101                    BX_Biopsy 2017-02-23 01:06:57   \n",
       "2                 L_CPP102                    BX_Biopsy 2017-03-10 17:13:24   \n",
       "3                 L_CPP103                  CY_Cytology 2017-02-22 20:48:52   \n",
       "4                 L_CPP104                    BX_Biopsy 2017-02-25 05:11:12   \n",
       "\n",
       "  INVESTIGATION RESULT DATE CONSULTANT CODE (PATHOLOGIST)  \\\n",
       "0       2017-03-08 17:37:09                    GMP-DR_PT2   \n",
       "1       2017-03-09 09:06:57                    GMP-DR_PT1   \n",
       "2       2017-03-25 18:13:24                    GMP-DR_PT1   \n",
       "3       2017-03-09 22:48:52                    GMP-DR_PT2   \n",
       "4       2017-03-12 10:11:12                    GMP-DR_PT1   \n",
       "\n",
       "  ORGANISATION CODE (OF REPORTING PATHOLOGY) PRIMARY DIAGNOSIS (ICD)  \\\n",
       "0                                       MCCT                    ICD4   \n",
       "1                                       MCCT                    ICD7   \n",
       "2                                       MCCT                    ICD5   \n",
       "3                                       MCCT                    ICD3   \n",
       "4                                       MCCT                    ICD1   \n",
       "\n",
       "  TUMOUR LATERALITY INVASIVE LESION SIZE  \n",
       "0            L_Left              4.1-6.0  \n",
       "1            L_Left              6.1-8.0  \n",
       "2            L_Left              2.1-4.0  \n",
       "3           R_Right                  2.9  \n",
       "4            L_Left              6.1-8.0  "
      ]
     },
     "execution_count": 38,
     "metadata": {},
     "output_type": "execute_result"
    }
   ],
   "source": []
  },
  {
   "cell_type": "code",
   "execution_count": 41,
   "metadata": {},
   "outputs": [],
   "source": [
    "lst=['Y_Yes, synchronous tumours present',\n",
    "'N_No, no synchronous tumours present']"
   ]
  },
  {
   "cell_type": "code",
   "execution_count": 42,
   "metadata": {
    "collapsed": true
   },
   "outputs": [],
   "source": [
    "df8['SYNCHRONOUS TUMOUR INDICATOR']=df8.apply(lambda x:lst[random.randint(0,1)],axis=1)"
   ]
  },
  {
   "cell_type": "code",
   "execution_count": 43,
   "metadata": {
    "collapsed": true
   },
   "outputs": [],
   "source": [
    "lst=[\"T\",\"P\",\"M\"]"
   ]
  },
  {
   "cell_type": "code",
   "execution_count": 48,
   "metadata": {},
   "outputs": [
    {
     "data": {
      "text/html": [
       "<div>\n",
       "<style scoped>\n",
       "    .dataframe tbody tr th:only-of-type {\n",
       "        vertical-align: middle;\n",
       "    }\n",
       "\n",
       "    .dataframe tbody tr th {\n",
       "        vertical-align: top;\n",
       "    }\n",
       "\n",
       "    .dataframe thead th {\n",
       "        text-align: right;\n",
       "    }\n",
       "</style>\n",
       "<table border=\"1\" class=\"dataframe\">\n",
       "  <thead>\n",
       "    <tr style=\"text-align: right;\">\n",
       "      <th></th>\n",
       "      <th>LOCAL_PATIENT_IDENTIFIER</th>\n",
       "      <th>PATHOLOGY INVESTIGATION TYPE</th>\n",
       "      <th>SAMPLE RECEIPT DATE</th>\n",
       "      <th>INVESTIGATION RESULT DATE</th>\n",
       "      <th>CONSULTANT CODE (PATHOLOGIST)</th>\n",
       "      <th>ORGANISATION CODE (OF REPORTING PATHOLOGY)</th>\n",
       "      <th>PRIMARY DIAGNOSIS (ICD)</th>\n",
       "      <th>TUMOUR LATERALITY</th>\n",
       "      <th>INVASIVE LESION SIZE</th>\n",
       "      <th>SYNCHRONOUS TUMOUR INDICATOR</th>\n",
       "    </tr>\n",
       "  </thead>\n",
       "  <tbody>\n",
       "    <tr>\n",
       "      <th>0</th>\n",
       "      <td>L_CPP100</td>\n",
       "      <td>CY_Cytology</td>\n",
       "      <td>2017-02-23 13:37:09</td>\n",
       "      <td>2017-03-08 17:37:09</td>\n",
       "      <td>GMP-DR_PT2</td>\n",
       "      <td>MCCT</td>\n",
       "      <td>ICD4</td>\n",
       "      <td>L_Left</td>\n",
       "      <td>4.1-6.0</td>\n",
       "      <td>Y_Yes, synchronous tumours present</td>\n",
       "    </tr>\n",
       "    <tr>\n",
       "      <th>1</th>\n",
       "      <td>R_CPP101</td>\n",
       "      <td>BX_Biopsy</td>\n",
       "      <td>2017-02-23 01:06:57</td>\n",
       "      <td>2017-03-09 09:06:57</td>\n",
       "      <td>GMP-DR_PT1</td>\n",
       "      <td>MCCT</td>\n",
       "      <td>ICD7</td>\n",
       "      <td>L_Left</td>\n",
       "      <td>6.1-8.0</td>\n",
       "      <td>Y_Yes, synchronous tumours present</td>\n",
       "    </tr>\n",
       "    <tr>\n",
       "      <th>2</th>\n",
       "      <td>L_CPP102</td>\n",
       "      <td>BX_Biopsy</td>\n",
       "      <td>2017-03-10 17:13:24</td>\n",
       "      <td>2017-03-25 18:13:24</td>\n",
       "      <td>GMP-DR_PT1</td>\n",
       "      <td>MCCT</td>\n",
       "      <td>ICD5</td>\n",
       "      <td>L_Left</td>\n",
       "      <td>2.1-4.0</td>\n",
       "      <td>Y_Yes, synchronous tumours present</td>\n",
       "    </tr>\n",
       "    <tr>\n",
       "      <th>3</th>\n",
       "      <td>L_CPP103</td>\n",
       "      <td>CY_Cytology</td>\n",
       "      <td>2017-02-22 20:48:52</td>\n",
       "      <td>2017-03-09 22:48:52</td>\n",
       "      <td>GMP-DR_PT2</td>\n",
       "      <td>MCCT</td>\n",
       "      <td>ICD3</td>\n",
       "      <td>R_Right</td>\n",
       "      <td>2.9</td>\n",
       "      <td>Y_Yes, synchronous tumours present</td>\n",
       "    </tr>\n",
       "    <tr>\n",
       "      <th>4</th>\n",
       "      <td>L_CPP104</td>\n",
       "      <td>BX_Biopsy</td>\n",
       "      <td>2017-02-25 05:11:12</td>\n",
       "      <td>2017-03-12 10:11:12</td>\n",
       "      <td>GMP-DR_PT1</td>\n",
       "      <td>MCCT</td>\n",
       "      <td>ICD1</td>\n",
       "      <td>L_Left</td>\n",
       "      <td>6.1-8.0</td>\n",
       "      <td>N_No, no synchronous tumours present</td>\n",
       "    </tr>\n",
       "  </tbody>\n",
       "</table>\n",
       "</div>"
      ],
      "text/plain": [
       "  LOCAL_PATIENT_IDENTIFIER PATHOLOGY INVESTIGATION TYPE SAMPLE RECEIPT DATE  \\\n",
       "0                 L_CPP100                  CY_Cytology 2017-02-23 13:37:09   \n",
       "1                 R_CPP101                    BX_Biopsy 2017-02-23 01:06:57   \n",
       "2                 L_CPP102                    BX_Biopsy 2017-03-10 17:13:24   \n",
       "3                 L_CPP103                  CY_Cytology 2017-02-22 20:48:52   \n",
       "4                 L_CPP104                    BX_Biopsy 2017-02-25 05:11:12   \n",
       "\n",
       "  INVESTIGATION RESULT DATE CONSULTANT CODE (PATHOLOGIST)  \\\n",
       "0       2017-03-08 17:37:09                    GMP-DR_PT2   \n",
       "1       2017-03-09 09:06:57                    GMP-DR_PT1   \n",
       "2       2017-03-25 18:13:24                    GMP-DR_PT1   \n",
       "3       2017-03-09 22:48:52                    GMP-DR_PT2   \n",
       "4       2017-03-12 10:11:12                    GMP-DR_PT1   \n",
       "\n",
       "  ORGANISATION CODE (OF REPORTING PATHOLOGY) PRIMARY DIAGNOSIS (ICD)  \\\n",
       "0                                       MCCT                    ICD4   \n",
       "1                                       MCCT                    ICD7   \n",
       "2                                       MCCT                    ICD5   \n",
       "3                                       MCCT                    ICD3   \n",
       "4                                       MCCT                    ICD1   \n",
       "\n",
       "  TUMOUR LATERALITY INVASIVE LESION SIZE          SYNCHRONOUS TUMOUR INDICATOR  \n",
       "0            L_Left              4.1-6.0    Y_Yes, synchronous tumours present  \n",
       "1            L_Left              6.1-8.0    Y_Yes, synchronous tumours present  \n",
       "2            L_Left              2.1-4.0    Y_Yes, synchronous tumours present  \n",
       "3           R_Right                  2.9    Y_Yes, synchronous tumours present  \n",
       "4            L_Left              6.1-8.0  N_No, no synchronous tumours present  "
      ]
     },
     "execution_count": 48,
     "metadata": {},
     "output_type": "execute_result"
    }
   ],
   "source": [
    "#df8.drop(columns=[\"HISTOLOGY (SNOMED)\"],axis=1,inplace=True)\n",
    "df8.head()"
   ]
  },
  {
   "cell_type": "code",
   "execution_count": 50,
   "metadata": {},
   "outputs": [],
   "source": [
    "lst=[\"G1_Well differentiated\",\n",
    "\"G3_Poorly differentiated\",\n",
    "\"G4_Undifferentiated / anaplastic\",\n",
    "\"G2_Moderately differentiated\",\n",
    "\"GX_Grade of differentiation is not appropriate or cannot be assessed\"\n",
    "]"
   ]
  },
  {
   "cell_type": "code",
   "execution_count": 51,
   "metadata": {
    "collapsed": true
   },
   "outputs": [],
   "source": [
    "df8['GRADE OF DIFFERENTIATION']=df8.apply(lambda x:lst[random.randint(0,4)],axis=1)"
   ]
  },
  {
   "cell_type": "code",
   "execution_count": 52,
   "metadata": {
    "collapsed": true
   },
   "outputs": [],
   "source": [
    "df4['GRADE OF DIFFERENTIATION (AT DIAGNOSIS)']=df8['GRADE OF DIFFERENTIATION']"
   ]
  },
  {
   "cell_type": "code",
   "execution_count": null,
   "metadata": {},
   "outputs": [],
   "source": []
  },
  {
   "cell_type": "code",
   "execution_count": 64,
   "metadata": {
    "collapsed": true
   },
   "outputs": [],
   "source": [
    "writer = pd.ExcelWriter('cancer_data4.xlsx', engine='xlsxwriter')\n",
    "df1.to_excel(writer,sheet_name=\"DEMOGRAPHICS\",index=None)\n",
    "df2.to_excel(writer,sheet_name='REFERRAL',index=None)\n",
    "df3.to_excel(writer,sheet_name='IMAGING',index=None)\n",
    "df4.to_excel(writer,sheet_name='DIAGNOSIS',index=None)\n",
    "df5.to_excel(writer,sheet_name='CANCER CARE PLAN',index=None)\n",
    "df6.to_excel(writer,sheet_name='Staging',index=None)\n",
    "df7.to_excel(writer,sheet_name='Surgery&other procedures',index=None)\n",
    "df8.to_excel(writer,sheet_name='Pathology Details',index=None)\n",
    "writer.save()"
   ]
  },
  {
   "cell_type": "code",
   "execution_count": 55,
   "metadata": {
    "collapsed": true
   },
   "outputs": [],
   "source": [
    "lst=[\"N_No, vascular/lymphatic invasion not present\",\n",
    "\"Y_Yes, vascular/lymphatic invasion present\",\n",
    "\"U_Uncertain whether vascular invasion is present or not\"\n",
    "]"
   ]
  },
  {
   "cell_type": "code",
   "execution_count": null,
   "metadata": {
    "collapsed": true
   },
   "outputs": [],
   "source": []
  },
  {
   "cell_type": "code",
   "execution_count": 58,
   "metadata": {
    "collapsed": true
   },
   "outputs": [],
   "source": [
    "df8['CANCER VASCULAR OR LYMPHATIC INVASION']=df8.apply(lambda x:lst[random.randint(0,2)],axis=1)"
   ]
  },
  {
   "cell_type": "code",
   "execution_count": 60,
   "metadata": {},
   "outputs": [],
   "source": [
    "lst=[\"05_Tumour reaches tumour margin\",\n",
    "\"04_Tumour is less than or equal to 1mm of excision margin, but does not reach margin\",\n",
    "\"01_Excision margins are clear (distance from margin not stated)\",\n",
    "\"02_Excision margins are clear (tumour >5mm from the margin)\",\n",
    "\"06_Uncertain\",\n",
    "\"03_Excision margins are clear (tumour >1mm but less than or equal to 5mm from the margin\"\n",
    "]"
   ]
  },
  {
   "cell_type": "code",
   "execution_count": 61,
   "metadata": {
    "collapsed": true
   },
   "outputs": [],
   "source": [
    "df8['EXCISION MARGIN']=df8.apply(lambda x:lst[random.randint(0,5)],axis=1)"
   ]
  },
  {
   "cell_type": "code",
   "execution_count": 62,
   "metadata": {
    "collapsed": true
   },
   "outputs": [],
   "source": [
    "df8['NODES EXAMINED NUMBER']=df8.apply(lambda x:random.randint(3,8),axis=1)"
   ]
  },
  {
   "cell_type": "code",
   "execution_count": 63,
   "metadata": {
    "collapsed": true
   },
   "outputs": [],
   "source": [
    "df8['NODES POSITIVE NUMBER']=df8.apply(lambda x:random.randint(2,5),axis=1)"
   ]
  },
  {
   "cell_type": "code",
   "execution_count": null,
   "metadata": {
    "collapsed": true
   },
   "outputs": [],
   "source": []
  }
 ],
 "metadata": {
  "kernelspec": {
   "display_name": "Python 2",
   "language": "python",
   "name": "python2"
  },
  "language_info": {
   "codemirror_mode": {
    "name": "ipython",
    "version": 2
   },
   "file_extension": ".py",
   "mimetype": "text/x-python",
   "name": "python",
   "nbconvert_exporter": "python",
   "pygments_lexer": "ipython2",
   "version": "2.7.13"
  }
 },
 "nbformat": 4,
 "nbformat_minor": 2
}
