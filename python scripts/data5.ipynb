{
 "cells": [
  {
   "cell_type": "code",
   "execution_count": 2,
   "metadata": {
    "collapsed": true
   },
   "outputs": [],
   "source": [
    "import pandas as pd\n",
    "from pandas import DataFrame as df\n",
    "import random\n",
    "import datetime"
   ]
  },
  {
   "cell_type": "code",
   "execution_count": null,
   "metadata": {
    "collapsed": true
   },
   "outputs": [],
   "source": [
    "df1=pd.read_excel('cancer_data2.xlsx',sheet_name=\"DEMOGRAPHICS\")"
   ]
  },
  {
   "cell_type": "code",
   "execution_count": null,
   "metadata": {},
   "outputs": [],
   "source": [
    "df2=pd.read_excel('cancer_data2.xlsx',sheet_name=\"REFERRAL\")\n",
    "df2.head()"
   ]
  },
  {
   "cell_type": "code",
   "execution_count": null,
   "metadata": {
    "collapsed": true
   },
   "outputs": [],
   "source": [
    "df3=pd.read_excel(\"cancer_data2.xlsx\",sheet_name=\"IMAGING\")"
   ]
  },
  {
   "cell_type": "code",
   "execution_count": null,
   "metadata": {},
   "outputs": [],
   "source": [
    "df3.head()"
   ]
  },
  {
   "cell_type": "code",
   "execution_count": null,
   "metadata": {
    "collapsed": true
   },
   "outputs": [],
   "source": [
    "lst=['1A_Chest X-ray','2A_CT scan with contrast',\n",
    "'3A_MRI scan with contrast',\n",
    "'5C_Doppler ultrasound',\n",
    "'1_Standard radiography']*900\n",
    "lst_sam=random.sample(lst,900)"
   ]
  },
  {
   "cell_type": "code",
   "execution_count": null,
   "metadata": {
    "collapsed": true
   },
   "outputs": [],
   "source": [
    "df3['CANCER IMAGING MODALITY']=df3.apply(lambda x:lst_sam[random.randint(1,100)],axis=1)"
   ]
  },
  {
   "cell_type": "code",
   "execution_count": null,
   "metadata": {},
   "outputs": [],
   "source": [
    "df3.head()"
   ]
  },
  {
   "cell_type": "code",
   "execution_count": null,
   "metadata": {
    "collapsed": true
   },
   "outputs": [],
   "source": [
    "lst2=['BC',\n",
    "'LC',\n",
    "'HNC',\n",
    "'SSC']*900\n",
    "lst2_sam=random.sample(lst2,900)"
   ]
  },
  {
   "cell_type": "code",
   "execution_count": null,
   "metadata": {
    "collapsed": true
   },
   "outputs": [],
   "source": [
    "df3['ANATOMICAL EXAMINATION SITE']=df3.apply(lambda x: lst2_sam[random.randint(1,800)],axis=1)"
   ]
  },
  {
   "cell_type": "code",
   "execution_count": null,
   "metadata": {
    "collapsed": true
   },
   "outputs": [],
   "source": [
    "temp=pd.concat([df1[\"GENDER\"],df3],axis=1)"
   ]
  },
  {
   "cell_type": "code",
   "execution_count": null,
   "metadata": {
    "collapsed": true
   },
   "outputs": [],
   "source": [
    "#temp.head()"
   ]
  },
  {
   "cell_type": "code",
   "execution_count": null,
   "metadata": {
    "collapsed": true
   },
   "outputs": [],
   "source": [
    "lst2=['BC',\n",
    "'LC',\n",
    "'HNC',\n",
    "'BC',\n",
    "'SSC']*900\n",
    "lst12_sam=random.sample(lst2,900)"
   ]
  },
  {
   "cell_type": "code",
   "execution_count": null,
   "metadata": {
    "collapsed": true
   },
   "outputs": [],
   "source": [
    "\n",
    "def fun3(x):\n",
    "    if (str(x['GENDER'])).startswith(\"M\"):\n",
    "        return lst2_sam[random.randint(1,800)]\n",
    "    if (str(x['GENDER'])).startswith(\"F\"):\n",
    "        return lst12_sam[random.randint(0,800)]"
   ]
  },
  {
   "cell_type": "code",
   "execution_count": null,
   "metadata": {
    "collapsed": true
   },
   "outputs": [],
   "source": [
    "df3['ANATOMICAL EXAMINATION SITE']=temp.apply(fun3,axis=1)"
   ]
  },
  {
   "cell_type": "code",
   "execution_count": null,
   "metadata": {},
   "outputs": [],
   "source": [
    "df3.head()"
   ]
  },
  {
   "cell_type": "code",
   "execution_count": null,
   "metadata": {
    "collapsed": true
   },
   "outputs": [],
   "source": [
    "writer = pd.ExcelWriter('cancer_data2.xlsx', engine='xlsxwriter')\n",
    "df1.to_excel(writer,sheet_name=\"DEMOGRAPHICS\",index=None)\n",
    "df2.to_excel(writer,sheet_name='REFERRAL',index=None)\n",
    "df3.to_excel(writer,sheet_name='IMAGING',index=None)\n",
    "writer.save()"
   ]
  },
  {
   "cell_type": "code",
   "execution_count": null,
   "metadata": {
    "collapsed": true
   },
   "outputs": [],
   "source": [
    "lst=[\"2.9\",\n",
    "\"2.1-4.0\"\n",
    ",\"4.1-6.0\",\n",
    "\"6.1-8.0\",\n",
    "\"8.1-10.0\"\n",
    "]*800\n",
    "lst_sm=random.sample(lst,800)"
   ]
  },
  {
   "cell_type": "code",
   "execution_count": null,
   "metadata": {
    "collapsed": true
   },
   "outputs": [],
   "source": [
    "df3['INVASIVE LESION SIZE (RADIOLOGICAL DETERMINATION)']=df3.apply(lambda x:lst_sm[random.randint(1,500)],axis=1)"
   ]
  },
  {
   "cell_type": "code",
   "execution_count": null,
   "metadata": {},
   "outputs": [],
   "source": [
    "df3.head()"
   ]
  },
  {
   "cell_type": "code",
   "execution_count": null,
   "metadata": {
    "collapsed": true
   },
   "outputs": [],
   "source": [
    "writer = pd.ExcelWriter('cancer_data2.xlsx', engine='xlsxwriter')\n",
    "df1.to_excel(writer,sheet_name=\"DEMOGRAPHICS\",index=None)\n",
    "df2.to_excel(writer,sheet_name='REFERRAL',index=None)\n",
    "df3.to_excel(writer,sheet_name='IMAGING',index=None)\n",
    "writer.save()"
   ]
  },
  {
   "cell_type": "code",
   "execution_count": null,
   "metadata": {
    "collapsed": true
   },
   "outputs": [],
   "source": [
    "df3[\"PRIMARY DIAGNOSIS (ICD)\"]=df3.apply(lambda x:\"ICD\"+str(random.randint(1,10)),axis=1)"
   ]
  },
  {
   "cell_type": "code",
   "execution_count": null,
   "metadata": {},
   "outputs": [],
   "source": [
    "df3.head()"
   ]
  },
  {
   "cell_type": "code",
   "execution_count": null,
   "metadata": {
    "collapsed": true
   },
   "outputs": [],
   "source": [
    "lst=[\"L_Left\",\n",
    "\"L_Left\",\n",
    "\"R_Right\"\n",
    ",\"B_Bilateral\"\n",
    ",\"R_Right\"\n",
    "]*900\n",
    "lst_sm=random.sample(lst,900)"
   ]
  },
  {
   "cell_type": "code",
   "execution_count": null,
   "metadata": {
    "collapsed": true
   },
   "outputs": [],
   "source": [
    "df3['TUMOUR LATERALITY']=df3.apply(lambda x:lst_sm[random.randint(0,4)],axis=1)"
   ]
  },
  {
   "cell_type": "markdown",
   "metadata": {},
   "source": [
    "df3.head()"
   ]
  },
  {
   "cell_type": "code",
   "execution_count": null,
   "metadata": {
    "collapsed": true
   },
   "outputs": [],
   "source": [
    "df4=df3[[\"PRIMARY DIAGNOSIS (ICD)\",\"TUMOUR LATERALITY\"]]"
   ]
  },
  {
   "cell_type": "code",
   "execution_count": null,
   "metadata": {
    "collapsed": true
   },
   "outputs": [],
   "source": [
    "df3.drop(columns=[\"PRIMARY DIAGNOSIS (ICD)\",\"TUMOUR LATERALITY\"],axis=1,inplace=True)"
   ]
  },
  {
   "cell_type": "code",
   "execution_count": null,
   "metadata": {
    "collapsed": true
   },
   "outputs": [],
   "source": [
    "lst_sm=random.sample([\"6_Histology of a mestastases\",\n",
    "\"3_Specific tumour markers\",\n",
    "\"5_Cytology\",\n",
    "\"3_Specific tumour markers\"\n",
    ",\"2_Clinical Investigation\"]*900,900)"
   ]
  },
  {
   "cell_type": "code",
   "execution_count": null,
   "metadata": {},
   "outputs": [],
   "source": [
    "df4[\"BASIS OF DIAGNOSIS (CANCER)\"]=df4.apply(lambda x:lst_sm[random.randint(1,800)],axis=1)\n"
   ]
  },
  {
   "cell_type": "code",
   "execution_count": null,
   "metadata": {
    "collapsed": true
   },
   "outputs": [],
   "source": [
    "lst=[\"T\",\"P\",\"P\",\"M\"]*900\n",
    "lst_sm=random.sample(lst,900)"
   ]
  },
  {
   "cell_type": "code",
   "execution_count": null,
   "metadata": {},
   "outputs": [],
   "source": [
    "df4[\"HISTOLOGY (SNOMED)\"]=df4.apply(lambda x:lst_sm[random.randint(1,800)],axis=1)"
   ]
  },
  {
   "cell_type": "code",
   "execution_count": null,
   "metadata": {
    "collapsed": true
   },
   "outputs": [],
   "source": [
    "writer = pd.ExcelWriter('cancer_data2.xlsx', engine='xlsxwriter')\n",
    "df1.to_excel(writer,sheet_name=\"DEMOGRAPHICS\",index=None)\n",
    "df2.to_excel(writer,sheet_name='REFERRAL',index=None)\n",
    "df3.to_excel(writer,sheet_name='IMAGING',index=None)\n",
    "writer.save()"
   ]
  },
  {
   "cell_type": "code",
   "execution_count": null,
   "metadata": {
    "collapsed": true
   },
   "outputs": [],
   "source": [
    "lst=[\"G1_Well differentiated\",\n",
    "\"G1_Well differentiated\",\n",
    "\"G2_Moderately differentiated\"\n",
    ",\"G2_Moderately differentiated\"\n",
    ",\"G1_Well differentiated\"\n",
    "]*900\n",
    "lst_sm=random.sample(lst,900)"
   ]
  },
  {
   "cell_type": "code",
   "execution_count": null,
   "metadata": {},
   "outputs": [],
   "source": [
    "df4['GRADE OF DIFFERENTIATION (AT DIAGNOSIS)']=df4.apply(lambda x:lst_sm[random.randint(1,800)],axis=1)"
   ]
  },
  {
   "cell_type": "code",
   "execution_count": null,
   "metadata": {
    "collapsed": true
   },
   "outputs": [],
   "source": [
    "writer = pd.ExcelWriter('cancer_data2.xlsx', engine='xlsxwriter')\n",
    "df1.to_excel(writer,sheet_name=\"DEMOGRAPHICS\",index=None)\n",
    "df2.to_excel(writer,sheet_name='REFERRAL',index=None)\n",
    "df3.to_excel(writer,sheet_name='IMAGING',index=None)\n",
    "df4.to_excel(writer,sheet_name='DIAGNOSIS',index=None)\n",
    "writer.save()"
   ]
  },
  {
   "cell_type": "code",
   "execution_count": null,
   "metadata": {
    "collapsed": true
   },
   "outputs": [],
   "source": []
  },
  {
   "cell_type": "code",
   "execution_count": null,
   "metadata": {
    "collapsed": true
   },
   "outputs": [],
   "source": [
    "df4new=pd.concat([df3['LOCAL_PATIENT_IDENTIFIER'],df4],axis=1)"
   ]
  },
  {
   "cell_type": "code",
   "execution_count": null,
   "metadata": {},
   "outputs": [],
   "source": [
    "cols=df4new.columns.tolist()\n",
    "\n",
    "cols"
   ]
  },
  {
   "cell_type": "code",
   "execution_count": null,
   "metadata": {
    "collapsed": true
   },
   "outputs": [],
   "source": [
    "lst=[\"Patient cancellation\",\n",
    "\"Patient Choice\",\"Did Not Attend\",\n",
    "\"Suspension - medical reasons\"\n",
    ",\"Suspension - patient reasons\"\n",
    "]*900\n",
    "lst_sm=random.sample(lst,900)"
   ]
  },
  {
   "cell_type": "code",
   "execution_count": null,
   "metadata": {
    "collapsed": true
   },
   "outputs": [],
   "source": [
    "tempr=pd.concat([df2,df2.apply(lambda x:lst_sm[random.randint(0,800)],axis=1)],axis=1)"
   ]
  },
  {
   "cell_type": "code",
   "execution_count": null,
   "metadata": {},
   "outputs": [],
   "source": [
    "df2=tempr\n",
    "df2.head()"
   ]
  },
  {
   "cell_type": "code",
   "execution_count": null,
   "metadata": {
    "collapsed": true
   },
   "outputs": [],
   "source": []
  },
  {
   "cell_type": "code",
   "execution_count": null,
   "metadata": {
    "collapsed": true
   },
   "outputs": [],
   "source": [
    "tempr.rename(columns={0:\"WAITING TIME ADJUSTMENT REASON (FIRST SEEN)\"},inplace=True)"
   ]
  },
  {
   "cell_type": "code",
   "execution_count": null,
   "metadata": {},
   "outputs": [],
   "source": [
    "df2.head()"
   ]
  },
  {
   "cell_type": "code",
   "execution_count": null,
   "metadata": {},
   "outputs": [],
   "source": [
    "temp2=pd.concat([df2[['REFERRAL_DESION_DATE',\"LOCAL_PATIENT_IDENTIFIER\"]],df4],axis=1)\n",
    "temp2.head()"
   ]
  },
  {
   "cell_type": "code",
   "execution_count": null,
   "metadata": {
    "collapsed": true
   },
   "outputs": [],
   "source": [
    "def fun5(x):\n",
    "    return x['REFERRAL_DESION_DATE']-datetime.timedelta(days=random.randint(3,4),hours=random.randint(1,9))"
   ]
  },
  {
   "cell_type": "code",
   "execution_count": null,
   "metadata": {
    "collapsed": true
   },
   "outputs": [],
   "source": [
    "df4[\"DIAGNOSIS DATE (CANCER)\"]=temp2.apply(fun5,axis=1)"
   ]
  },
  {
   "cell_type": "markdown",
   "metadata": {},
   "source": [
    "#### "
   ]
  },
  {
   "cell_type": "code",
   "execution_count": null,
   "metadata": {
    "collapsed": true
   },
   "outputs": [],
   "source": [
    "df4[\"LOCAL_PATIENT_IDENTIFIER\"]=df2[\"LOCAL_PATIENT_IDENTIFIER\"]"
   ]
  },
  {
   "cell_type": "code",
   "execution_count": null,
   "metadata": {},
   "outputs": [],
   "source": [
    "df4.columns.tolist()"
   ]
  },
  {
   "cell_type": "code",
   "execution_count": null,
   "metadata": {
    "collapsed": true
   },
   "outputs": [],
   "source": [
    "lst=df4.columns.tolist()"
   ]
  },
  {
   "cell_type": "code",
   "execution_count": null,
   "metadata": {},
   "outputs": [],
   "source": [
    "lst.insert(0,\"LOCAL_PATIENT_IDENTIFIER\")\n",
    "lst.insert(1,'DIAGNOSIS DATE (CANCER)')\n",
    "lst"
   ]
  },
  {
   "cell_type": "code",
   "execution_count": null,
   "metadata": {},
   "outputs": [],
   "source": [
    "lst.pop(2)"
   ]
  },
  {
   "cell_type": "code",
   "execution_count": null,
   "metadata": {},
   "outputs": [],
   "source": [
    "lst.pop(2)"
   ]
  },
  {
   "cell_type": "code",
   "execution_count": null,
   "metadata": {},
   "outputs": [],
   "source": [
    "\n",
    "lst.pop(2)\n"
   ]
  },
  {
   "cell_type": "code",
   "execution_count": null,
   "metadata": {},
   "outputs": [],
   "source": [
    "lst"
   ]
  },
  {
   "cell_type": "markdown",
   "metadata": {},
   "source": [
    "#### "
   ]
  },
  {
   "cell_type": "code",
   "execution_count": null,
   "metadata": {
    "collapsed": true
   },
   "outputs": [],
   "source": [
    "df4=df4[lst]"
   ]
  },
  {
   "cell_type": "code",
   "execution_count": null,
   "metadata": {
    "collapsed": true
   },
   "outputs": [],
   "source": [
    "df4=df4.T.drop_duplicates().T"
   ]
  },
  {
   "cell_type": "code",
   "execution_count": null,
   "metadata": {},
   "outputs": [],
   "source": [
    "df4"
   ]
  },
  {
   "cell_type": "code",
   "execution_count": null,
   "metadata": {
    "collapsed": true
   },
   "outputs": [],
   "source": [
    "writer = pd.ExcelWriter('cancer_data3.xlsx', engine='xlsxwriter')\n",
    "df1.to_excel(writer,sheet_name=\"DEMOGRAPHICS\",index=None)\n",
    "df2.to_excel(writer,sheet_name='REFERRAL',index=None)\n",
    "df3.to_excel(writer,sheet_name='IMAGING',index=None)\n",
    "df4.to_excel(writer,sheet_name='DIAGNOSIS',index=None)\n",
    "writer.save()"
   ]
  },
  {
   "cell_type": "code",
   "execution_count": null,
   "metadata": {
    "collapsed": true
   },
   "outputs": [],
   "source": []
  },
  {
   "cell_type": "code",
   "execution_count": null,
   "metadata": {
    "collapsed": true
   },
   "outputs": [],
   "source": [
    "df5=pd.concat([df2[\"LOCAL_PATIENT_IDENTIFIER\"]],axis=1)"
   ]
  },
  {
   "cell_type": "code",
   "execution_count": null,
   "metadata": {
    "collapsed": true
   },
   "outputs": [],
   "source": [
    "lst=[\"Y_a MULTIDISCIPLINARY TEAM DISCUSSION DATE recorded\",\n",
    "\"Y_a MULTIDISCIPLINARY TEAM DISCUSSION DATE recorded\",\n",
    "\"N_a MULTIDISCIPLINARY TEAM DISCUSSION DATE not recorded\"\n",
    ",\"Y_a MULTIDISCIPLINARY TEAM DISCUSSION DATE recorded\"\n",
    ",\"N_a MULTIDISCIPLINARY TEAM DISCUSSION DATE not recorded\"\n",
    "]*900\n",
    "lst_sm=random.sample(lst,900)"
   ]
  },
  {
   "cell_type": "code",
   "execution_count": null,
   "metadata": {
    "collapsed": true
   },
   "outputs": [],
   "source": [
    "df5[\"MDT DISCUSSION INDICATOR\"]=df5.apply(lambda x:lst_sm[random.randint(1,800)],axis=1)"
   ]
  },
  {
   "cell_type": "code",
   "execution_count": null,
   "metadata": {},
   "outputs": [],
   "source": [
    "df5.head()"
   ]
  },
  {
   "cell_type": "code",
   "execution_count": null,
   "metadata": {
    "collapsed": true
   },
   "outputs": [],
   "source": [
    "temp3=df(pd.concat([df2[\"DATE_FIRST_SEEN\"]]))"
   ]
  },
  {
   "cell_type": "code",
   "execution_count": null,
   "metadata": {},
   "outputs": [],
   "source": [
    "type(temp3)"
   ]
  },
  {
   "cell_type": "code",
   "execution_count": null,
   "metadata": {
    "collapsed": true
   },
   "outputs": [],
   "source": []
  },
  {
   "cell_type": "code",
   "execution_count": null,
   "metadata": {
    "collapsed": true
   },
   "outputs": [],
   "source": [
    "df5['MULTIDISCIPLINARY TEAM DISCUSSION DATE']=temp3.apply(lambda x:x[\"DATE_FIRST_SEEN\"]+datetime.timedelta(days=random.randint(10,14),hours=random.randint(1,7)),axis=1)"
   ]
  },
  {
   "cell_type": "markdown",
   "metadata": {},
   "source": [
    "##### "
   ]
  },
  {
   "cell_type": "code",
   "execution_count": null,
   "metadata": {
    "collapsed": true
   },
   "outputs": [],
   "source": [
    "df5[\"CARE PLAN AGREED DATE\"]=df5.apply(lambda x:x[\"MULTIDISCIPLINARY TEAM DISCUSSION DATE\"]+datetime.timedelta(days=random.randint(7,15),hours=random.randint(1,7)),axis=1)"
   ]
  },
  {
   "cell_type": "code",
   "execution_count": null,
   "metadata": {
    "collapsed": true
   },
   "outputs": [],
   "source": [
    "lst=[\"N_No, for the original primary tumour\",\n",
    "\"Y_Yes, for a recurrence of the original primary tumour\",\n",
    "\"N_No, for the original primary tumour\",\n",
    "\"Y_Yes, for a recurrence of the original primary tumour\",\n",
    "\"N_No, for the original primary tumour\"\n",
    "]*900\n",
    "lst_sm=random.sample(lst,900)"
   ]
  },
  {
   "cell_type": "code",
   "execution_count": null,
   "metadata": {
    "collapsed": true
   },
   "outputs": [],
   "source": [
    "df5[\"RECURRENCE INDICATOR\"]=df5.apply(lambda x:lst_sm[random.randint(1,800)],axis=1)"
   ]
  },
  {
   "cell_type": "code",
   "execution_count": null,
   "metadata": {},
   "outputs": [],
   "source": [
    "df5.head()"
   ]
  },
  {
   "cell_type": "code",
   "execution_count": null,
   "metadata": {
    "collapsed": true
   },
   "outputs": [],
   "source": [
    "writer = pd.ExcelWriter('cancer_data3.xlsx', engine='xlsxwriter')\n",
    "df1.to_excel(writer,sheet_name=\"DEMOGRAPHICS\",index=None)\n",
    "df2.to_excel(writer,sheet_name='REFERRAL',index=None)\n",
    "df3.to_excel(writer,sheet_name='IMAGING',index=None)\n",
    "df4.to_excel(writer,sheet_name='DIAGNOSIS',index=None)\n",
    "df5.to_excel(writer,sheet_name='CANCER CARE PLAN',index=None)\n",
    "writer.save()"
   ]
  },
  {
   "cell_type": "code",
   "execution_count": null,
   "metadata": {
    "collapsed": true
   },
   "outputs": [],
   "source": []
  },
  {
   "cell_type": "code",
   "execution_count": null,
   "metadata": {
    "collapsed": true
   },
   "outputs": [],
   "source": [
    "lst=[\"C_Curative\",\n",
    "\"S_Supportive\",\n",
    "\"C_Curative\",\n",
    "\"P_Palliative anti-cancer\",\n",
    "\"P_Palliative anti-cancer\",\n",
    "\"N_No specific cancer treatment\"\n",
    "]*100\n",
    "lst_sm=random.sample(lst,100)"
   ]
  },
  {
   "cell_type": "code",
   "execution_count": null,
   "metadata": {
    "collapsed": true
   },
   "outputs": [],
   "source": [
    "\n",
    "df5['CANCER CARE PLAN INTENT']=df5.apply(lambda x:lst_sm[random.randint(1,99)],axis=1)"
   ]
  },
  {
   "cell_type": "code",
   "execution_count": null,
   "metadata": {},
   "outputs": [],
   "source": [
    "df5.head()"
   ]
  },
  {
   "cell_type": "code",
   "execution_count": null,
   "metadata": {
    "collapsed": true
   },
   "outputs": [],
   "source": [
    "lst=[\"1_Surgery\",\n",
    "\"2_Teletherapy\",\n",
    "\"3_Chemotherapy\",\n",
    "\"4_Hormone therapy\",\n",
    "\"5_Specialist palliative care\",\n",
    "\"6_Brachytherapy\"\n",
    ",\"7_Biological\"\n",
    ",\"8_Other\"\n",
    "]*100\n",
    "lst_sm=random.sample(lst,100)"
   ]
  },
  {
   "cell_type": "code",
   "execution_count": null,
   "metadata": {
    "collapsed": true
   },
   "outputs": [],
   "source": [
    "df5['PLANNED CANCER TREATMENT TYPE']=df5.apply(lambda x:lst_sm[random.randint(0,99)],axis=1)"
   ]
  },
  {
   "cell_type": "code",
   "execution_count": null,
   "metadata": {},
   "outputs": [],
   "source": [
    "df5.head()"
   ]
  },
  {
   "cell_type": "code",
   "execution_count": null,
   "metadata": {
    "collapsed": true
   },
   "outputs": [],
   "source": [
    "writer = pd.ExcelWriter('cancer_data3.xlsx', engine='xlsxwriter')\n",
    "df1.to_excel(writer,sheet_name=\"DEMOGRAPHICS\",index=None)\n",
    "df2.to_excel(writer,sheet_name='REFERRAL',index=None)\n",
    "df3.to_excel(writer,sheet_name='IMAGING',index=None)\n",
    "df4.to_excel(writer,sheet_name='DIAGNOSIS',index=None)\n",
    "df5.to_excel(writer,sheet_name='CANCER CARE PLAN',index=None)\n",
    "writer.save()"
   ]
  },
  {
   "cell_type": "code",
   "execution_count": null,
   "metadata": {
    "collapsed": true
   },
   "outputs": [],
   "source": []
  },
  {
   "cell_type": "code",
   "execution_count": null,
   "metadata": {
    "collapsed": true
   },
   "outputs": [],
   "source": []
  },
  {
   "cell_type": "code",
   "execution_count": null,
   "metadata": {
    "collapsed": true
   },
   "outputs": [],
   "source": [
    "lst=[\"1,2,4\",\n",
    "\"2,4,1\",\n",
    "\"4,2,3\"\n",
    ",\"1,3,2\",\n",
    "\"5,4,3\"]\n",
    "df5[\"TREATMENT TYPE SEQUENCE\"]=df5.apply(lambda x:lst[random.randint(0,4)],axis=1)"
   ]
  },
  {
   "cell_type": "code",
   "execution_count": null,
   "metadata": {
    "collapsed": true
   },
   "outputs": [],
   "source": [
    "df2[\"WAITING_TIME_ADJUSTMENT(FIRST_SEEN)\"]=df2[\"DATE_FIRST_SEEN\"]-df2['REFERRAL_REQUEST_RECEIVED_DATE_DF']\n"
   ]
  },
  {
   "cell_type": "markdown",
   "metadata": {},
   "source": [
    "## "
   ]
  },
  {
   "cell_type": "code",
   "execution_count": null,
   "metadata": {
    "collapsed": true
   },
   "outputs": [],
   "source": [
    "df2[\"WAITING_TIME_ADJUSTMENT(FIRST_SEEN)_str\"]=df2[\"WAITING_TIME_ADJUSTMENT(FIRST_SEEN)\"]"
   ]
  },
  {
   "cell_type": "code",
   "execution_count": null,
   "metadata": {
    "collapsed": true
   },
   "outputs": [],
   "source": [
    "df2.drop(columns=['WAITING_TIME_ADJUSTMENT(FIRST_SEEN)'],axis=1,inplace=True)"
   ]
  },
  {
   "cell_type": "code",
   "execution_count": null,
   "metadata": {
    "collapsed": true
   },
   "outputs": [],
   "source": [
    "writer = pd.ExcelWriter('cancer_data3.xlsx', engine='xlsxwriter')\n",
    "df1.to_excel(writer,sheet_name=\"DEMOGRAPHICS\",index=None)\n",
    "df2.to_excel(writer,sheet_name='REFERRAL',index=None)\n",
    "df3.to_excel(writer,sheet_name='IMAGING',index=None)\n",
    "df4.to_excel(writer,sheet_name='DIAGNOSIS',index=None)\n",
    "df5.to_excel(writer,sheet_name='CANCER CARE PLAN',index=None)\n",
    "writer.save()"
   ]
  },
  {
   "cell_type": "code",
   "execution_count": null,
   "metadata": {},
   "outputs": [],
   "source": [
    "df2.head()"
   ]
  },
  {
   "cell_type": "code",
   "execution_count": null,
   "metadata": {
    "collapsed": true
   },
   "outputs": [],
   "source": []
  },
  {
   "cell_type": "code",
   "execution_count": null,
   "metadata": {
    "collapsed": true
   },
   "outputs": [],
   "source": [
    "lst=[\"Patient cancellation\",\n",
    "\"Patient Choice\",\n",
    "\"Did Not Attend\",\n",
    "\"Suspension - medical reasons\",\n",
    "\"Suspension - patient reasons\"\n",
    "]"
   ]
  },
  {
   "cell_type": "code",
   "execution_count": null,
   "metadata": {
    "collapsed": true
   },
   "outputs": [],
   "source": [
    "df2[\"WAITING TIME ADJUSTMENT REASON (FIRST SEEN)\"]=df2.apply(lambda x:lst[random.randint(0,4)],axis=1)"
   ]
  },
  {
   "cell_type": "code",
   "execution_count": null,
   "metadata": {},
   "outputs": [],
   "source": [
    "df2.head()"
   ]
  },
  {
   "cell_type": "code",
   "execution_count": null,
   "metadata": {
    "collapsed": true
   },
   "outputs": [],
   "source": [
    "def fun7(x):\n",
    "    if str(x['WAITING TIME ADJUSTMENT REASON (FIRST SEEN)']).startswith(\"Su\"):\n",
    "        return x['REFERRAL_REQUEST_RECEIVED_DATE_DF']-x['REFERRAL_DESION_DATE']+x[\"WAITING_TIME_ADJUSTMENT(FIRST_SEEN)_str\"]\n",
    "    else:\n",
    "        return x[\"WAITING_TIME_ADJUSTMENT(FIRST_SEEN)_str\"]"
   ]
  },
  {
   "cell_type": "code",
   "execution_count": null,
   "metadata": {
    "collapsed": true
   },
   "outputs": [],
   "source": [
    "df2[\"WAITING_TIME_ADJUSTMENT(FIRST_SEEN)\"]=df2.apply(fun7,axis=1)"
   ]
  },
  {
   "cell_type": "code",
   "execution_count": null,
   "metadata": {},
   "outputs": [],
   "source": [
    "df2.head()"
   ]
  },
  {
   "cell_type": "code",
   "execution_count": null,
   "metadata": {
    "collapsed": true
   },
   "outputs": [],
   "source": [
    "df2.drop(columns=[\"WAITING_TIME_ADJUSTMENT(FIRST_SEEN)_str\"],axis=1,inplace=True)"
   ]
  },
  {
   "cell_type": "code",
   "execution_count": null,
   "metadata": {},
   "outputs": [],
   "source": [
    "df2.columns.tolist()"
   ]
  },
  {
   "cell_type": "code",
   "execution_count": null,
   "metadata": {
    "collapsed": true
   },
   "outputs": [],
   "source": [
    "lst1=[u'LOCAL_PATIENT_IDENTIFIER',\n",
    " u'SOURCE_OF_REFERRAL_FOR_CANCER',\n",
    " u'REFERRING_ORGANIZATION_CODE',\n",
    " u'REFERRER_CODE',\n",
    " u'CANCER_REFERRAL_PRIORITY_TYPES',\n",
    " u'REFERRAL_DESION_DATE',\n",
    " u'REFERRAL_REQUEST_RECEIVED_DATE_DF',\n",
    " u'CONSULTANT_CODE',\n",
    " u'MAIN_SPECIALITY_CODE',\n",
    " u'DATE_FIRST_SEEN',\n",
    " u'DELAY_REASON_REFERRAL_TO_FIRST_SEEN_(CANCER)',\n",
    " u'URGENT CANCER REFERRAL TYPE',\n",
    " u'CANCER STATUS',\n",
    "'WAITING_TIME_ADJUSTMENT(FIRST_SEEN)',\n",
    " 'WAITING TIME ADJUSTMENT REASON (FIRST SEEN)']"
   ]
  },
  {
   "cell_type": "code",
   "execution_count": null,
   "metadata": {
    "collapsed": true
   },
   "outputs": [],
   "source": [
    "df2=df2[lst1]"
   ]
  },
  {
   "cell_type": "code",
   "execution_count": null,
   "metadata": {},
   "outputs": [],
   "source": [
    "df2.head()"
   ]
  },
  {
   "cell_type": "code",
   "execution_count": null,
   "metadata": {
    "collapsed": true
   },
   "outputs": [],
   "source": [
    "df2['WAITING_TIME_ADJUSTMENT(FIRST_SEEN)_strg']=df2['WAITING_TIME_ADJUSTMENT(FIRST_SEEN)'].apply(lambda x:str(x) )"
   ]
  },
  {
   "cell_type": "code",
   "execution_count": null,
   "metadata": {
    "collapsed": true
   },
   "outputs": [],
   "source": [
    "writer = pd.ExcelWriter('cancer_data3.xlsx', engine='xlsxwriter')\n",
    "df1.to_excel(writer,sheet_name=\"DEMOGRAPHICS\",index=None)\n",
    "df2.to_excel(writer,sheet_name='REFERRAL',index=None)\n",
    "df3.to_excel(writer,sheet_name='IMAGING',index=None)\n",
    "df4.to_excel(writer,sheet_name='DIAGNOSIS',index=None)\n",
    "df5.to_excel(writer,sheet_name='CANCER CARE PLAN',index=None)\n",
    "writer.save()"
   ]
  },
  {
   "cell_type": "code",
   "execution_count": null,
   "metadata": {
    "collapsed": true
   },
   "outputs": [],
   "source": []
  },
  {
   "cell_type": "code",
   "execution_count": null,
   "metadata": {
    "collapsed": true
   },
   "outputs": [],
   "source": [
    "df2.drop(columns=['WAITING_TIME_ADJUSTMENT(FIRST_SEEN)'],inplace=True)"
   ]
  },
  {
   "cell_type": "code",
   "execution_count": null,
   "metadata": {},
   "outputs": [],
   "source": [
    "df2.columns.tolist()"
   ]
  },
  {
   "cell_type": "code",
   "execution_count": null,
   "metadata": {
    "collapsed": true
   },
   "outputs": [],
   "source": [
    "lst12=[u'LOCAL_PATIENT_IDENTIFIER',\n",
    " u'SOURCE_OF_REFERRAL_FOR_CANCER',\n",
    " u'REFERRING_ORGANIZATION_CODE',\n",
    " u'REFERRER_CODE',\n",
    " u'CANCER_REFERRAL_PRIORITY_TYPES',\n",
    " u'REFERRAL_DESION_DATE',\n",
    " u'REFERRAL_REQUEST_RECEIVED_DATE_DF',\n",
    " u'CONSULTANT_CODE',\n",
    " u'MAIN_SPECIALITY_CODE',\n",
    " u'DATE_FIRST_SEEN',\n",
    " u'DELAY_REASON_REFERRAL_TO_FIRST_SEEN_(CANCER)',\n",
    " u'URGENT CANCER REFERRAL TYPE',\n",
    " u'CANCER STATUS',\n",
    "'WAITING_TIME_ADJUSTMENT(FIRST_SEEN)_strg',\n",
    " u'WAITING TIME ADJUSTMENT REASON (FIRST SEEN)',\n",
    " ]"
   ]
  },
  {
   "cell_type": "code",
   "execution_count": null,
   "metadata": {
    "collapsed": true
   },
   "outputs": [],
   "source": [
    "df2=df2[lst12]"
   ]
  },
  {
   "cell_type": "code",
   "execution_count": null,
   "metadata": {},
   "outputs": [],
   "source": [
    "df2.head()"
   ]
  },
  {
   "cell_type": "code",
   "execution_count": null,
   "metadata": {},
   "outputs": [],
   "source": [
    "df5.head()"
   ]
  },
  {
   "cell_type": "code",
   "execution_count": null,
   "metadata": {
    "collapsed": true
   },
   "outputs": [],
   "source": [
    "lst=[\"01_Patient declined treatment\",\n",
    "\"02_Unfit: poor performance status\",\n",
    "\"03_Unfit: significant co-morbidity\",\n",
    "\"04_Unfit: advanced stage cancer\",\n",
    "\"05_Unknown primary site\",\n",
    "\"06_Died before treatment\",\n",
    "\"07_No anti-cancer treatment available\",\n",
    "\"08_Other\",\n",
    "\"09_Watchful waiting\"\n",
    "]"
   ]
  },
  {
   "cell_type": "code",
   "execution_count": null,
   "metadata": {
    "collapsed": true
   },
   "outputs": [],
   "source": [
    "lst_1=[\"1_Able to carry out all normal activity\",\n",
    "\"2_Restricted in physically strenuous activity\",\n",
    "\"3_Able to walk and capable of all self care\",'4_Capable of only limited self care',\n",
    "\"5_Completely disabled\"]"
   ]
  },
  {
   "cell_type": "code",
   "execution_count": null,
   "metadata": {
    "collapsed": true
   },
   "outputs": [],
   "source": [
    "df5['PERFORMANCE STATUS (ADULT)']=df5.apply(lambda x:lst_1[random.randint(0,4)],axis=1)"
   ]
  },
  {
   "cell_type": "code",
   "execution_count": null,
   "metadata": {},
   "outputs": [],
   "source": [
    "df5.head()"
   ]
  },
  {
   "cell_type": "code",
   "execution_count": null,
   "metadata": {},
   "outputs": [],
   "source": [
    "lst=[\"01_Patient declined treatment\",\n",
    "\"02_Unfit: poor performance status\",\n",
    "\"03_Unfit: significant co-morbidity\",\n",
    "\"04_Unfit: advanced stage cancer\",\n",
    "\"05_Unknown primary site\",\n",
    "\"06_Died before treatment\",\n",
    "\"07_No anti-cancer treatment available\",\n",
    "\"08_Other\",\n",
    "\"06_Died before treatment\",\n",
    "\"09_Watchful waiting\"\n",
    "]\n",
    "len(lst)"
   ]
  },
  {
   "cell_type": "code",
   "execution_count": null,
   "metadata": {
    "collapsed": true
   },
   "outputs": [],
   "source": [
    "df5['NO CANCER TREATMENT REASON']=df5.apply(lambda x:lst[random.randint(0,9)],axis=1)"
   ]
  },
  {
   "cell_type": "code",
   "execution_count": null,
   "metadata": {},
   "outputs": [],
   "source": [
    "df5.head()"
   ]
  },
  {
   "cell_type": "code",
   "execution_count": null,
   "metadata": {
    "collapsed": true
   },
   "outputs": [],
   "source": [
    "df6=pd.DataFrame(df2['LOCAL_PATIENT_IDENTIFIER'])"
   ]
  },
  {
   "cell_type": "code",
   "execution_count": null,
   "metadata": {
    "collapsed": true
   },
   "outputs": [],
   "source": [
    "writer = pd.ExcelWriter('cancer_data3.xlsx', engine='xlsxwriter')\n",
    "df1.to_excel(writer,sheet_name=\"DEMOGRAPHICS\",index=None)\n",
    "df2.to_excel(writer,sheet_name='REFERRAL',index=None)\n",
    "df3.to_excel(writer,sheet_name='IMAGING',index=None)\n",
    "df4.to_excel(writer,sheet_name='DIAGNOSIS',index=None)\n",
    "df5.to_excel(writer,sheet_name='CANCER CARE PLAN',index=None)\n",
    "df6.to_excel(writer,sheet_name='STAGING',index=None)\n",
    "writer.save()"
   ]
  },
  {
   "cell_type": "code",
   "execution_count": null,
   "metadata": {
    "collapsed": true
   },
   "outputs": [],
   "source": [
    "df7=pd.concat([df2['LOCAL_PATIENT_IDENTIFIER']],axis=1)"
   ]
  },
  {
   "cell_type": "code",
   "execution_count": null,
   "metadata": {},
   "outputs": [],
   "source": [
    "df7.head()"
   ]
  },
  {
   "cell_type": "code",
   "execution_count": null,
   "metadata": {
    "collapsed": true
   },
   "outputs": [],
   "source": [
    "df7[\"SITE CODE (OF SURGERY)\"]=df7[\"LOCAL_PATIENT_IDENTIFIER\"].apply(lambda x:x.replace(\"C\",\"S\")+\" MCC\")"
   ]
  },
  {
   "cell_type": "code",
   "execution_count": null,
   "metadata": {
    "collapsed": true
   },
   "outputs": [],
   "source": [
    "df7[\"CONSULTANT_CODE\"]=df2[\"CONSULTANT_CODE\"]"
   ]
  },
  {
   "cell_type": "code",
   "execution_count": null,
   "metadata": {
    "collapsed": true
   },
   "outputs": [],
   "source": [
    "df7['MAIN_SPECIALITY_CODE']=df2['MAIN_SPECIALITY_CODE']"
   ]
  },
  {
   "cell_type": "code",
   "execution_count": null,
   "metadata": {
    "collapsed": true
   },
   "outputs": [],
   "source": [
    "lst=[\"A_Adjuvent\",\n",
    "\"C_Curative\",\n",
    "\"D_Diagnostic\",\n",
    "\"N_Neoadjuvent\",\n",
    "\"S_Staging\",\n",
    "\"P_Palliative\"]"
   ]
  },
  {
   "cell_type": "code",
   "execution_count": null,
   "metadata": {
    "collapsed": true
   },
   "outputs": [],
   "source": [
    "df7['CANCER TREATMENT INTENT']=df7.apply(lambda x:lst[random.randint(0,5)],axis=1)"
   ]
  },
  {
   "cell_type": "code",
   "execution_count": null,
   "metadata": {
    "collapsed": true
   },
   "outputs": [],
   "source": [
    "df7[\"DECISION TO TREAT DATE (SURGERY)\"]=df5['CARE PLAN AGREED DATE']"
   ]
  },
  {
   "cell_type": "code",
   "execution_count": null,
   "metadata": {
    "collapsed": true
   },
   "outputs": [],
   "source": [
    "df7[\"START DATE (SURGERY HOSPITAL PROVIDER SPELL)\"]=df2[\"REFERRAL_REQUEST_RECEIVED_DATE_DF\"]"
   ]
  },
  {
   "cell_type": "code",
   "execution_count": null,
   "metadata": {
    "collapsed": true
   },
   "outputs": [],
   "source": []
  },
  {
   "cell_type": "code",
   "execution_count": null,
   "metadata": {
    "collapsed": true
   },
   "outputs": [],
   "source": [
    "df7[\"PROCEDURE DATE\"]=df3[\"CLINICAL_INTERVENTION_DATES(CANCER_IMAGING)\"]"
   ]
  },
  {
   "cell_type": "code",
   "execution_count": null,
   "metadata": {
    "collapsed": true
   },
   "outputs": [],
   "source": [
    "lst=[\"a_Primary\",\n",
    "\"b_First secondary\",\n",
    "\"c_Second secondary\",\n",
    "\"d_Third secondary\",\n",
    "\"e_Other\"\n",
    "]"
   ]
  },
  {
   "cell_type": "code",
   "execution_count": null,
   "metadata": {
    "collapsed": true
   },
   "outputs": [],
   "source": [
    "df7['PRIMARY PROCEDURE (OPCS)']=df7.apply(lambda x:lst[random.randint(0,4)],axis=1)"
   ]
  },
  {
   "cell_type": "code",
   "execution_count": null,
   "metadata": {
    "collapsed": true
   },
   "outputs": [],
   "source": [
    "df7['DISCHARGE DATE (HOSPITAL PROVIDER SPELL)']=df2.DATE_FIRST_SEEN.apply(lambda x:x+datetime.timedelta(days=random.randint(210,240)))"
   ]
  },
  {
   "cell_type": "code",
   "execution_count": null,
   "metadata": {},
   "outputs": [],
   "source": [
    "lst=[\"30_Court\",\n",
    "\"29_Temporary place of residence\",\n",
    "\"54_care home\",\n",
    "\"19_Usual place of residence\",\n",
    "\"38_Penal establishment or police station\",\n",
    "\"48_High Security Psychiatric Hospital\",\n",
    "\"49_high security psychiatric accommodation\",\n",
    "\"50_medium secure unit\",\n",
    "\"51_ward for general patients\",\n",
    "\"65_Local Authority residential accommodation ie where care is provided\",\n",
    "\"66_Local Authority foster care\",\n",
    "\"79_Not applicable - patient died or still birth\",\n",
    "\"84_medium secure unit\"\n",
    "]\n",
    "len(lst)"
   ]
  },
  {
   "cell_type": "code",
   "execution_count": null,
   "metadata": {
    "collapsed": true
   },
   "outputs": [],
   "source": [
    "df7[\"DISCHARGE DESTINATION (HOSPITAL PROVIDER SPELL)\"]=df7.apply(lambda x:lst[random.randint(0,12)],axis=1)"
   ]
  },
  {
   "cell_type": "code",
   "execution_count": null,
   "metadata": {},
   "outputs": [],
   "source": [
    "df7.head()"
   ]
  },
  {
   "cell_type": "code",
   "execution_count": null,
   "metadata": {
    "collapsed": true
   },
   "outputs": [],
   "source": [
    "df8=pd.concat([df2['LOCAL_PATIENT_IDENTIFIER']],axis=1)"
   ]
  },
  {
   "cell_type": "code",
   "execution_count": null,
   "metadata": {},
   "outputs": [],
   "source": [
    "lst=\"BX_Biopsy EX_Excision 9_Uncertain/other CY_Cytology BX_Biopsy CY_Cytology\".split()\n",
    "len(lst)"
   ]
  },
  {
   "cell_type": "code",
   "execution_count": null,
   "metadata": {
    "collapsed": true
   },
   "outputs": [],
   "source": [
    "df8['PATHOLOGY INVESTIGATION TYPE']=df8.apply(lambda x:lst[random.randint(0,5)],axis=1)"
   ]
  },
  {
   "cell_type": "code",
   "execution_count": null,
   "metadata": {
    "collapsed": true
   },
   "outputs": [],
   "source": [
    "df8['SAMPLE RECEIPT DATE']=df5['CARE PLAN AGREED DATE']+datetime.timedelta(days=1,hours=random.randint(1,11))"
   ]
  },
  {
   "cell_type": "code",
   "execution_count": null,
   "metadata": {
    "collapsed": true
   },
   "outputs": [],
   "source": [
    "writer = pd.ExcelWriter('cancer_data3.xlsx', engine='xlsxwriter')\n",
    "df1.to_excel(writer,sheet_name=\"DEMOGRAPHICS\",index=None)\n",
    "df2.to_excel(writer,sheet_name='REFERRAL',index=None)\n",
    "df3.to_excel(writer,sheet_name='IMAGING',index=None)\n",
    "df4.to_excel(writer,sheet_name='DIAGNOSIS',index=None)\n",
    "df5.to_excel(writer,sheet_name='CANCER CARE PLAN',index=None)\n",
    "df6.to_excel(writer,sheet_name='Staging',index=None)\n",
    "df7.to_excel(writer,sheet_name='Surgery&other procedures',index=None)\n",
    "df8.to_excel(writer,sheet_name='Pathology Details',index=None)\n",
    "writer.save()"
   ]
  },
  {
   "cell_type": "code",
   "execution_count": null,
   "metadata": {},
   "outputs": [],
   "source": []
  }
 ],
 "metadata": {
  "kernelspec": {
   "display_name": "Python 2",
   "language": "python",
   "name": "python2"
  },
  "language_info": {
   "codemirror_mode": {
    "name": "ipython",
    "version": 2
   },
   "file_extension": ".py",
   "mimetype": "text/x-python",
   "name": "python",
   "nbconvert_exporter": "python",
   "pygments_lexer": "ipython2",
   "version": "2.7.13"
  }
 },
 "nbformat": 4,
 "nbformat_minor": 2
}
